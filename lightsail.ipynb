{
  "nbformat": 4,
  "nbformat_minor": 0,
  "metadata": {
    "colab": {
      "private_outputs": true,
      "provenance": [],
      "authorship_tag": "ABX9TyN6WAp5lm6QRHcxTJEZN2kB",
      "include_colab_link": true
    },
    "kernelspec": {
      "name": "python3",
      "display_name": "Python 3"
    },
    "language_info": {
      "name": "python"
    }
  },
  "cells": [
    {
      "cell_type": "markdown",
      "metadata": {
        "id": "view-in-github",
        "colab_type": "text"
      },
      "source": [
        "<a href=\"https://colab.research.google.com/github/efwoods/EvanWoodsTwitter/blob/test/lightsail.ipynb\" target=\"_parent\"><img src=\"https://colab.research.google.com/assets/colab-badge.svg\" alt=\"Open In Colab\"/></a>"
      ]
    },
    {
      "cell_type": "code",
      "execution_count": null,
      "metadata": {
        "id": "hawsf4MCndp7"
      },
      "outputs": [],
      "source": [
        "mkdir lightsail-containers-flask && cd lightsail-containers-flask"
      ]
    },
    {
      "cell_type": "code",
      "source": [
        "from flask import Flask\n",
        "app = Flask(__name__)\n",
        "\n",
        "@app.route('/')\n",
        "def hello_world():\n",
        "  return \"Hello World!\"\n",
        "\n",
        "if __name__ == \"__main__\":\n",
        "  app.run(host='0.0.0.0', port=5000)\n"
      ],
      "metadata": {
        "id": "2vpDXrMwn0sh"
      },
      "execution_count": null,
      "outputs": []
    }
  ]
}