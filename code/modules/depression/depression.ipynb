{
 "cells": [
  {
   "cell_type": "markdown",
   "metadata": {},
   "source": [
    "## **Model Building - Approach**\n",
    "\n",
    "1. Data preparation.\n",
    "2. Partition the data into a train and test set.\n",
    "3. Build a model on the train data.\n",
    "4. Tune the model if required.\n",
    "5. Test the data on the test set."
   ]
  },
  {
   "attachments": {},
   "cell_type": "markdown",
   "metadata": {},
   "source": [
    "### **Importing the libraries and overview of the dataset**"
   ]
  },
  {
   "cell_type": "code",
   "execution_count": 438,
   "metadata": {},
   "outputs": [
    {
     "name": "stderr",
     "output_type": "stream",
     "text": [
      "[nltk_data] Downloading package stopwords to /Users/home/nltk_data...\n",
      "[nltk_data]   Package stopwords is already up-to-date!\n"
     ]
    }
   ],
   "source": [
    "import pandas as pd\n",
    "\n",
    "import numpy as np\n",
    "\n",
    "import matplotlib.pyplot as plt\n",
    "\n",
    "import seaborn as sns\n",
    "\n",
    "import sklearn\n",
    "import sklearn.ensemble\n",
    "\n",
    "# To scale the data using z-score\n",
    "from sklearn.preprocessing import StandardScaler\n",
    "\n",
    "from sklearn.model_selection import train_test_split\n",
    "\n",
    "# Algorithms to use\n",
    "from sklearn import tree\n",
    "\n",
    "from sklearn.tree import DecisionTreeClassifier\n",
    "\n",
    "from sklearn.ensemble import RandomForestClassifier\n",
    "\n",
    "# Metrics to evaluate the model\n",
    "from sklearn import metrics\n",
    "\n",
    "from sklearn.metrics import confusion_matrix, classification_report,recall_score,precision_score, accuracy_score\n",
    "\n",
    "# For tuning the model\n",
    "from sklearn.model_selection import GridSearchCV\n",
    "\n",
    "# To ignore warnings\n",
    "import warnings\n",
    "warnings.filterwarnings(\"ignore\")\n",
    "\n",
    "import copy\n",
    "import optuna\n",
    "import shap\n",
    "\n",
    "import wordcloud\n",
    "from wordcloud import WordCloud\n",
    "import matplotlib.pyplot as plt\n",
    "%matplotlib inline\n",
    "\n",
    "import re\n",
    "import nltk\n",
    "nltk.download('stopwords')\n",
    "import string\n",
    "\n",
    "\n",
    "from xgboost import XGBClassifier\n",
    "import xgboost as xgb\n",
    "from sklearn.ensemble import RandomForestClassifier \n",
    "from sklearn.linear_model import LogisticRegression \n",
    "from sklearn import svm\n",
    "from sklearn.metrics import accuracy_score\n",
    "from sklearn.model_selection import train_test_split\n",
    "from sklearn.feature_extraction.text import CountVectorizer\n"
   ]
  },
  {
   "cell_type": "code",
   "execution_count": 402,
   "metadata": {},
   "outputs": [],
   "source": [
    "\n",
    "# import lightgbm"
   ]
  },
  {
   "attachments": {},
   "cell_type": "markdown",
   "metadata": {},
   "source": [
    "### **Define Metrics**\n"
   ]
  },
  {
   "cell_type": "code",
   "execution_count": 635,
   "metadata": {},
   "outputs": [],
   "source": [
    "# Creating metric function\n",
    "\n",
    "def metrics_score(actual, predicted):\n",
    "    \n",
    "    print(classification_report(actual, predicted))\n",
    "    \n",
    "    cm = confusion_matrix(actual, predicted)\n",
    "    \n",
    "    plt.figure(figsize = (8, 5))\n",
    "    \n",
    "    sns.heatmap(cm, annot = True, fmt = '.2f', xticklabels = ['Negative', 'Positive'], yticklabels = ['False', 'True'])\n",
    "    plt.ylabel('Actual')\n",
    "    \n",
    "    plt.xlabel('Predicted')\n",
    "    \n",
    "    plt.show()"
   ]
  },
  {
   "cell_type": "code",
   "execution_count": 636,
   "metadata": {},
   "outputs": [],
   "source": [
    "def model_performance_classification(model, predictors, target):\n",
    "    \"\"\"\n",
    "    Function to compute different metrics to check classification model performance\n",
    "\n",
    "    model: classifier\n",
    "    \n",
    "    predictors: independent variables\n",
    "    \n",
    "    target: dependent variable\n",
    "    \"\"\"\n",
    "\n",
    "    # Predicting using the independent variables\n",
    "    pred = model.predict(predictors)\n",
    "\n",
    "    recall = recall_score(target, pred,average = 'macro')                 # To compute recall\n",
    "    \n",
    "    precision = precision_score(target, pred, average = 'macro')              # To compute precision\n",
    "               \n",
    "    acc = accuracy_score(target, pred)                                 # To compute accuracy score\n",
    "    \n",
    "\n",
    "    # Creating a dataframe of metrics\n",
    "    \n",
    "    df_perf = pd.DataFrame(\n",
    "        {\n",
    "            \"Precision\":  precision,\n",
    "            \"Recall\":  recall,\n",
    "            \"Accuracy\": acc,\n",
    "        },\n",
    "        \n",
    "        index = [0],\n",
    "    )\n",
    "\n",
    "    return df_perf"
   ]
  },
  {
   "attachments": {},
   "cell_type": "markdown",
   "metadata": {},
   "source": [
    "### **Loading the Dataset**"
   ]
  },
  {
   "cell_type": "code",
   "execution_count": 650,
   "metadata": {},
   "outputs": [
    {
     "data": {
      "text/html": [
       "<div>\n",
       "<style scoped>\n",
       "    .dataframe tbody tr th:only-of-type {\n",
       "        vertical-align: middle;\n",
       "    }\n",
       "\n",
       "    .dataframe tbody tr th {\n",
       "        vertical-align: top;\n",
       "    }\n",
       "\n",
       "    .dataframe thead th {\n",
       "        text-align: right;\n",
       "    }\n",
       "</style>\n",
       "<table border=\"1\" class=\"dataframe\">\n",
       "  <thead>\n",
       "    <tr style=\"text-align: right;\">\n",
       "      <th></th>\n",
       "      <th>0</th>\n",
       "      <th>1467810369</th>\n",
       "      <th>Mon Apr 06 22:19:45 PDT 2009</th>\n",
       "      <th>NO_QUERY</th>\n",
       "      <th>_TheSpecialOne_</th>\n",
       "      <th>@switchfoot http://twitpic.com/2y1zl - Awww, that's a bummer.  You shoulda got David Carr of Third Day to do it. ;D</th>\n",
       "    </tr>\n",
       "  </thead>\n",
       "  <tbody>\n",
       "    <tr>\n",
       "      <th>0</th>\n",
       "      <td>0</td>\n",
       "      <td>1467810672</td>\n",
       "      <td>Mon Apr 06 22:19:49 PDT 2009</td>\n",
       "      <td>NO_QUERY</td>\n",
       "      <td>scotthamilton</td>\n",
       "      <td>is upset that he can't update his Facebook by ...</td>\n",
       "    </tr>\n",
       "    <tr>\n",
       "      <th>1</th>\n",
       "      <td>0</td>\n",
       "      <td>1467810917</td>\n",
       "      <td>Mon Apr 06 22:19:53 PDT 2009</td>\n",
       "      <td>NO_QUERY</td>\n",
       "      <td>mattycus</td>\n",
       "      <td>@Kenichan I dived many times for the ball. Man...</td>\n",
       "    </tr>\n",
       "    <tr>\n",
       "      <th>2</th>\n",
       "      <td>0</td>\n",
       "      <td>1467811184</td>\n",
       "      <td>Mon Apr 06 22:19:57 PDT 2009</td>\n",
       "      <td>NO_QUERY</td>\n",
       "      <td>ElleCTF</td>\n",
       "      <td>my whole body feels itchy and like its on fire</td>\n",
       "    </tr>\n",
       "    <tr>\n",
       "      <th>3</th>\n",
       "      <td>0</td>\n",
       "      <td>1467811193</td>\n",
       "      <td>Mon Apr 06 22:19:57 PDT 2009</td>\n",
       "      <td>NO_QUERY</td>\n",
       "      <td>Karoli</td>\n",
       "      <td>@nationwideclass no, it's not behaving at all....</td>\n",
       "    </tr>\n",
       "    <tr>\n",
       "      <th>4</th>\n",
       "      <td>0</td>\n",
       "      <td>1467811372</td>\n",
       "      <td>Mon Apr 06 22:20:00 PDT 2009</td>\n",
       "      <td>NO_QUERY</td>\n",
       "      <td>joy_wolf</td>\n",
       "      <td>@Kwesidei not the whole crew</td>\n",
       "    </tr>\n",
       "  </tbody>\n",
       "</table>\n",
       "</div>"
      ],
      "text/plain": [
       "   0  1467810369  Mon Apr 06 22:19:45 PDT 2009  NO_QUERY _TheSpecialOne_  \\\n",
       "0  0  1467810672  Mon Apr 06 22:19:49 PDT 2009  NO_QUERY   scotthamilton   \n",
       "1  0  1467810917  Mon Apr 06 22:19:53 PDT 2009  NO_QUERY        mattycus   \n",
       "2  0  1467811184  Mon Apr 06 22:19:57 PDT 2009  NO_QUERY         ElleCTF   \n",
       "3  0  1467811193  Mon Apr 06 22:19:57 PDT 2009  NO_QUERY          Karoli   \n",
       "4  0  1467811372  Mon Apr 06 22:20:00 PDT 2009  NO_QUERY        joy_wolf   \n",
       "\n",
       "  @switchfoot http://twitpic.com/2y1zl - Awww, that's a bummer.  You shoulda got David Carr of Third Day to do it. ;D  \n",
       "0  is upset that he can't update his Facebook by ...                                                                   \n",
       "1  @Kenichan I dived many times for the ball. Man...                                                                   \n",
       "2    my whole body feels itchy and like its on fire                                                                    \n",
       "3  @nationwideclass no, it's not behaving at all....                                                                   \n",
       "4                      @Kwesidei not the whole crew                                                                    "
      ]
     },
     "execution_count": 650,
     "metadata": {},
     "output_type": "execute_result"
    }
   ],
   "source": [
    "data = pd.read_csv(\"./kaggle/input/sentiment140/training.1600000.processed.noemoticon.csv\",encoding='latin-1')\n",
    "data.head()"
   ]
  },
  {
   "attachments": {},
   "cell_type": "markdown",
   "metadata": {},
   "source": [
    "### **Dataset**¶\n",
    "We use the sentiment140 dataset. It contains 1,600,000 tweets extracted using the twitter api. The tweets have been annotated (0 = negative, 4 = positive) and they can be used to detect sentiment.\n",
    "\n",
    "It contains the following 6 fields:\n",
    "\n",
    "- target: the polarity of the tweet (0 = negative, 2 = neutral, 4 = positive)\n",
    "- ids: The id of the tweet ( 2087)\n",
    "- date: the date of the tweet (Sat May 16 23:58:44 UTC 2009)\n",
    "- flag: The query (lyx). If there is no query, then this value is NO_QUERY.\n",
    "- user: the user that tweeted (robotickilldozr)\n",
    "- text: the text of the tweet (Lyx is cool)"
   ]
  },
  {
   "attachments": {},
   "cell_type": "markdown",
   "metadata": {},
   "source": [
    "### **EDA**"
   ]
  },
  {
   "cell_type": "code",
   "execution_count": 651,
   "metadata": {},
   "outputs": [],
   "source": [
    "DATASET_COLUMNS = [\"target\", \"ids\", \"date\", \"flag\", \"user\", \"TweetText\"]\n",
    "data.columns = DATASET_COLUMNS"
   ]
  },
  {
   "cell_type": "code",
   "execution_count": 652,
   "metadata": {},
   "outputs": [
    {
     "data": {
      "text/plain": [
       "target        int64\n",
       "ids           int64\n",
       "date         object\n",
       "flag         object\n",
       "user         object\n",
       "TweetText    object\n",
       "dtype: object"
      ]
     },
     "execution_count": 652,
     "metadata": {},
     "output_type": "execute_result"
    }
   ],
   "source": [
    "data.dtypes"
   ]
  },
  {
   "cell_type": "code",
   "execution_count": 653,
   "metadata": {},
   "outputs": [
    {
     "name": "stdout",
     "output_type": "stream",
     "text": [
      "<class 'pandas.core.frame.DataFrame'>\n",
      "RangeIndex: 1599999 entries, 0 to 1599998\n",
      "Data columns (total 6 columns):\n",
      " #   Column     Non-Null Count    Dtype \n",
      "---  ------     --------------    ----- \n",
      " 0   target     1599999 non-null  int64 \n",
      " 1   ids        1599999 non-null  int64 \n",
      " 2   date       1599999 non-null  object\n",
      " 3   flag       1599999 non-null  object\n",
      " 4   user       1599999 non-null  object\n",
      " 5   TweetText  1599999 non-null  object\n",
      "dtypes: int64(2), object(4)\n",
      "memory usage: 73.2+ MB\n"
     ]
    }
   ],
   "source": [
    "data.info()"
   ]
  },
  {
   "cell_type": "code",
   "execution_count": 654,
   "metadata": {},
   "outputs": [
    {
     "data": {
      "text/plain": [
       "target             2\n",
       "ids          1598314\n",
       "date          774362\n",
       "flag               1\n",
       "user          659775\n",
       "TweetText    1581465\n",
       "dtype: int64"
      ]
     },
     "execution_count": 654,
     "metadata": {},
     "output_type": "execute_result"
    }
   ],
   "source": [
    "data.nunique()"
   ]
  },
  {
   "cell_type": "code",
   "execution_count": 655,
   "metadata": {},
   "outputs": [
    {
     "data": {
      "text/html": [
       "<div>\n",
       "<style scoped>\n",
       "    .dataframe tbody tr th:only-of-type {\n",
       "        vertical-align: middle;\n",
       "    }\n",
       "\n",
       "    .dataframe tbody tr th {\n",
       "        vertical-align: top;\n",
       "    }\n",
       "\n",
       "    .dataframe thead th {\n",
       "        text-align: right;\n",
       "    }\n",
       "</style>\n",
       "<table border=\"1\" class=\"dataframe\">\n",
       "  <thead>\n",
       "    <tr style=\"text-align: right;\">\n",
       "      <th></th>\n",
       "      <th>target</th>\n",
       "      <th>ids</th>\n",
       "      <th>date</th>\n",
       "      <th>flag</th>\n",
       "      <th>user</th>\n",
       "      <th>TweetText</th>\n",
       "    </tr>\n",
       "  </thead>\n",
       "  <tbody>\n",
       "    <tr>\n",
       "      <th>count</th>\n",
       "      <td>1.599999e+06</td>\n",
       "      <td>1.599999e+06</td>\n",
       "      <td>1599999</td>\n",
       "      <td>1599999</td>\n",
       "      <td>1599999</td>\n",
       "      <td>1599999</td>\n",
       "    </tr>\n",
       "    <tr>\n",
       "      <th>unique</th>\n",
       "      <td>NaN</td>\n",
       "      <td>NaN</td>\n",
       "      <td>774362</td>\n",
       "      <td>1</td>\n",
       "      <td>659775</td>\n",
       "      <td>1581465</td>\n",
       "    </tr>\n",
       "    <tr>\n",
       "      <th>top</th>\n",
       "      <td>NaN</td>\n",
       "      <td>NaN</td>\n",
       "      <td>Mon Jun 15 12:53:14 PDT 2009</td>\n",
       "      <td>NO_QUERY</td>\n",
       "      <td>lost_dog</td>\n",
       "      <td>isPlayer Has Died! Sorry</td>\n",
       "    </tr>\n",
       "    <tr>\n",
       "      <th>freq</th>\n",
       "      <td>NaN</td>\n",
       "      <td>NaN</td>\n",
       "      <td>20</td>\n",
       "      <td>1599999</td>\n",
       "      <td>549</td>\n",
       "      <td>210</td>\n",
       "    </tr>\n",
       "    <tr>\n",
       "      <th>mean</th>\n",
       "      <td>2.000001e+00</td>\n",
       "      <td>1.998818e+09</td>\n",
       "      <td>NaN</td>\n",
       "      <td>NaN</td>\n",
       "      <td>NaN</td>\n",
       "      <td>NaN</td>\n",
       "    </tr>\n",
       "    <tr>\n",
       "      <th>std</th>\n",
       "      <td>2.000001e+00</td>\n",
       "      <td>1.935757e+08</td>\n",
       "      <td>NaN</td>\n",
       "      <td>NaN</td>\n",
       "      <td>NaN</td>\n",
       "      <td>NaN</td>\n",
       "    </tr>\n",
       "    <tr>\n",
       "      <th>min</th>\n",
       "      <td>0.000000e+00</td>\n",
       "      <td>1.467811e+09</td>\n",
       "      <td>NaN</td>\n",
       "      <td>NaN</td>\n",
       "      <td>NaN</td>\n",
       "      <td>NaN</td>\n",
       "    </tr>\n",
       "    <tr>\n",
       "      <th>25%</th>\n",
       "      <td>0.000000e+00</td>\n",
       "      <td>1.956916e+09</td>\n",
       "      <td>NaN</td>\n",
       "      <td>NaN</td>\n",
       "      <td>NaN</td>\n",
       "      <td>NaN</td>\n",
       "    </tr>\n",
       "    <tr>\n",
       "      <th>50%</th>\n",
       "      <td>4.000000e+00</td>\n",
       "      <td>2.002102e+09</td>\n",
       "      <td>NaN</td>\n",
       "      <td>NaN</td>\n",
       "      <td>NaN</td>\n",
       "      <td>NaN</td>\n",
       "    </tr>\n",
       "    <tr>\n",
       "      <th>75%</th>\n",
       "      <td>4.000000e+00</td>\n",
       "      <td>2.177059e+09</td>\n",
       "      <td>NaN</td>\n",
       "      <td>NaN</td>\n",
       "      <td>NaN</td>\n",
       "      <td>NaN</td>\n",
       "    </tr>\n",
       "    <tr>\n",
       "      <th>max</th>\n",
       "      <td>4.000000e+00</td>\n",
       "      <td>2.329206e+09</td>\n",
       "      <td>NaN</td>\n",
       "      <td>NaN</td>\n",
       "      <td>NaN</td>\n",
       "      <td>NaN</td>\n",
       "    </tr>\n",
       "  </tbody>\n",
       "</table>\n",
       "</div>"
      ],
      "text/plain": [
       "              target           ids                          date      flag  \\\n",
       "count   1.599999e+06  1.599999e+06                       1599999   1599999   \n",
       "unique           NaN           NaN                        774362         1   \n",
       "top              NaN           NaN  Mon Jun 15 12:53:14 PDT 2009  NO_QUERY   \n",
       "freq             NaN           NaN                            20   1599999   \n",
       "mean    2.000001e+00  1.998818e+09                           NaN       NaN   \n",
       "std     2.000001e+00  1.935757e+08                           NaN       NaN   \n",
       "min     0.000000e+00  1.467811e+09                           NaN       NaN   \n",
       "25%     0.000000e+00  1.956916e+09                           NaN       NaN   \n",
       "50%     4.000000e+00  2.002102e+09                           NaN       NaN   \n",
       "75%     4.000000e+00  2.177059e+09                           NaN       NaN   \n",
       "max     4.000000e+00  2.329206e+09                           NaN       NaN   \n",
       "\n",
       "            user                  TweetText  \n",
       "count    1599999                    1599999  \n",
       "unique    659775                    1581465  \n",
       "top     lost_dog  isPlayer Has Died! Sorry   \n",
       "freq         549                        210  \n",
       "mean         NaN                        NaN  \n",
       "std          NaN                        NaN  \n",
       "min          NaN                        NaN  \n",
       "25%          NaN                        NaN  \n",
       "50%          NaN                        NaN  \n",
       "75%          NaN                        NaN  \n",
       "max          NaN                        NaN  "
      ]
     },
     "execution_count": 655,
     "metadata": {},
     "output_type": "execute_result"
    }
   ],
   "source": [
    "data.describe(include='all')"
   ]
  },
  {
   "attachments": {},
   "cell_type": "markdown",
   "metadata": {},
   "source": [
    "### **Data Preprocessing**"
   ]
  },
  {
   "cell_type": "code",
   "execution_count": 656,
   "metadata": {},
   "outputs": [],
   "source": [
    "data.drop(columns=['ids','date','flag','user'],inplace=True)"
   ]
  },
  {
   "cell_type": "code",
   "execution_count": 657,
   "metadata": {},
   "outputs": [
    {
     "name": "stdout",
     "output_type": "stream",
     "text": [
      "(1000, 2)\n",
      "(1000, 2)\n",
      "(2000, 2)\n"
     ]
    },
    {
     "data": {
      "text/html": [
       "<div>\n",
       "<style scoped>\n",
       "    .dataframe tbody tr th:only-of-type {\n",
       "        vertical-align: middle;\n",
       "    }\n",
       "\n",
       "    .dataframe tbody tr th {\n",
       "        vertical-align: top;\n",
       "    }\n",
       "\n",
       "    .dataframe thead th {\n",
       "        text-align: right;\n",
       "    }\n",
       "</style>\n",
       "<table border=\"1\" class=\"dataframe\">\n",
       "  <thead>\n",
       "    <tr style=\"text-align: right;\">\n",
       "      <th></th>\n",
       "      <th>target</th>\n",
       "      <th>TweetText</th>\n",
       "    </tr>\n",
       "  </thead>\n",
       "  <tbody>\n",
       "    <tr>\n",
       "      <th>809999</th>\n",
       "      <td>4</td>\n",
       "      <td>Have a gig in Northampton at the racehorse tmw...</td>\n",
       "    </tr>\n",
       "    <tr>\n",
       "      <th>810000</th>\n",
       "      <td>4</td>\n",
       "      <td>Slept in for an extra 30  in Alviso http://loo...</td>\n",
       "    </tr>\n",
       "    <tr>\n",
       "      <th>810001</th>\n",
       "      <td>4</td>\n",
       "      <td>@chickbot Kinda like status updates</td>\n",
       "    </tr>\n",
       "    <tr>\n",
       "      <th>810002</th>\n",
       "      <td>4</td>\n",
       "      <td>99 thieving last night</td>\n",
       "    </tr>\n",
       "    <tr>\n",
       "      <th>810003</th>\n",
       "      <td>4</td>\n",
       "      <td>off to SAT prep</td>\n",
       "    </tr>\n",
       "  </tbody>\n",
       "</table>\n",
       "</div>"
      ],
      "text/plain": [
       "        target                                          TweetText\n",
       "809999       4  Have a gig in Northampton at the racehorse tmw...\n",
       "810000       4  Slept in for an extra 30  in Alviso http://loo...\n",
       "810001       4               @chickbot Kinda like status updates \n",
       "810002       4                            99 thieving last night \n",
       "810003       4                                   off to SAT prep "
      ]
     },
     "execution_count": 657,
     "metadata": {},
     "output_type": "execute_result"
    }
   ],
   "source": [
    "base = 10000\n",
    "n_samples = 1000\n",
    "\n",
    "positif_data = data[data.target==4].iloc[base:base+n_samples,:]\n",
    "print(positif_data.shape)\n",
    "negative_data = data[data.target==0].iloc[base:base+n_samples,:]\n",
    "print(negative_data.shape)\n",
    "data = pd.concat([positif_data,negative_data],axis = 0)\n",
    "print(data.shape)\n",
    "data.head()"
   ]
  },
  {
   "cell_type": "code",
   "execution_count": 658,
   "metadata": {},
   "outputs": [
    {
     "data": {
      "text/html": [
       "<div>\n",
       "<style scoped>\n",
       "    .dataframe tbody tr th:only-of-type {\n",
       "        vertical-align: middle;\n",
       "    }\n",
       "\n",
       "    .dataframe tbody tr th {\n",
       "        vertical-align: top;\n",
       "    }\n",
       "\n",
       "    .dataframe thead th {\n",
       "        text-align: right;\n",
       "    }\n",
       "</style>\n",
       "<table border=\"1\" class=\"dataframe\">\n",
       "  <thead>\n",
       "    <tr style=\"text-align: right;\">\n",
       "      <th></th>\n",
       "      <th>target</th>\n",
       "      <th>TweetText</th>\n",
       "      <th>Clean_TweetText</th>\n",
       "    </tr>\n",
       "  </thead>\n",
       "  <tbody>\n",
       "    <tr>\n",
       "      <th>809999</th>\n",
       "      <td>4</td>\n",
       "      <td>Have a gig in Northampton at the racehorse tmw...</td>\n",
       "      <td>gig northampton racehorse tmw night</td>\n",
       "    </tr>\n",
       "    <tr>\n",
       "      <th>810000</th>\n",
       "      <td>4</td>\n",
       "      <td>Slept in for an extra 30  in Alviso http://loo...</td>\n",
       "      <td>slept extra alviso</td>\n",
       "    </tr>\n",
       "    <tr>\n",
       "      <th>810001</th>\n",
       "      <td>4</td>\n",
       "      <td>@chickbot Kinda like status updates</td>\n",
       "      <td>chickbot kinda like status updates</td>\n",
       "    </tr>\n",
       "    <tr>\n",
       "      <th>810002</th>\n",
       "      <td>4</td>\n",
       "      <td>99 thieving last night</td>\n",
       "      <td>thieving last night</td>\n",
       "    </tr>\n",
       "    <tr>\n",
       "      <th>810003</th>\n",
       "      <td>4</td>\n",
       "      <td>off to SAT prep</td>\n",
       "      <td>sat prep</td>\n",
       "    </tr>\n",
       "  </tbody>\n",
       "</table>\n",
       "</div>"
      ],
      "text/plain": [
       "        target                                          TweetText  \\\n",
       "809999       4  Have a gig in Northampton at the racehorse tmw...   \n",
       "810000       4  Slept in for an extra 30  in Alviso http://loo...   \n",
       "810001       4               @chickbot Kinda like status updates    \n",
       "810002       4                            99 thieving last night    \n",
       "810003       4                                   off to SAT prep    \n",
       "\n",
       "                            Clean_TweetText  \n",
       "809999  gig northampton racehorse tmw night  \n",
       "810000                   slept extra alviso  \n",
       "810001   chickbot kinda like status updates  \n",
       "810002                  thieving last night  \n",
       "810003                             sat prep  "
      ]
     },
     "execution_count": 658,
     "metadata": {},
     "output_type": "execute_result"
    }
   ],
   "source": [
    "\n",
    "# Removing Twitter Handles (@user)\n",
    "data['Clean_TweetText'] = data['TweetText'].str.replace(\"@\", \"\") \n",
    "# Removing links\n",
    "data['Clean_TweetText'] = data['Clean_TweetText'].str.replace(r\"http\\S+\", \"\") \n",
    "# Removing Punctuations, Numbers, and Special Characters\n",
    "data['Clean_TweetText'] = data['Clean_TweetText'].str.replace(\"[^a-zA-Z]\", \" \") \n",
    "# Remove stop words\n",
    "\n",
    "stopwords=nltk.corpus.stopwords.words('english')\n",
    "def remove_stopwords(text):\n",
    "    clean_text=' '.join([word for word in text.split() if word not in stopwords])\n",
    "    return clean_text\n",
    "data['Clean_TweetText'] = data['Clean_TweetText'].apply(lambda text : remove_stopwords(text.lower()))\n",
    "data.head()"
   ]
  },
  {
   "cell_type": "code",
   "execution_count": 168,
   "metadata": {},
   "outputs": [],
   "source": [
    "\n",
    "#\n",
    "\n"
   ]
  },
  {
   "cell_type": "code",
   "execution_count": 169,
   "metadata": {},
   "outputs": [
    {
     "data": {
      "text/html": [
       "<div>\n",
       "<style scoped>\n",
       "    .dataframe tbody tr th:only-of-type {\n",
       "        vertical-align: middle;\n",
       "    }\n",
       "\n",
       "    .dataframe tbody tr th {\n",
       "        vertical-align: top;\n",
       "    }\n",
       "\n",
       "    .dataframe thead th {\n",
       "        text-align: right;\n",
       "    }\n",
       "</style>\n",
       "<table border=\"1\" class=\"dataframe\">\n",
       "  <thead>\n",
       "    <tr style=\"text-align: right;\">\n",
       "      <th></th>\n",
       "      <th>target</th>\n",
       "      <th>ids</th>\n",
       "      <th>date</th>\n",
       "      <th>flag</th>\n",
       "      <th>user</th>\n",
       "      <th>TweetText</th>\n",
       "      <th>Clean_TweetText</th>\n",
       "    </tr>\n",
       "  </thead>\n",
       "  <tbody>\n",
       "    <tr>\n",
       "      <th>799999</th>\n",
       "      <td>1</td>\n",
       "      <td>1467822272</td>\n",
       "      <td>Mon Apr 06 22:22:45 PDT 2009</td>\n",
       "      <td>NO_QUERY</td>\n",
       "      <td>ersle</td>\n",
       "      <td>I LOVE @Health4UandPets u guys r the best!!</td>\n",
       "      <td>love health uandpets guys best</td>\n",
       "    </tr>\n",
       "    <tr>\n",
       "      <th>800000</th>\n",
       "      <td>1</td>\n",
       "      <td>1467822273</td>\n",
       "      <td>Mon Apr 06 22:22:45 PDT 2009</td>\n",
       "      <td>NO_QUERY</td>\n",
       "      <td>becca210</td>\n",
       "      <td>im meeting up with one of my besties tonight! ...</td>\n",
       "      <td>meeting besties tonight cant wait girl talk</td>\n",
       "    </tr>\n",
       "    <tr>\n",
       "      <th>800001</th>\n",
       "      <td>1</td>\n",
       "      <td>1467822283</td>\n",
       "      <td>Mon Apr 06 22:22:46 PDT 2009</td>\n",
       "      <td>NO_QUERY</td>\n",
       "      <td>Wingman29</td>\n",
       "      <td>@DaRealSunisaKim Thanks for the Twitter add, S...</td>\n",
       "      <td>darealsunisakim thanks twitter sunisa meet sho...</td>\n",
       "    </tr>\n",
       "    <tr>\n",
       "      <th>800002</th>\n",
       "      <td>1</td>\n",
       "      <td>1467822287</td>\n",
       "      <td>Mon Apr 06 22:22:46 PDT 2009</td>\n",
       "      <td>NO_QUERY</td>\n",
       "      <td>katarinka</td>\n",
       "      <td>Being sick can be really cheap when it hurts t...</td>\n",
       "      <td>sick really cheap hurts much real food plus fr...</td>\n",
       "    </tr>\n",
       "    <tr>\n",
       "      <th>800003</th>\n",
       "      <td>1</td>\n",
       "      <td>1467822293</td>\n",
       "      <td>Mon Apr 06 22:22:46 PDT 2009</td>\n",
       "      <td>NO_QUERY</td>\n",
       "      <td>_EmilyYoung</td>\n",
       "      <td>@LovesBrooklyn2 he has that effect on everyone</td>\n",
       "      <td>lovesbrooklyn effect everyone</td>\n",
       "    </tr>\n",
       "  </tbody>\n",
       "</table>\n",
       "</div>"
      ],
      "text/plain": [
       "        target         ids                          date      flag  \\\n",
       "799999       1  1467822272  Mon Apr 06 22:22:45 PDT 2009  NO_QUERY   \n",
       "800000       1  1467822273  Mon Apr 06 22:22:45 PDT 2009  NO_QUERY   \n",
       "800001       1  1467822283  Mon Apr 06 22:22:46 PDT 2009  NO_QUERY   \n",
       "800002       1  1467822287  Mon Apr 06 22:22:46 PDT 2009  NO_QUERY   \n",
       "800003       1  1467822293  Mon Apr 06 22:22:46 PDT 2009  NO_QUERY   \n",
       "\n",
       "               user                                          TweetText  \\\n",
       "799999        ersle       I LOVE @Health4UandPets u guys r the best!!    \n",
       "800000     becca210  im meeting up with one of my besties tonight! ...   \n",
       "800001    Wingman29  @DaRealSunisaKim Thanks for the Twitter add, S...   \n",
       "800002    katarinka  Being sick can be really cheap when it hurts t...   \n",
       "800003  _EmilyYoung    @LovesBrooklyn2 he has that effect on everyone    \n",
       "\n",
       "                                          Clean_TweetText  \n",
       "799999                     love health uandpets guys best  \n",
       "800000        meeting besties tonight cant wait girl talk  \n",
       "800001  darealsunisakim thanks twitter sunisa meet sho...  \n",
       "800002  sick really cheap hurts much real food plus fr...  \n",
       "800003                      lovesbrooklyn effect everyone  "
      ]
     },
     "execution_count": 169,
     "metadata": {},
     "output_type": "execute_result"
    }
   ],
   "source": [
    "\n",
    "\n"
   ]
  },
  {
   "cell_type": "code",
   "execution_count": 659,
   "metadata": {},
   "outputs": [
    {
     "data": {
      "text/html": [
       "<div>\n",
       "<style scoped>\n",
       "    .dataframe tbody tr th:only-of-type {\n",
       "        vertical-align: middle;\n",
       "    }\n",
       "\n",
       "    .dataframe tbody tr th {\n",
       "        vertical-align: top;\n",
       "    }\n",
       "\n",
       "    .dataframe thead th {\n",
       "        text-align: right;\n",
       "    }\n",
       "</style>\n",
       "<table border=\"1\" class=\"dataframe\">\n",
       "  <thead>\n",
       "    <tr style=\"text-align: right;\">\n",
       "      <th></th>\n",
       "      <th>target</th>\n",
       "      <th>TweetText</th>\n",
       "      <th>Clean_TweetText</th>\n",
       "    </tr>\n",
       "  </thead>\n",
       "  <tbody>\n",
       "    <tr>\n",
       "      <th>809999</th>\n",
       "      <td>4</td>\n",
       "      <td>Have a gig in Northampton at the racehorse tmw...</td>\n",
       "      <td>[gig, northampton, racehorse, tmw, night]</td>\n",
       "    </tr>\n",
       "    <tr>\n",
       "      <th>810000</th>\n",
       "      <td>4</td>\n",
       "      <td>Slept in for an extra 30  in Alviso http://loo...</td>\n",
       "      <td>[slept, extra, alviso]</td>\n",
       "    </tr>\n",
       "    <tr>\n",
       "      <th>810001</th>\n",
       "      <td>4</td>\n",
       "      <td>@chickbot Kinda like status updates</td>\n",
       "      <td>[chickbot, kinda, like, status, updates]</td>\n",
       "    </tr>\n",
       "    <tr>\n",
       "      <th>810002</th>\n",
       "      <td>4</td>\n",
       "      <td>99 thieving last night</td>\n",
       "      <td>[thieving, last, night]</td>\n",
       "    </tr>\n",
       "    <tr>\n",
       "      <th>810003</th>\n",
       "      <td>4</td>\n",
       "      <td>off to SAT prep</td>\n",
       "      <td>[sat, prep]</td>\n",
       "    </tr>\n",
       "  </tbody>\n",
       "</table>\n",
       "</div>"
      ],
      "text/plain": [
       "        target                                          TweetText  \\\n",
       "809999       4  Have a gig in Northampton at the racehorse tmw...   \n",
       "810000       4  Slept in for an extra 30  in Alviso http://loo...   \n",
       "810001       4               @chickbot Kinda like status updates    \n",
       "810002       4                            99 thieving last night    \n",
       "810003       4                                   off to SAT prep    \n",
       "\n",
       "                                  Clean_TweetText  \n",
       "809999  [gig, northampton, racehorse, tmw, night]  \n",
       "810000                     [slept, extra, alviso]  \n",
       "810001   [chickbot, kinda, like, status, updates]  \n",
       "810002                    [thieving, last, night]  \n",
       "810003                                [sat, prep]  "
      ]
     },
     "execution_count": 659,
     "metadata": {},
     "output_type": "execute_result"
    }
   ],
   "source": [
    "# Text Tokenization and Normalization\n",
    "data['Clean_TweetText'] = data['Clean_TweetText'].apply(lambda x: nltk.word_tokenize(x))\n",
    "data.head()"
   ]
  },
  {
   "cell_type": "code",
   "execution_count": 660,
   "metadata": {},
   "outputs": [
    {
     "data": {
      "text/html": [
       "<div>\n",
       "<style scoped>\n",
       "    .dataframe tbody tr th:only-of-type {\n",
       "        vertical-align: middle;\n",
       "    }\n",
       "\n",
       "    .dataframe tbody tr th {\n",
       "        vertical-align: top;\n",
       "    }\n",
       "\n",
       "    .dataframe thead th {\n",
       "        text-align: right;\n",
       "    }\n",
       "</style>\n",
       "<table border=\"1\" class=\"dataframe\">\n",
       "  <thead>\n",
       "    <tr style=\"text-align: right;\">\n",
       "      <th></th>\n",
       "      <th>target</th>\n",
       "      <th>TweetText</th>\n",
       "      <th>Clean_TweetText</th>\n",
       "    </tr>\n",
       "  </thead>\n",
       "  <tbody>\n",
       "    <tr>\n",
       "      <th>809999</th>\n",
       "      <td>4</td>\n",
       "      <td>Have a gig in Northampton at the racehorse tmw...</td>\n",
       "      <td>northampton racehorse night</td>\n",
       "    </tr>\n",
       "    <tr>\n",
       "      <th>810000</th>\n",
       "      <td>4</td>\n",
       "      <td>Slept in for an extra 30  in Alviso http://loo...</td>\n",
       "      <td>slept extra alviso</td>\n",
       "    </tr>\n",
       "    <tr>\n",
       "      <th>810001</th>\n",
       "      <td>4</td>\n",
       "      <td>@chickbot Kinda like status updates</td>\n",
       "      <td>chickbot kinda like status updates</td>\n",
       "    </tr>\n",
       "    <tr>\n",
       "      <th>810002</th>\n",
       "      <td>4</td>\n",
       "      <td>99 thieving last night</td>\n",
       "      <td>thieving last night</td>\n",
       "    </tr>\n",
       "    <tr>\n",
       "      <th>810003</th>\n",
       "      <td>4</td>\n",
       "      <td>off to SAT prep</td>\n",
       "      <td>prep</td>\n",
       "    </tr>\n",
       "  </tbody>\n",
       "</table>\n",
       "</div>"
      ],
      "text/plain": [
       "        target                                          TweetText  \\\n",
       "809999       4  Have a gig in Northampton at the racehorse tmw...   \n",
       "810000       4  Slept in for an extra 30  in Alviso http://loo...   \n",
       "810001       4               @chickbot Kinda like status updates    \n",
       "810002       4                            99 thieving last night    \n",
       "810003       4                                   off to SAT prep    \n",
       "\n",
       "                           Clean_TweetText  \n",
       "809999         northampton racehorse night  \n",
       "810000                  slept extra alviso  \n",
       "810001  chickbot kinda like status updates  \n",
       "810002                 thieving last night  \n",
       "810003                                prep  "
      ]
     },
     "execution_count": 660,
     "metadata": {},
     "output_type": "execute_result"
    }
   ],
   "source": [
    "# Now let’s stitch these tokens back together\n",
    "data['Clean_TweetText'] = data['Clean_TweetText'].apply(lambda x: ' '.join([w for w in x]))\n",
    "# Removing small words\n",
    "data['Clean_TweetText'] = data['Clean_TweetText'].apply(lambda x: ' '.join([w for w in x.split() if len(w)>3]))\n",
    "data.head()"
   ]
  },
  {
   "cell_type": "code",
   "execution_count": 661,
   "metadata": {},
   "outputs": [
    {
     "data": {
      "text/html": [
       "<div>\n",
       "<style scoped>\n",
       "    .dataframe tbody tr th:only-of-type {\n",
       "        vertical-align: middle;\n",
       "    }\n",
       "\n",
       "    .dataframe tbody tr th {\n",
       "        vertical-align: top;\n",
       "    }\n",
       "\n",
       "    .dataframe thead th {\n",
       "        text-align: right;\n",
       "    }\n",
       "</style>\n",
       "<table border=\"1\" class=\"dataframe\">\n",
       "  <thead>\n",
       "    <tr style=\"text-align: right;\">\n",
       "      <th></th>\n",
       "      <th>target</th>\n",
       "      <th>TweetText</th>\n",
       "      <th>Clean_TweetText</th>\n",
       "    </tr>\n",
       "  </thead>\n",
       "  <tbody>\n",
       "    <tr>\n",
       "      <th>809999</th>\n",
       "      <td>1</td>\n",
       "      <td>Have a gig in Northampton at the racehorse tmw...</td>\n",
       "      <td>northampton racehorse night</td>\n",
       "    </tr>\n",
       "    <tr>\n",
       "      <th>810000</th>\n",
       "      <td>1</td>\n",
       "      <td>Slept in for an extra 30  in Alviso http://loo...</td>\n",
       "      <td>slept extra alviso</td>\n",
       "    </tr>\n",
       "    <tr>\n",
       "      <th>810001</th>\n",
       "      <td>1</td>\n",
       "      <td>@chickbot Kinda like status updates</td>\n",
       "      <td>chickbot kinda like status updates</td>\n",
       "    </tr>\n",
       "    <tr>\n",
       "      <th>810002</th>\n",
       "      <td>1</td>\n",
       "      <td>99 thieving last night</td>\n",
       "      <td>thieving last night</td>\n",
       "    </tr>\n",
       "    <tr>\n",
       "      <th>810003</th>\n",
       "      <td>1</td>\n",
       "      <td>off to SAT prep</td>\n",
       "      <td>prep</td>\n",
       "    </tr>\n",
       "  </tbody>\n",
       "</table>\n",
       "</div>"
      ],
      "text/plain": [
       "        target                                          TweetText  \\\n",
       "809999       1  Have a gig in Northampton at the racehorse tmw...   \n",
       "810000       1  Slept in for an extra 30  in Alviso http://loo...   \n",
       "810001       1               @chickbot Kinda like status updates    \n",
       "810002       1                            99 thieving last night    \n",
       "810003       1                                   off to SAT prep    \n",
       "\n",
       "                           Clean_TweetText  \n",
       "809999         northampton racehorse night  \n",
       "810000                  slept extra alviso  \n",
       "810001  chickbot kinda like status updates  \n",
       "810002                 thieving last night  \n",
       "810003                                prep  "
      ]
     },
     "execution_count": 661,
     "metadata": {},
     "output_type": "execute_result"
    }
   ],
   "source": [
    "\n",
    "# Map target to 4 to 1\n",
    "data['target'].replace(4,1,inplace=True)\n",
    "data.head()\n",
    "\n"
   ]
  },
  {
   "cell_type": "code",
   "execution_count": 662,
   "metadata": {},
   "outputs": [],
   "source": [
    "data.drop(columns=['TweetText'],inplace=True)"
   ]
  },
  {
   "cell_type": "code",
   "execution_count": 270,
   "metadata": {},
   "outputs": [
    {
     "ename": "ValueError",
     "evalue": "max_evals=500 is too low for the Permutation explainer, it must be at least 2 * num_features + 1 = 2401!",
     "output_type": "error",
     "traceback": [
      "\u001b[0;31m---------------------------------------------------------------------------\u001b[0m",
      "\u001b[0;31mValueError\u001b[0m                                Traceback (most recent call last)",
      "Cell \u001b[0;32mIn [270], line 3\u001b[0m\n\u001b[1;32m      1\u001b[0m explainer \u001b[39m=\u001b[39m shap\u001b[39m.\u001b[39mExplainer(CountVectorizer)\n\u001b[1;32m      2\u001b[0m \u001b[39m# explain the predictions of the pipeline on the first two samples\u001b[39;00m\n\u001b[0;32m----> 3\u001b[0m shap_values \u001b[39m=\u001b[39m explainer(cv)\n",
      "File \u001b[0;32m/opt/homebrew/lib/python3.10/site-packages/shap/explainers/_permutation.py:82\u001b[0m, in \u001b[0;36mPermutation.__call__\u001b[0;34m(self, max_evals, main_effects, error_bounds, batch_size, outputs, silent, *args)\u001b[0m\n\u001b[1;32m     78\u001b[0m \u001b[39mdef\u001b[39;00m \u001b[39m__call__\u001b[39m(\u001b[39mself\u001b[39m, \u001b[39m*\u001b[39margs, max_evals\u001b[39m=\u001b[39m\u001b[39m500\u001b[39m, main_effects\u001b[39m=\u001b[39m\u001b[39mFalse\u001b[39;00m, error_bounds\u001b[39m=\u001b[39m\u001b[39mFalse\u001b[39;00m, batch_size\u001b[39m=\u001b[39m\u001b[39m\"\u001b[39m\u001b[39mauto\u001b[39m\u001b[39m\"\u001b[39m,\n\u001b[1;32m     79\u001b[0m              outputs\u001b[39m=\u001b[39m\u001b[39mNone\u001b[39;00m, silent\u001b[39m=\u001b[39m\u001b[39mFalse\u001b[39;00m):\n\u001b[1;32m     80\u001b[0m     \u001b[39m\"\"\" Explain the output of the model on the given arguments.\u001b[39;00m\n\u001b[1;32m     81\u001b[0m \u001b[39m    \"\"\"\u001b[39;00m\n\u001b[0;32m---> 82\u001b[0m     \u001b[39mreturn\u001b[39;00m \u001b[39msuper\u001b[39;49m()\u001b[39m.\u001b[39;49m\u001b[39m__call__\u001b[39;49m(\n\u001b[1;32m     83\u001b[0m         \u001b[39m*\u001b[39;49margs, max_evals\u001b[39m=\u001b[39;49mmax_evals, main_effects\u001b[39m=\u001b[39;49mmain_effects, error_bounds\u001b[39m=\u001b[39;49merror_bounds, batch_size\u001b[39m=\u001b[39;49mbatch_size,\n\u001b[1;32m     84\u001b[0m         outputs\u001b[39m=\u001b[39;49moutputs, silent\u001b[39m=\u001b[39;49msilent\n\u001b[1;32m     85\u001b[0m     )\n",
      "File \u001b[0;32m/opt/homebrew/lib/python3.10/site-packages/shap/explainers/_explainer.py:266\u001b[0m, in \u001b[0;36mExplainer.__call__\u001b[0;34m(self, max_evals, main_effects, error_bounds, batch_size, outputs, silent, *args, **kwargs)\u001b[0m\n\u001b[1;32m    264\u001b[0m     feature_names \u001b[39m=\u001b[39m [[] \u001b[39mfor\u001b[39;00m _ \u001b[39min\u001b[39;00m \u001b[39mrange\u001b[39m(\u001b[39mlen\u001b[39m(args))]\n\u001b[1;32m    265\u001b[0m \u001b[39mfor\u001b[39;00m row_args \u001b[39min\u001b[39;00m show_progress(\u001b[39mzip\u001b[39m(\u001b[39m*\u001b[39margs), num_rows, \u001b[39mself\u001b[39m\u001b[39m.\u001b[39m\u001b[39m__class__\u001b[39m\u001b[39m.\u001b[39m\u001b[39m__name__\u001b[39m\u001b[39m+\u001b[39m\u001b[39m\"\u001b[39m\u001b[39m explainer\u001b[39m\u001b[39m\"\u001b[39m, silent):\n\u001b[0;32m--> 266\u001b[0m     row_result \u001b[39m=\u001b[39m \u001b[39mself\u001b[39;49m\u001b[39m.\u001b[39;49mexplain_row(\n\u001b[1;32m    267\u001b[0m         \u001b[39m*\u001b[39;49mrow_args, max_evals\u001b[39m=\u001b[39;49mmax_evals, main_effects\u001b[39m=\u001b[39;49mmain_effects, error_bounds\u001b[39m=\u001b[39;49merror_bounds,\n\u001b[1;32m    268\u001b[0m         batch_size\u001b[39m=\u001b[39;49mbatch_size, outputs\u001b[39m=\u001b[39;49moutputs, silent\u001b[39m=\u001b[39;49msilent, \u001b[39m*\u001b[39;49m\u001b[39m*\u001b[39;49mkwargs\n\u001b[1;32m    269\u001b[0m     )\n\u001b[1;32m    270\u001b[0m     values\u001b[39m.\u001b[39mappend(row_result\u001b[39m.\u001b[39mget(\u001b[39m\"\u001b[39m\u001b[39mvalues\u001b[39m\u001b[39m\"\u001b[39m, \u001b[39mNone\u001b[39;00m))\n\u001b[1;32m    271\u001b[0m     output_indices\u001b[39m.\u001b[39mappend(row_result\u001b[39m.\u001b[39mget(\u001b[39m\"\u001b[39m\u001b[39moutput_indices\u001b[39m\u001b[39m\"\u001b[39m, \u001b[39mNone\u001b[39;00m))\n",
      "File \u001b[0;32m/opt/homebrew/lib/python3.10/site-packages/shap/explainers/_permutation.py:164\u001b[0m, in \u001b[0;36mPermutation.explain_row\u001b[0;34m(self, max_evals, main_effects, error_bounds, batch_size, outputs, silent, *row_args)\u001b[0m\n\u001b[1;32m    161\u001b[0m     history_pos \u001b[39m+\u001b[39m\u001b[39m=\u001b[39m \u001b[39m1\u001b[39m\n\u001b[1;32m    163\u001b[0m \u001b[39mif\u001b[39;00m npermutations \u001b[39m==\u001b[39m \u001b[39m0\u001b[39m:\n\u001b[0;32m--> 164\u001b[0m     \u001b[39mraise\u001b[39;00m \u001b[39mValueError\u001b[39;00m(\u001b[39mf\u001b[39m\u001b[39m\"\u001b[39m\u001b[39mmax_evals=\u001b[39m\u001b[39m{\u001b[39;00mmax_evals\u001b[39m}\u001b[39;00m\u001b[39m is too low for the Permutation explainer, it must be at least 2 * num_features + 1 = \u001b[39m\u001b[39m{\u001b[39;00m\u001b[39m2\u001b[39m \u001b[39m*\u001b[39m \u001b[39mlen\u001b[39m(inds) \u001b[39m+\u001b[39m \u001b[39m1\u001b[39m\u001b[39m}\u001b[39;00m\u001b[39m!\u001b[39m\u001b[39m\"\u001b[39m)\n\u001b[1;32m    166\u001b[0m expected_value \u001b[39m=\u001b[39m outputs[\u001b[39m0\u001b[39m]\n\u001b[1;32m    168\u001b[0m \u001b[39m# compute the main effects if we need to\u001b[39;00m\n",
      "\u001b[0;31mValueError\u001b[0m: max_evals=500 is too low for the Permutation explainer, it must be at least 2 * num_features + 1 = 2401!"
     ]
    }
   ],
   "source": []
  },
  {
   "cell_type": "code",
   "execution_count": 305,
   "metadata": {},
   "outputs": [
    {
     "ename": "SyntaxError",
     "evalue": "incomplete input (1193948655.py, line 1)",
     "output_type": "error",
     "traceback": [
      "\u001b[0;36m  Cell \u001b[0;32mIn [305], line 1\u001b[0;36m\u001b[0m\n\u001b[0;31m    print(cv[0,:]\u001b[0m\n\u001b[0m                 ^\u001b[0m\n\u001b[0;31mSyntaxError\u001b[0m\u001b[0;31m:\u001b[0m incomplete input\n"
     ]
    }
   ],
   "source": [
    "print(cv[0,:]"
   ]
  },
  {
   "cell_type": "code",
   "execution_count": null,
   "metadata": {},
   "outputs": [],
   "source": []
  },
  {
   "attachments": {},
   "cell_type": "markdown",
   "metadata": {},
   "source": [
    "### **Building the Random Forest Classifier**\n",
    "\n",
    "**Random Forest is a bagging algorithm where the base models are Decision Trees.** Samples are taken from the training data and on each sample, a decision tree makes a prediction. \n",
    "\n",
    "**The results from all the decision trees are combined and the final prediction is made using voting (for classification problems) or averaging (for regression problems).**"
   ]
  },
  {
   "cell_type": "code",
   "execution_count": 663,
   "metadata": {},
   "outputs": [
    {
     "data": {
      "text/plain": [
       "(2000, 4845)"
      ]
     },
     "execution_count": 663,
     "metadata": {},
     "output_type": "execute_result"
    }
   ],
   "source": [
    "count_vectorizer = CountVectorizer(stop_words='english') \n",
    "cv = count_vectorizer.fit_transform(data['Clean_TweetText'])\n",
    "cv.shape"
   ]
  },
  {
   "cell_type": "code",
   "execution_count": 456,
   "metadata": {},
   "outputs": [],
   "source": [
    "x_train,x_test,y_train,y_test = train_test_split(cv,data['target'] , test_size=.2,stratify=data['target'], random_state=42)"
   ]
  },
  {
   "cell_type": "code",
   "execution_count": 664,
   "metadata": {},
   "outputs": [],
   "source": [
    "# 1. Define an objective function to be maximized.\n",
    "\n",
    "# FYI: Objective functions can take additional arguments\n",
    "# (https://optuna.readthedocs.io/en/stable/faq.html#objective-func-additional-args).\n",
    "def objective(trial):\n",
    "    # iris = sklearn.datasets.load_iris()\n",
    "    # x, y = iris.data, iris.target\n",
    "    x_train,x_test,y_train,y_test = train_test_split(cv,data['target'] , test_size=.2,stratify=data['target'], random_state=42)\n",
    "    x = x_train\n",
    "    y = y_train\n",
    "\n",
    "    classifier_name = trial.suggest_categorical(\"classifier\", [\"RandomForest\"])\n",
    "    # rf_criterion = trial.suggest_categorical('rf_criterion',['gini', 'entropy', 'log_loss'])\n",
    "    # rf_n_estimators = trial.suggest_int(\"rf_n_estimators\",100,1000, log=False)\n",
    "    # rf_max_depth = trial.suggest_int(\"rf_max_depth\", 2, 100, log=False)\n",
    "    # rf_min_samples_split = trial.suggest_int(\"rf_min_samples_split\", 2, 5, log=False)\n",
    "    # rf_min_samples_leaf = trial.suggest_int(\"rf_min_samples_leaf\",1,500, log=False)\n",
    "    # rf_max_leaf_nodes = trial.suggest_int(\"rf_max_leaf_nodes\",2,100, log=True)\n",
    "\n",
    "    \n",
    "    rf_estimator = sklearn.ensemble.RandomForestClassifier(\n",
    "        criterion = 'gini',\n",
    "        n_estimators=108, \n",
    "        max_depth= 2,\n",
    "        min_samples_split = 2,\n",
    "        min_samples_leaf=1, \n",
    "        max_leaf_nodes=10\n",
    "    )\n",
    "    rf_estimator.fit(x_train, y_train)\n",
    "    \n",
    "    rf_estimator_test = model_performance_classification(rf_estimator,x_test,y_test)\n",
    "    return rf_estimator_test.Recall\n"
   ]
  },
  {
   "cell_type": "code",
   "execution_count": 555,
   "metadata": {},
   "outputs": [
    {
     "data": {
      "text/plain": [
       "'\\n        criterion = rf_criterion,\\n        n_estimators=rf_n_estimators, \\n        max_depth=rf_max_depth, \\n        min_samples_split = rf_min_samples_split,\\n        min_samples_leaf=rf_min_samples_leaf, \\n        max_leaf_nodes=rf_max_leaf_nodes\\n'"
      ]
     },
     "execution_count": 555,
     "metadata": {},
     "output_type": "execute_result"
    }
   ],
   "source": [
    "# discovery parameters\n",
    "'''\n",
    "        criterion = rf_criterion,\n",
    "        n_estimators=rf_n_estimators, \n",
    "        max_depth=rf_max_depth, \n",
    "        min_samples_split = rf_min_samples_split,\n",
    "        min_samples_leaf=rf_min_samples_leaf, \n",
    "        max_leaf_nodes=rf_max_leaf_nodes\n",
    "'''"
   ]
  },
  {
   "cell_type": "code",
   "execution_count": 475,
   "metadata": {},
   "outputs": [
    {
     "data": {
      "text/plain": [
       "\"\\n        criterion = 'gini',\\n        n_estimators=100, \\n        max_depth=None, \\n        min_samples_split = 2,\\n        min_samples_leaf=1, \\n        max_leaf_nodes=None\\n\""
      ]
     },
     "execution_count": 475,
     "metadata": {},
     "output_type": "execute_result"
    }
   ],
   "source": [
    "# default parameters\n",
    "'''\n",
    "        criterion = 'gini',\n",
    "        n_estimators=100, \n",
    "        max_depth=None, \n",
    "        min_samples_split = 2,\n",
    "        min_samples_leaf=1, \n",
    "        max_leaf_nodes=None\n",
    "'''\n"
   ]
  },
  {
   "cell_type": "code",
   "execution_count": 674,
   "metadata": {},
   "outputs": [
    {
     "name": "stderr",
     "output_type": "stream",
     "text": [
      "\u001b[32m[I 2022-12-17 21:10:04,668]\u001b[0m A new study created in memory with name: no-name-d5b4472a-240b-4d80-8f7f-2ccbc34467c0\u001b[0m\n",
      "\u001b[32m[I 2022-12-17 21:10:04,755]\u001b[0m Trial 0 finished with value: 0.56 and parameters: {'classifier': 'RandomForest'}. Best is trial 0 with value: 0.56.\u001b[0m\n",
      "\u001b[32m[I 2022-12-17 21:10:04,835]\u001b[0m Trial 1 finished with value: 0.6225 and parameters: {'classifier': 'RandomForest'}. Best is trial 1 with value: 0.6225.\u001b[0m\n",
      "\u001b[32m[I 2022-12-17 21:10:04,913]\u001b[0m Trial 2 finished with value: 0.5825 and parameters: {'classifier': 'RandomForest'}. Best is trial 1 with value: 0.6225.\u001b[0m\n",
      "\u001b[32m[I 2022-12-17 21:10:04,991]\u001b[0m Trial 3 finished with value: 0.6025 and parameters: {'classifier': 'RandomForest'}. Best is trial 1 with value: 0.6225.\u001b[0m\n",
      "\u001b[32m[I 2022-12-17 21:10:05,071]\u001b[0m Trial 4 finished with value: 0.6074999999999999 and parameters: {'classifier': 'RandomForest'}. Best is trial 1 with value: 0.6225.\u001b[0m\n",
      "\u001b[32m[I 2022-12-17 21:10:05,150]\u001b[0m Trial 5 finished with value: 0.6 and parameters: {'classifier': 'RandomForest'}. Best is trial 1 with value: 0.6225.\u001b[0m\n",
      "\u001b[32m[I 2022-12-17 21:10:05,230]\u001b[0m Trial 6 finished with value: 0.5925 and parameters: {'classifier': 'RandomForest'}. Best is trial 1 with value: 0.6225.\u001b[0m\n",
      "\u001b[32m[I 2022-12-17 21:10:05,309]\u001b[0m Trial 7 finished with value: 0.5925 and parameters: {'classifier': 'RandomForest'}. Best is trial 1 with value: 0.6225.\u001b[0m\n",
      "\u001b[32m[I 2022-12-17 21:10:05,387]\u001b[0m Trial 8 finished with value: 0.5875 and parameters: {'classifier': 'RandomForest'}. Best is trial 1 with value: 0.6225.\u001b[0m\n",
      "\u001b[32m[I 2022-12-17 21:10:05,466]\u001b[0m Trial 9 finished with value: 0.6025 and parameters: {'classifier': 'RandomForest'}. Best is trial 1 with value: 0.6225.\u001b[0m\n"
     ]
    },
    {
     "name": "stdout",
     "output_type": "stream",
     "text": [
      "FrozenTrial(number=1, values=[0.6225], datetime_start=datetime.datetime(2022, 12, 17, 21, 10, 4, 756245), datetime_complete=datetime.datetime(2022, 12, 17, 21, 10, 4, 835295), params={'classifier': 'RandomForest'}, distributions={'classifier': CategoricalDistribution(choices=('RandomForest',))}, user_attrs={}, system_attrs={}, intermediate_values={}, trial_id=1, state=TrialState.COMPLETE, value=None)\n"
     ]
    }
   ],
   "source": [
    "study = optuna.create_study(direction=\"maximize\")\n",
    "study.optimize(objective, n_trials=10)\n",
    "print(study.best_trial)"
   ]
  },
  {
   "cell_type": "code",
   "execution_count": 675,
   "metadata": {},
   "outputs": [
    {
     "data": {
      "text/html": [
       "<style>#sk-container-id-13 {color: black;background-color: white;}#sk-container-id-13 pre{padding: 0;}#sk-container-id-13 div.sk-toggleable {background-color: white;}#sk-container-id-13 label.sk-toggleable__label {cursor: pointer;display: block;width: 100%;margin-bottom: 0;padding: 0.3em;box-sizing: border-box;text-align: center;}#sk-container-id-13 label.sk-toggleable__label-arrow:before {content: \"▸\";float: left;margin-right: 0.25em;color: #696969;}#sk-container-id-13 label.sk-toggleable__label-arrow:hover:before {color: black;}#sk-container-id-13 div.sk-estimator:hover label.sk-toggleable__label-arrow:before {color: black;}#sk-container-id-13 div.sk-toggleable__content {max-height: 0;max-width: 0;overflow: hidden;text-align: left;background-color: #f0f8ff;}#sk-container-id-13 div.sk-toggleable__content pre {margin: 0.2em;color: black;border-radius: 0.25em;background-color: #f0f8ff;}#sk-container-id-13 input.sk-toggleable__control:checked~div.sk-toggleable__content {max-height: 200px;max-width: 100%;overflow: auto;}#sk-container-id-13 input.sk-toggleable__control:checked~label.sk-toggleable__label-arrow:before {content: \"▾\";}#sk-container-id-13 div.sk-estimator input.sk-toggleable__control:checked~label.sk-toggleable__label {background-color: #d4ebff;}#sk-container-id-13 div.sk-label input.sk-toggleable__control:checked~label.sk-toggleable__label {background-color: #d4ebff;}#sk-container-id-13 input.sk-hidden--visually {border: 0;clip: rect(1px 1px 1px 1px);clip: rect(1px, 1px, 1px, 1px);height: 1px;margin: -1px;overflow: hidden;padding: 0;position: absolute;width: 1px;}#sk-container-id-13 div.sk-estimator {font-family: monospace;background-color: #f0f8ff;border: 1px dotted black;border-radius: 0.25em;box-sizing: border-box;margin-bottom: 0.5em;}#sk-container-id-13 div.sk-estimator:hover {background-color: #d4ebff;}#sk-container-id-13 div.sk-parallel-item::after {content: \"\";width: 100%;border-bottom: 1px solid gray;flex-grow: 1;}#sk-container-id-13 div.sk-label:hover label.sk-toggleable__label {background-color: #d4ebff;}#sk-container-id-13 div.sk-serial::before {content: \"\";position: absolute;border-left: 1px solid gray;box-sizing: border-box;top: 0;bottom: 0;left: 50%;z-index: 0;}#sk-container-id-13 div.sk-serial {display: flex;flex-direction: column;align-items: center;background-color: white;padding-right: 0.2em;padding-left: 0.2em;position: relative;}#sk-container-id-13 div.sk-item {position: relative;z-index: 1;}#sk-container-id-13 div.sk-parallel {display: flex;align-items: stretch;justify-content: center;background-color: white;position: relative;}#sk-container-id-13 div.sk-item::before, #sk-container-id-13 div.sk-parallel-item::before {content: \"\";position: absolute;border-left: 1px solid gray;box-sizing: border-box;top: 0;bottom: 0;left: 50%;z-index: -1;}#sk-container-id-13 div.sk-parallel-item {display: flex;flex-direction: column;z-index: 1;position: relative;background-color: white;}#sk-container-id-13 div.sk-parallel-item:first-child::after {align-self: flex-end;width: 50%;}#sk-container-id-13 div.sk-parallel-item:last-child::after {align-self: flex-start;width: 50%;}#sk-container-id-13 div.sk-parallel-item:only-child::after {width: 0;}#sk-container-id-13 div.sk-dashed-wrapped {border: 1px dashed gray;margin: 0 0.4em 0.5em 0.4em;box-sizing: border-box;padding-bottom: 0.4em;background-color: white;}#sk-container-id-13 div.sk-label label {font-family: monospace;font-weight: bold;display: inline-block;line-height: 1.2em;}#sk-container-id-13 div.sk-label-container {text-align: center;}#sk-container-id-13 div.sk-container {/* jupyter's `normalize.less` sets `[hidden] { display: none; }` but bootstrap.min.css set `[hidden] { display: none !important; }` so we also need the `!important` here to be able to override the default hidden behavior on the sphinx rendered scikit-learn.org. See: https://github.com/scikit-learn/scikit-learn/issues/21755 */display: inline-block !important;position: relative;}#sk-container-id-13 div.sk-text-repr-fallback {display: none;}</style><div id=\"sk-container-id-13\" class=\"sk-top-container\"><div class=\"sk-text-repr-fallback\"><pre>RandomForestClassifier(max_depth=87, max_leaf_nodes=6, n_estimators=108,\n",
       "                       random_state=1)</pre><b>In a Jupyter environment, please rerun this cell to show the HTML representation or trust the notebook. <br />On GitHub, the HTML representation is unable to render, please try loading this page with nbviewer.org.</b></div><div class=\"sk-container\" hidden><div class=\"sk-item\"><div class=\"sk-estimator sk-toggleable\"><input class=\"sk-toggleable__control sk-hidden--visually\" id=\"sk-estimator-id-13\" type=\"checkbox\" checked><label for=\"sk-estimator-id-13\" class=\"sk-toggleable__label sk-toggleable__label-arrow\">RandomForestClassifier</label><div class=\"sk-toggleable__content\"><pre>RandomForestClassifier(max_depth=87, max_leaf_nodes=6, n_estimators=108,\n",
       "                       random_state=1)</pre></div></div></div></div></div>"
      ],
      "text/plain": [
       "RandomForestClassifier(max_depth=87, max_leaf_nodes=6, n_estimators=108,\n",
       "                       random_state=1)"
      ]
     },
     "execution_count": 675,
     "metadata": {},
     "output_type": "execute_result"
    }
   ],
   "source": [
    "# Fitting the Random Forest classifier on the training data\n",
    "\n",
    "rf_estimator = RandomForestClassifier(n_estimators=108, max_depth = 87, max_leaf_nodes=6, random_state = 1)\n",
    "# rf_estimator = RandomForestClassifier(random_state = 1)\n",
    "\n",
    "rf_estimator.fit(x_train, y_train)"
   ]
  },
  {
   "cell_type": "code",
   "execution_count": 676,
   "metadata": {},
   "outputs": [
    {
     "name": "stdout",
     "output_type": "stream",
     "text": [
      "              precision    recall  f1-score   support\n",
      "\n",
      "           0       0.73      0.86      0.79       400\n",
      "           1       0.83      0.68      0.74       400\n",
      "\n",
      "    accuracy                           0.77       800\n",
      "   macro avg       0.78      0.77      0.77       800\n",
      "weighted avg       0.78      0.77      0.77       800\n",
      "\n"
     ]
    },
    {
     "data": {
      "image/png": "[encoded data removed]",
      "text/plain": [
       "<Figure size 800x500 with 2 Axes>"
      ]
     },
     "metadata": {},
     "output_type": "display_data"
    }
   ],
   "source": [
    "# Checking performance on the training data\n",
    "y_pred_train_rf = rf_estimator.predict(x_train)\n",
    "\n",
    "metrics_score(y_train, y_pred_train_rf)"
   ]
  },
  {
   "cell_type": "code",
   "execution_count": 677,
   "metadata": {},
   "outputs": [
    {
     "name": "stdout",
     "output_type": "stream",
     "text": [
      "              precision    recall  f1-score   support\n",
      "\n",
      "           0       0.57      0.76      0.65       100\n",
      "           1       0.64      0.42      0.51       100\n",
      "\n",
      "    accuracy                           0.59       200\n",
      "   macro avg       0.60      0.59      0.58       200\n",
      "weighted avg       0.60      0.59      0.58       200\n",
      "\n"
     ]
    },
    {
     "data": {
      "image/png": "[encoded data removed]",
      "text/plain": [
       "<Figure size 800x500 with 2 Axes>"
      ]
     },
     "metadata": {},
     "output_type": "display_data"
    }
   ],
   "source": [
    "# Checking performance on the testing data\n",
    "y_pred_test_rf = rf_estimator.predict(x_test)\n",
    "\n",
    "metrics_score(y_test, y_pred_test_rf)"
   ]
  },
  {
   "cell_type": "code",
   "execution_count": 678,
   "metadata": {},
   "outputs": [
    {
     "data": {
      "text/html": [
       "<div>\n",
       "<style scoped>\n",
       "    .dataframe tbody tr th:only-of-type {\n",
       "        vertical-align: middle;\n",
       "    }\n",
       "\n",
       "    .dataframe tbody tr th {\n",
       "        vertical-align: top;\n",
       "    }\n",
       "\n",
       "    .dataframe thead th {\n",
       "        text-align: right;\n",
       "    }\n",
       "</style>\n",
       "<table border=\"1\" class=\"dataframe\">\n",
       "  <thead>\n",
       "    <tr style=\"text-align: right;\">\n",
       "      <th></th>\n",
       "      <th>Precision</th>\n",
       "      <th>Recall</th>\n",
       "      <th>Accuracy</th>\n",
       "    </tr>\n",
       "  </thead>\n",
       "  <tbody>\n",
       "    <tr>\n",
       "      <th>0</th>\n",
       "      <td>0.601764</td>\n",
       "      <td>0.59</td>\n",
       "      <td>0.59</td>\n",
       "    </tr>\n",
       "  </tbody>\n",
       "</table>\n",
       "</div>"
      ],
      "text/plain": [
       "   Precision  Recall  Accuracy\n",
       "0   0.601764    0.59      0.59"
      ]
     },
     "execution_count": 678,
     "metadata": {},
     "output_type": "execute_result"
    }
   ],
   "source": [
    "rf_estimator_test = model_performance_classification(rf_estimator,x_test,y_test)\n",
    "rf_estimator_test"
   ]
  },
  {
   "cell_type": "code",
   "execution_count": 263,
   "metadata": {},
   "outputs": [],
   "source": [
    "# print(cv)"
   ]
  },
  {
   "cell_type": "code",
   "execution_count": 264,
   "metadata": {},
   "outputs": [
    {
     "data": {
      "text/plain": [
       "\"\\nimportances = rf_estimator.feature_importances_\\n\\ncolumns = cv.columns\\n\\nimportance_df = pd.DataFrame(importances, index = columns, columns = ['Importance']).sort_values(by = 'Importance', ascending = False)\\n\\nplt.figure(figsize = (13, 13))\\n\\nsns.barplot(importance_df.Importance, importance_df.index)\\n\""
      ]
     },
     "execution_count": 264,
     "metadata": {},
     "output_type": "execute_result"
    }
   ],
   "source": [
    "'''\n",
    "importances = rf_estimator.feature_importances_\n",
    "\n",
    "columns = cv.columns\n",
    "\n",
    "importance_df = pd.DataFrame(importances, index = columns, columns = ['Importance']).sort_values(by = 'Importance', ascending = False)\n",
    "\n",
    "plt.figure(figsize = (13, 13))\n",
    "\n",
    "sns.barplot(importance_df.Importance, importance_df.index)\n",
    "'''"
   ]
  },
  {
   "attachments": {},
   "cell_type": "markdown",
   "metadata": {},
   "source": [
    "### **Tuning the Random Forest**"
   ]
  },
  {
   "cell_type": "markdown",
   "metadata": {},
   "source": [
    "**n_estimators**: The number of trees in the forest.\n",
    "\n",
    "**min_samples_split**: The minimum number of samples required to split an internal node.\n",
    "\n",
    "**min_samples_leaf**: The minimum number of samples required to be at a leaf node. \n",
    "\n",
    "**max_features{“auto”, “sqrt”, “log2”, 'None'}**: The number of features to consider when looking for the best split.\n",
    "\n",
    "- If “auto”, then max_features=sqrt(n_features).\n",
    "\n",
    "- If “sqrt”, then max_features=sqrt(n_features) (same as “auto”).\n",
    "\n",
    "- If “log2”, then max_features=log2(n_features).\n",
    "\n",
    "- If None, then max_features=n_features."
   ]
  },
  {
   "cell_type": "code",
   "execution_count": 679,
   "metadata": {},
   "outputs": [],
   "source": [
    "# Choose the type of classifier\n",
    "rf_estimator_tuned = RandomForestClassifier(random_state = 1)\n",
    "\n",
    "# Grid of parameters to choose from\n",
    "params_rf = {  \n",
    "        \"n_estimators\": [100, 250, 500, 1000],\n",
    "        \"min_samples_leaf\": np.arange(1, 4, 1),\n",
    "        \"max_features\": [0.7, 0.9, 'auto'],\n",
    "}\n",
    "\n",
    "\n",
    "# Type of scoring used to compare parameter combinations - recall score for class 1\n",
    "scorer = metrics.make_scorer(recall_score, pos_label = 1)\n",
    "\n",
    "# Run the grid search\n",
    "grid_obj = GridSearchCV(rf_estimator_tuned, params_rf, scoring = scorer, cv = 5)\n",
    "\n",
    "grid_obj = grid_obj.fit(x_train, y_train)\n",
    "\n",
    "# Set the classifier to the best combination of parameters\n",
    "rf_estimator_tuned = grid_obj.best_estimator_"
   ]
  },
  {
   "cell_type": "code",
   "execution_count": 236,
   "metadata": {},
   "outputs": [
    {
     "data": {
      "text/html": [
       "<style>#sk-container-id-5 {color: black;background-color: white;}#sk-container-id-5 pre{padding: 0;}#sk-container-id-5 div.sk-toggleable {background-color: white;}#sk-container-id-5 label.sk-toggleable__label {cursor: pointer;display: block;width: 100%;margin-bottom: 0;padding: 0.3em;box-sizing: border-box;text-align: center;}#sk-container-id-5 label.sk-toggleable__label-arrow:before {content: \"▸\";float: left;margin-right: 0.25em;color: #696969;}#sk-container-id-5 label.sk-toggleable__label-arrow:hover:before {color: black;}#sk-container-id-5 div.sk-estimator:hover label.sk-toggleable__label-arrow:before {color: black;}#sk-container-id-5 div.sk-toggleable__content {max-height: 0;max-width: 0;overflow: hidden;text-align: left;background-color: #f0f8ff;}#sk-container-id-5 div.sk-toggleable__content pre {margin: 0.2em;color: black;border-radius: 0.25em;background-color: #f0f8ff;}#sk-container-id-5 input.sk-toggleable__control:checked~div.sk-toggleable__content {max-height: 200px;max-width: 100%;overflow: auto;}#sk-container-id-5 input.sk-toggleable__control:checked~label.sk-toggleable__label-arrow:before {content: \"▾\";}#sk-container-id-5 div.sk-estimator input.sk-toggleable__control:checked~label.sk-toggleable__label {background-color: #d4ebff;}#sk-container-id-5 div.sk-label input.sk-toggleable__control:checked~label.sk-toggleable__label {background-color: #d4ebff;}#sk-container-id-5 input.sk-hidden--visually {border: 0;clip: rect(1px 1px 1px 1px);clip: rect(1px, 1px, 1px, 1px);height: 1px;margin: -1px;overflow: hidden;padding: 0;position: absolute;width: 1px;}#sk-container-id-5 div.sk-estimator {font-family: monospace;background-color: #f0f8ff;border: 1px dotted black;border-radius: 0.25em;box-sizing: border-box;margin-bottom: 0.5em;}#sk-container-id-5 div.sk-estimator:hover {background-color: #d4ebff;}#sk-container-id-5 div.sk-parallel-item::after {content: \"\";width: 100%;border-bottom: 1px solid gray;flex-grow: 1;}#sk-container-id-5 div.sk-label:hover label.sk-toggleable__label {background-color: #d4ebff;}#sk-container-id-5 div.sk-serial::before {content: \"\";position: absolute;border-left: 1px solid gray;box-sizing: border-box;top: 0;bottom: 0;left: 50%;z-index: 0;}#sk-container-id-5 div.sk-serial {display: flex;flex-direction: column;align-items: center;background-color: white;padding-right: 0.2em;padding-left: 0.2em;position: relative;}#sk-container-id-5 div.sk-item {position: relative;z-index: 1;}#sk-container-id-5 div.sk-parallel {display: flex;align-items: stretch;justify-content: center;background-color: white;position: relative;}#sk-container-id-5 div.sk-item::before, #sk-container-id-5 div.sk-parallel-item::before {content: \"\";position: absolute;border-left: 1px solid gray;box-sizing: border-box;top: 0;bottom: 0;left: 50%;z-index: -1;}#sk-container-id-5 div.sk-parallel-item {display: flex;flex-direction: column;z-index: 1;position: relative;background-color: white;}#sk-container-id-5 div.sk-parallel-item:first-child::after {align-self: flex-end;width: 50%;}#sk-container-id-5 div.sk-parallel-item:last-child::after {align-self: flex-start;width: 50%;}#sk-container-id-5 div.sk-parallel-item:only-child::after {width: 0;}#sk-container-id-5 div.sk-dashed-wrapped {border: 1px dashed gray;margin: 0 0.4em 0.5em 0.4em;box-sizing: border-box;padding-bottom: 0.4em;background-color: white;}#sk-container-id-5 div.sk-label label {font-family: monospace;font-weight: bold;display: inline-block;line-height: 1.2em;}#sk-container-id-5 div.sk-label-container {text-align: center;}#sk-container-id-5 div.sk-container {/* jupyter's `normalize.less` sets `[hidden] { display: none; }` but bootstrap.min.css set `[hidden] { display: none !important; }` so we also need the `!important` here to be able to override the default hidden behavior on the sphinx rendered scikit-learn.org. See: https://github.com/scikit-learn/scikit-learn/issues/21755 */display: inline-block !important;position: relative;}#sk-container-id-5 div.sk-text-repr-fallback {display: none;}</style><div id=\"sk-container-id-5\" class=\"sk-top-container\"><div class=\"sk-text-repr-fallback\"><pre>RandomForestClassifier(max_features=&#x27;auto&#x27;, min_samples_leaf=3, random_state=1)</pre><b>In a Jupyter environment, please rerun this cell to show the HTML representation or trust the notebook. <br />On GitHub, the HTML representation is unable to render, please try loading this page with nbviewer.org.</b></div><div class=\"sk-container\" hidden><div class=\"sk-item\"><div class=\"sk-estimator sk-toggleable\"><input class=\"sk-toggleable__control sk-hidden--visually\" id=\"sk-estimator-id-5\" type=\"checkbox\" checked><label for=\"sk-estimator-id-5\" class=\"sk-toggleable__label sk-toggleable__label-arrow\">RandomForestClassifier</label><div class=\"sk-toggleable__content\"><pre>RandomForestClassifier(max_features=&#x27;auto&#x27;, min_samples_leaf=3, random_state=1)</pre></div></div></div></div></div>"
      ],
      "text/plain": [
       "RandomForestClassifier(max_features='auto', min_samples_leaf=3, random_state=1)"
      ]
     },
     "execution_count": 236,
     "metadata": {},
     "output_type": "execute_result"
    }
   ],
   "source": [
    "rf_estimator_tuned.fit(x_train, y_train)"
   ]
  },
  {
   "cell_type": "code",
   "execution_count": 237,
   "metadata": {},
   "outputs": [
    {
     "name": "stdout",
     "output_type": "stream",
     "text": [
      "              precision    recall  f1-score   support\n",
      "\n",
      "           0       0.62      0.93      0.74       128\n",
      "           1       0.86      0.42      0.57       128\n",
      "\n",
      "    accuracy                           0.68       256\n",
      "   macro avg       0.74      0.68      0.65       256\n",
      "weighted avg       0.74      0.68      0.65       256\n",
      "\n"
     ]
    },
    {
     "data": {
      "image/png": "[encoded data removed]",
      "text/plain": [
       "<Figure size 800x500 with 2 Axes>"
      ]
     },
     "metadata": {},
     "output_type": "display_data"
    }
   ],
   "source": [
    "# Checking performance on the training data\n",
    "y_pred_train_rf_tuned = rf_estimator_tuned.predict(x_train)\n",
    "\n",
    "metrics_score(y_train, y_pred_train_rf_tuned)"
   ]
  },
  {
   "cell_type": "code",
   "execution_count": 238,
   "metadata": {},
   "outputs": [
    {
     "name": "stdout",
     "output_type": "stream",
     "text": [
      "              precision    recall  f1-score   support\n",
      "\n",
      "           0       0.55      0.81      0.66        32\n",
      "           1       0.65      0.34      0.45        32\n",
      "\n",
      "    accuracy                           0.58        64\n",
      "   macro avg       0.60      0.58      0.55        64\n",
      "weighted avg       0.60      0.58      0.55        64\n",
      "\n"
     ]
    },
    {
     "data": {
      "image/png": "[encoded data removed]",
      "text/plain": [
       "<Figure size 800x500 with 2 Axes>"
      ]
     },
     "metadata": {},
     "output_type": "display_data"
    }
   ],
   "source": [
    "# Checking performance on the test data\n",
    "y_pred_test_rf_tuned = rf_estimator_tuned.predict(x_test)\n",
    "\n",
    "metrics_score(y_test, y_pred_test_rf_tuned)"
   ]
  },
  {
   "cell_type": "code",
   "execution_count": 239,
   "metadata": {},
   "outputs": [
    {
     "data": {
      "text/html": [
       "<div>\n",
       "<style scoped>\n",
       "    .dataframe tbody tr th:only-of-type {\n",
       "        vertical-align: middle;\n",
       "    }\n",
       "\n",
       "    .dataframe tbody tr th {\n",
       "        vertical-align: top;\n",
       "    }\n",
       "\n",
       "    .dataframe thead th {\n",
       "        text-align: right;\n",
       "    }\n",
       "</style>\n",
       "<table border=\"1\" class=\"dataframe\">\n",
       "  <thead>\n",
       "    <tr style=\"text-align: right;\">\n",
       "      <th></th>\n",
       "      <th>Precision</th>\n",
       "      <th>Recall</th>\n",
       "      <th>Accuracy</th>\n",
       "    </tr>\n",
       "  </thead>\n",
       "  <tbody>\n",
       "    <tr>\n",
       "      <th>0</th>\n",
       "      <td>0.600125</td>\n",
       "      <td>0.578125</td>\n",
       "      <td>0.578125</td>\n",
       "    </tr>\n",
       "  </tbody>\n",
       "</table>\n",
       "</div>"
      ],
      "text/plain": [
       "   Precision    Recall  Accuracy\n",
       "0   0.600125  0.578125  0.578125"
      ]
     },
     "execution_count": 239,
     "metadata": {},
     "output_type": "execute_result"
    }
   ],
   "source": [
    "rf_estimator_tuned_test = model_performance_classification(rf_estimator_tuned, x_test, y_test)\n",
    "rf_estimator_tuned_test"
   ]
  },
  {
   "cell_type": "code",
   "execution_count": 240,
   "metadata": {},
   "outputs": [
    {
     "ename": "NameError",
     "evalue": "name 'X' is not defined",
     "output_type": "error",
     "traceback": [
      "\u001b[0;31m---------------------------------------------------------------------------\u001b[0m",
      "\u001b[0;31mNameError\u001b[0m                                 Traceback (most recent call last)",
      "Cell \u001b[0;32mIn [240], line 4\u001b[0m\n\u001b[1;32m      1\u001b[0m \u001b[39m# Plotting feature importance\u001b[39;00m\n\u001b[1;32m      2\u001b[0m importances \u001b[39m=\u001b[39m rf_estimator_tuned\u001b[39m.\u001b[39mfeature_importances_\n\u001b[0;32m----> 4\u001b[0m columns \u001b[39m=\u001b[39m X\u001b[39m.\u001b[39mcolumns\n\u001b[1;32m      6\u001b[0m importance_df \u001b[39m=\u001b[39m pd\u001b[39m.\u001b[39mDataFrame(importances, index \u001b[39m=\u001b[39m columns, columns \u001b[39m=\u001b[39m [\u001b[39m'\u001b[39m\u001b[39mImportance\u001b[39m\u001b[39m'\u001b[39m])\u001b[39m.\u001b[39msort_values(by \u001b[39m=\u001b[39m \u001b[39m'\u001b[39m\u001b[39mImportance\u001b[39m\u001b[39m'\u001b[39m, ascending \u001b[39m=\u001b[39m \u001b[39mFalse\u001b[39;00m)\n\u001b[1;32m      8\u001b[0m plt\u001b[39m.\u001b[39mfigure(figsize \u001b[39m=\u001b[39m (\u001b[39m13\u001b[39m, \u001b[39m13\u001b[39m))\n",
      "\u001b[0;31mNameError\u001b[0m: name 'X' is not defined"
     ]
    }
   ],
   "source": [
    "'''\n",
    "# Plotting feature importance\n",
    "importances = rf_estimator_tuned.feature_importances_\n",
    "\n",
    "columns = X.columns\n",
    "\n",
    "importance_df = pd.DataFrame(importances, index = columns, columns = ['Importance']).sort_values(by = 'Importance', ascending = False)\n",
    "\n",
    "plt.figure(figsize = (13, 13))\n",
    "\n",
    "sns.barplot(importance_df.Importance, importance_df.index)\n",
    "\n",
    "'''"
   ]
  }
 ],
 "metadata": {
  "kernelspec": {
   "display_name": "Python 3",
   "language": "python",
   "name": "python3"
  },
  "language_info": {
   "codemirror_mode": {
    "name": "ipython",
    "version": 3
   },
   "file_extension": ".py",
   "mimetype": "text/x-python",
   "name": "python",
   "nbconvert_exporter": "python",
   "pygments_lexer": "ipython3",
   "version": "3.10.8"
  },
  "orig_nbformat": 4,
  "vscode": {
   "interpreter": {
    "hash": "b0fa6594d8f4cbf19f97940f81e996739fb7646882a419484c72d19e05852a7e"
   }
  }
 },
 "nbformat": 4,
 "nbformat_minor": 2
}
