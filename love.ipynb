{
  "nbformat": 4,
  "nbformat_minor": 0,
  "metadata": {
    "colab": {
      "provenance": [],
      "authorship_tag": "ABX9TyPz8RLy/HuAJtMdUdlL6yOT",
      "include_colab_link": true
    },
    "kernelspec": {
      "name": "python3",
      "display_name": "Python 3"
    },
    "language_info": {
      "name": "python"
    }
  },
  "cells": [
    {
      "cell_type": "markdown",
      "metadata": {
        "id": "view-in-github",
        "colab_type": "text"
      },
      "source": [
        "<a href=\"https://colab.research.google.com/github/efwoods/EvanWoodsTwitter/blob/test/love.ipynb\" target=\"_parent\"><img src=\"https://colab.research.google.com/assets/colab-badge.svg\" alt=\"Open In Colab\"/></a>"
      ]
    },
    {
      "cell_type": "markdown",
      "source": [
        "# Objective: Detect Depression in a tweet and respond with a virtual hug\n",
        "- [ ] tweet = getTweet()\n",
        "- [ ] depressed = detectDepression()\n",
        "- [ ] if depressed: love = generateVirtualHug();\n",
        "- [ ] sendMedicine(love);"
      ],
      "metadata": {
        "id": "fmiCURBCkdwq"
      }
    },
    {
      "cell_type": "markdown",
      "source": [
        "## [Get Tweet](https://towardsdatascience.com/an-extensive-guide-to-collecting-tweets-from-twitter-api-v2-for-academic-research-using-python-3-518fcb71df2a)"
      ],
      "metadata": {
        "id": "SDdyLbDJlLa-"
      }
    },
    {
      "cell_type": "code",
      "source": [
        "# For sending GET requests from the API\n",
        "import requests\n",
        "# For saving access tokens and for file management when creating and adding to the dataset\n",
        "import os\n",
        "# For dealing with json responses we receive from the API\n",
        "import json\n",
        "# For displaying the data after\n",
        "import pandas as pd\n",
        "# For saving the response data in CSV format\n",
        "import csv\n",
        "# For parsing the dates received from twitter in readable formats\n",
        "import datetime\n",
        "import dateutil.parser\n",
        "import unicodedata\n",
        "#To add wait time between requests\n",
        "import time\n",
        "\n",
        "os.environ['TOKEN'] = 'AAAAAAAAAAAAAAAAAAAAAJ7giAEAAAAAGlUH%2FHvgALQzPaBupjSfMnbAL6w%3DXnBwUWgwQL2PuYgq3rNxdznhQ6Tier2SljhOMfqmEIGPJu9jGl'\n",
        "\n",
        "def auth():\n",
        "    return os.getenv('TOKEN')\n",
        "\n",
        "def create_headers(bearer_token):\n",
        "    headers = {\"Authorization\": \"Bearer {}\".format(bearer_token)}\n",
        "    return headers\n",
        "\n",
        "def create_url(keyword, start_date, end_date, max_results = 10):\n",
        "\n",
        "    search_url = \"https://api.twitter.com/2/tweets/search/all\" #Change to the endpoint you want to collect data from\n",
        "\n",
        "    #change params based on the endpoint you are using\n",
        "    query_params = {'query': keyword,\n",
        "                    'start_time': start_date,\n",
        "                    'end_time': end_date,\n",
        "                    'max_results': max_results,\n",
        "                    'expansions': 'author_id,in_reply_to_user_id,geo.place_id',\n",
        "                    'tweet.fields': 'id,text,author_id,in_reply_to_user_id,geo,conversation_id,created_at,lang,public_metrics,referenced_tweets,reply_settings,source',\n",
        "                    'user.fields': 'id,name,username,created_at,description,public_metrics,verified',\n",
        "                    'place.fields': 'full_name,id,country,country_code,geo,name,place_type',\n",
        "                    'next_token': {}}\n",
        "    return (search_url, query_params)\n",
        "\n",
        "def getTweet():\n",
        "  # call api to get tweet from #depressed or #dark"
      ],
      "metadata": {
        "colab": {
          "base_uri": "https://localhost:8080/",
          "height": 134
        },
        "id": "LJfel6m_lOTY",
        "outputId": "529b2293-310f-4bdf-bc48-987c592077d3"
      },
      "execution_count": 1,
      "outputs": [
        {
          "output_type": "error",
          "ename": "SyntaxError",
          "evalue": "ignored",
          "traceback": [
            "\u001b[0;36m  File \u001b[0;32m\"<ipython-input-1-8886e9355af1>\"\u001b[0;36m, line \u001b[0;32m2\u001b[0m\n\u001b[0;31m    # call api to get tweet from #depressed or #dark\u001b[0m\n\u001b[0m                                                    ^\u001b[0m\n\u001b[0;31mSyntaxError\u001b[0m\u001b[0;31m:\u001b[0m unexpected EOF while parsing\n"
          ]
        }
      ]
    },
    {
      "cell_type": "markdown",
      "source": [
        "## Detect Depression"
      ],
      "metadata": {
        "id": "KbG6YNBClZZi"
      }
    },
    {
      "cell_type": "code",
      "source": [
        "def detectDepression():\n",
        "  # use ML to detect depression"
      ],
      "metadata": {
        "colab": {
          "base_uri": "https://localhost:8080/",
          "height": 134
        },
        "id": "UuHrF68Qld-F",
        "outputId": "b14f4c31-cf90-404f-c0f6-5fa7b3d4e438"
      },
      "execution_count": 3,
      "outputs": [
        {
          "output_type": "error",
          "ename": "SyntaxError",
          "evalue": "ignored",
          "traceback": [
            "\u001b[0;36m  File \u001b[0;32m\"<ipython-input-3-45bf337535c1>\"\u001b[0;36m, line \u001b[0;32m2\u001b[0m\n\u001b[0;31m    # use ML to detect depression\u001b[0m\n\u001b[0m                                 ^\u001b[0m\n\u001b[0;31mSyntaxError\u001b[0m\u001b[0;31m:\u001b[0m unexpected EOF while parsing\n"
          ]
        }
      ]
    },
    {
      "cell_type": "markdown",
      "source": [
        "## Generate Virtual Hug"
      ],
      "metadata": {
        "id": "hmLGVAlsllTO"
      }
    },
    {
      "cell_type": "code",
      "source": [
        "def generateVirtualHug():\n",
        "  # generate a virtual hug meme or a tweet"
      ],
      "metadata": {
        "colab": {
          "base_uri": "https://localhost:8080/",
          "height": 134
        },
        "id": "_jiKasFVlkCt",
        "outputId": "462b82cb-2e93-4a37-b76b-e3f2ed821874"
      },
      "execution_count": 5,
      "outputs": [
        {
          "output_type": "error",
          "ename": "SyntaxError",
          "evalue": "ignored",
          "traceback": [
            "\u001b[0;36m  File \u001b[0;32m\"<ipython-input-5-35743a67fe43>\"\u001b[0;36m, line \u001b[0;32m2\u001b[0m\n\u001b[0;31m    # generate a virtual hug meme or a tweet\u001b[0m\n\u001b[0m                                             ^\u001b[0m\n\u001b[0;31mSyntaxError\u001b[0m\u001b[0;31m:\u001b[0m unexpected EOF while parsing\n"
          ]
        }
      ]
    },
    {
      "cell_type": "markdown",
      "source": [
        "## Send Medicine"
      ],
      "metadata": {
        "id": "sLXOIeqQl1Ju"
      }
    },
    {
      "cell_type": "code",
      "source": [
        "def sendMedicine(love):\n",
        "  # reply to tweet with generatedVirtualHug"
      ],
      "metadata": {
        "id": "AQY0iGnWlyPI"
      },
      "execution_count": null,
      "outputs": []
    }
  ]
}