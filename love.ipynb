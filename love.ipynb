{
  "nbformat": 4,
  "nbformat_minor": 0,
  "metadata": {
    "colab": {
      "provenance": [],
      "authorship_tag": "ABX9TyMk+EocICOIEcUMXPZC0wIQ",
      "include_colab_link": true
    },
    "kernelspec": {
      "name": "python3",
      "display_name": "Python 3"
    },
    "language_info": {
      "name": "python"
    }
  },
  "cells": [
    {
      "cell_type": "markdown",
      "metadata": {
        "id": "view-in-github",
        "colab_type": "text"
      },
      "source": [
        "<a href=\"https://colab.research.google.com/github/efwoods/EvanWoodsTwitter/blob/test/love.ipynb\" target=\"_parent\"><img src=\"https://colab.research.google.com/assets/colab-badge.svg\" alt=\"Open In Colab\"/></a>"
      ]
    },
    {
      "cell_type": "markdown",
      "source": [
        "# Objective: Detect Depression in a tweet and respond with a virtual hug\n",
        "- [ ] tweet = getTweet()\n",
        "- [ ] depressed = detectDepression()\n",
        "- [ ] if depressed: love = generateVirtualHug();\n",
        "- [ ] sendMedicine(love);"
      ],
      "metadata": {
        "id": "fmiCURBCkdwq"
      }
    },
    {
      "cell_type": "markdown",
      "source": [
        "## [Get Tweet](https://towardsdatascience.com/an-extensive-guide-to-collecting-tweets-from-twitter-api-v2-for-academic-research-using-python-3-518fcb71df2a)"
      ],
      "metadata": {
        "id": "SDdyLbDJlLa-"
      }
    },
    {
      "cell_type": "code",
      "source": [
        "# For sending GET requests from the API\n",
        "import requests\n",
        "# For saving access tokens and for file management when creating and adding to the dataset\n",
        "import os\n",
        "# For dealing with json responses we receive from the API\n",
        "import json\n",
        "# For displaying the data after\n",
        "import pandas as pd\n",
        "# For saving the response data in CSV format\n",
        "import csv\n",
        "# For parsing the dates received from twitter in readable formats\n",
        "import datetime\n",
        "import dateutil.parser\n",
        "import unicodedata\n",
        "#To add wait time between requests\n",
        "import time\n",
        "\n",
        "os.environ['TOKEN'] = 'AAAAAAAAAAAAAAAAAAAAAJ7giAEAAAAAGlUH%2FHvgALQzPaBupjSfMnbAL6w%3DXnBwUWgwQL2PuYgq3rNxdznhQ6Tier2SljhOMfqmEIGPJu9jGl'\n",
        "\n",
        "def auth():\n",
        "    return os.getenv('TOKEN')\n",
        "\n",
        "def create_headers(bearer_token):\n",
        "    headers = {\"Authorization\": \"Bearer {}\".format(bearer_token)}\n",
        "    return headers\n",
        "\n",
        "def create_url(keyword, start_date, end_date, max_results = 10):\n",
        "\n",
        "    search_url = \"https://api.twitter.com/2/tweets/search/all\" #Change to the endpoint you want to collect data from\n",
        "\n",
        "    #change params based on the endpoint you are using\n",
        "    query_params = {'query': keyword,\n",
        "                    'start_time': start_date,\n",
        "                    'end_time': end_date,\n",
        "                    'max_results': max_results,\n",
        "                    'expansions': 'author_id,in_reply_to_user_id,geo.place_id',\n",
        "                    'tweet.fields': 'id,text,author_id,in_reply_to_user_id,geo,conversation_id,created_at,lang,public_metrics,referenced_tweets,reply_settings,source',\n",
        "                    'user.fields': 'id,name,username,created_at,description,public_metrics,verified',\n",
        "                    'place.fields': 'full_name,id,country,country_code,geo,name,place_type',\n",
        "                    'next_token': {}}\n",
        "    return (search_url, query_params)\n",
        "\n",
        "\n",
        "def connect_to_endpoint(url, headers, params, next_token = None):\n",
        "    params['next_token'] = next_token   #params object received from create_url function\n",
        "    response = requests.request(\"GET\", url, headers = headers, params = params)\n",
        "    print(\"Endpoint Response Code: \" + str(response.status_code))\n",
        "    if response.status_code != 200:\n",
        "        raise Exception(response.status_code, response.text)\n",
        "    return response.json()\n",
        "\n",
        "# call api to get tweet from depressed or dark\n",
        "def getTweet():\n",
        "  bearer_token = auth()\n",
        "  headers = create_headers(bearer_token)\n",
        "  search_url, query_params = create_url('#depressed')\n",
        "  return connect_to_endpoint(search_url, headers, query_params)\n"
      ],
      "metadata": {
        "id": "LJfel6m_lOTY"
      },
      "execution_count": 16,
      "outputs": []
    },
    {
      "cell_type": "code",
      "source": [
        "response = getTweet()"
      ],
      "metadata": {
        "colab": {
          "base_uri": "https://localhost:8080/",
          "height": 280
        },
        "id": "TSG5h_jVez2i",
        "outputId": "2e851a2c-baa6-4614-e4e4-ef09d7f138d2"
      },
      "execution_count": 17,
      "outputs": [
        {
          "output_type": "error",
          "ename": "TypeError",
          "evalue": "ignored",
          "traceback": [
            "\u001b[0;31m---------------------------------------------------------------------------\u001b[0m",
            "\u001b[0;31mTypeError\u001b[0m                                 Traceback (most recent call last)",
            "\u001b[0;32m<ipython-input-17-9389d91fd1e9>\u001b[0m in \u001b[0;36m<module>\u001b[0;34m\u001b[0m\n\u001b[0;32m----> 1\u001b[0;31m \u001b[0mresponse\u001b[0m \u001b[0;34m=\u001b[0m \u001b[0mgetTweet\u001b[0m\u001b[0;34m(\u001b[0m\u001b[0;34m)\u001b[0m\u001b[0;34m\u001b[0m\u001b[0;34m\u001b[0m\u001b[0m\n\u001b[0m",
            "\u001b[0;32m<ipython-input-16-5def29e8e4f2>\u001b[0m in \u001b[0;36mgetTweet\u001b[0;34m()\u001b[0m\n\u001b[1;32m     54\u001b[0m   \u001b[0mbearer_token\u001b[0m \u001b[0;34m=\u001b[0m \u001b[0mauth\u001b[0m\u001b[0;34m(\u001b[0m\u001b[0;34m)\u001b[0m\u001b[0;34m\u001b[0m\u001b[0;34m\u001b[0m\u001b[0m\n\u001b[1;32m     55\u001b[0m   \u001b[0mheaders\u001b[0m \u001b[0;34m=\u001b[0m \u001b[0mcreate_headers\u001b[0m\u001b[0;34m(\u001b[0m\u001b[0mbearer_token\u001b[0m\u001b[0;34m)\u001b[0m\u001b[0;34m\u001b[0m\u001b[0;34m\u001b[0m\u001b[0m\n\u001b[0;32m---> 56\u001b[0;31m   \u001b[0msearch_url\u001b[0m\u001b[0;34m,\u001b[0m \u001b[0mquery_params\u001b[0m \u001b[0;34m=\u001b[0m \u001b[0mcreate_url\u001b[0m\u001b[0;34m(\u001b[0m\u001b[0;34m'#depressed'\u001b[0m\u001b[0;34m)\u001b[0m\u001b[0;34m\u001b[0m\u001b[0;34m\u001b[0m\u001b[0m\n\u001b[0m\u001b[1;32m     57\u001b[0m   \u001b[0mresponse\u001b[0m \u001b[0;34m=\u001b[0m \u001b[0mconnect_to_endpoint\u001b[0m\u001b[0;34m(\u001b[0m\u001b[0msearch_url\u001b[0m\u001b[0;34m,\u001b[0m \u001b[0mheaders\u001b[0m\u001b[0;34m,\u001b[0m \u001b[0mquery_params\u001b[0m\u001b[0;34m)\u001b[0m\u001b[0;34m\u001b[0m\u001b[0;34m\u001b[0m\u001b[0m\n",
            "\u001b[0;31mTypeError\u001b[0m: create_url() missing 2 required positional arguments: 'start_date' and 'end_date'"
          ]
        }
      ]
    },
    {
      "cell_type": "markdown",
      "source": [
        "## Detect Depression"
      ],
      "metadata": {
        "id": "KbG6YNBClZZi"
      }
    },
    {
      "cell_type": "code",
      "source": [
        "'''\n",
        "def detectDepression():\n",
        "\n",
        "\n",
        "  # use ML to detect depression\n",
        "'''"
      ],
      "metadata": {
        "id": "UuHrF68Qld-F"
      },
      "execution_count": 14,
      "outputs": []
    },
    {
      "cell_type": "code",
      "source": [],
      "metadata": {
        "colab": {
          "base_uri": "https://localhost:8080/",
          "height": 171
        },
        "id": "yNgbui9feil8",
        "outputId": "15348741-01b0-4ad6-cae8-5ce00df3507c"
      },
      "execution_count": 15,
      "outputs": [
        {
          "output_type": "error",
          "ename": "NameError",
          "evalue": "ignored",
          "traceback": [
            "\u001b[0;31m---------------------------------------------------------------------------\u001b[0m",
            "\u001b[0;31mNameError\u001b[0m                                 Traceback (most recent call last)",
            "\u001b[0;32m<ipython-input-15-ef8b248111bc>\u001b[0m in \u001b[0;36m<module>\u001b[0;34m\u001b[0m\n\u001b[0;32m----> 1\u001b[0;31m \u001b[0mprint\u001b[0m\u001b[0;34m(\u001b[0m\u001b[0mresponse\u001b[0m\u001b[0;34m)\u001b[0m\u001b[0;34m\u001b[0m\u001b[0;34m\u001b[0m\u001b[0m\n\u001b[0m",
            "\u001b[0;31mNameError\u001b[0m: name 'response' is not defined"
          ]
        }
      ]
    },
    {
      "cell_type": "markdown",
      "source": [
        "## Generate Virtual Hug"
      ],
      "metadata": {
        "id": "hmLGVAlsllTO"
      }
    },
    {
      "cell_type": "code",
      "source": [
        "def generateVirtualHug():\n",
        "  # generate a virtual hug meme or a tweet"
      ],
      "metadata": {
        "colab": {
          "base_uri": "https://localhost:8080/",
          "height": 134
        },
        "id": "_jiKasFVlkCt",
        "outputId": "462b82cb-2e93-4a37-b76b-e3f2ed821874"
      },
      "execution_count": 5,
      "outputs": [
        {
          "output_type": "error",
          "ename": "SyntaxError",
          "evalue": "ignored",
          "traceback": [
            "\u001b[0;36m  File \u001b[0;32m\"<ipython-input-5-35743a67fe43>\"\u001b[0;36m, line \u001b[0;32m2\u001b[0m\n\u001b[0;31m    # generate a virtual hug meme or a tweet\u001b[0m\n\u001b[0m                                             ^\u001b[0m\n\u001b[0;31mSyntaxError\u001b[0m\u001b[0;31m:\u001b[0m unexpected EOF while parsing\n"
          ]
        }
      ]
    },
    {
      "cell_type": "markdown",
      "source": [
        "## Send Medicine"
      ],
      "metadata": {
        "id": "sLXOIeqQl1Ju"
      }
    },
    {
      "cell_type": "code",
      "source": [
        "def sendMedicine(love):\n",
        "  # reply to tweet with generatedVirtualHug"
      ],
      "metadata": {
        "id": "AQY0iGnWlyPI"
      },
      "execution_count": null,
      "outputs": []
    }
  ]
}