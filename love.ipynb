{
  "nbformat": 4,
  "nbformat_minor": 0,
  "metadata": {
    "colab": {
      "provenance": [],
      "authorship_tag": "ABX9TyNF/lfNdNDbkVM88RQkB8Uf",
      "include_colab_link": true
    },
    "kernelspec": {
      "name": "python3",
      "display_name": "Python 3"
    },
    "language_info": {
      "name": "python"
    }
  },
  "cells": [
    {
      "cell_type": "markdown",
      "metadata": {
        "id": "view-in-github",
        "colab_type": "text"
      },
      "source": [
        "<a href=\"https://colab.research.google.com/github/efwoods/EvanWoodsTwitter/blob/test/love.ipynb\" target=\"_parent\"><img src=\"https://colab.research.google.com/assets/colab-badge.svg\" alt=\"Open In Colab\"/></a>"
      ]
    },
    {
      "cell_type": "markdown",
      "source": [
        "# Objective: Detect Depression in a tweet and respond with a virtual hug\n",
        "- [ ] tweet = getTweet()\n",
        "- [ ] depressed = detectDepression()\n",
        "- [ ] if depressed: love = generateVirtualHug();\n",
        "- [ ] sendMedicine(love);"
      ],
      "metadata": {
        "id": "fmiCURBCkdwq"
      }
    },
    {
      "cell_type": "markdown",
      "source": [
        "## Get Tweet"
      ],
      "metadata": {
        "id": "SDdyLbDJlLa-"
      }
    },
    {
      "cell_type": "code",
      "source": [
        "def getTweet():\n",
        "  # call api to get tweet from #depressed or #dark"
      ],
      "metadata": {
        "colab": {
          "base_uri": "https://localhost:8080/",
          "height": 134
        },
        "id": "LJfel6m_lOTY",
        "outputId": "529b2293-310f-4bdf-bc48-987c592077d3"
      },
      "execution_count": 1,
      "outputs": [
        {
          "output_type": "error",
          "ename": "SyntaxError",
          "evalue": "ignored",
          "traceback": [
            "\u001b[0;36m  File \u001b[0;32m\"<ipython-input-1-8886e9355af1>\"\u001b[0;36m, line \u001b[0;32m2\u001b[0m\n\u001b[0;31m    # call api to get tweet from #depressed or #dark\u001b[0m\n\u001b[0m                                                    ^\u001b[0m\n\u001b[0;31mSyntaxError\u001b[0m\u001b[0;31m:\u001b[0m unexpected EOF while parsing\n"
          ]
        }
      ]
    },
    {
      "cell_type": "markdown",
      "source": [
        "## Detect Depression"
      ],
      "metadata": {
        "id": "KbG6YNBClZZi"
      }
    },
    {
      "cell_type": "code",
      "source": [
        "def detectDepression():\n",
        "  # use ML to detect depression"
      ],
      "metadata": {
        "colab": {
          "base_uri": "https://localhost:8080/",
          "height": 134
        },
        "id": "UuHrF68Qld-F",
        "outputId": "b14f4c31-cf90-404f-c0f6-5fa7b3d4e438"
      },
      "execution_count": 3,
      "outputs": [
        {
          "output_type": "error",
          "ename": "SyntaxError",
          "evalue": "ignored",
          "traceback": [
            "\u001b[0;36m  File \u001b[0;32m\"<ipython-input-3-45bf337535c1>\"\u001b[0;36m, line \u001b[0;32m2\u001b[0m\n\u001b[0;31m    # use ML to detect depression\u001b[0m\n\u001b[0m                                 ^\u001b[0m\n\u001b[0;31mSyntaxError\u001b[0m\u001b[0;31m:\u001b[0m unexpected EOF while parsing\n"
          ]
        }
      ]
    },
    {
      "cell_type": "markdown",
      "source": [
        "## Generate Virtual Hug"
      ],
      "metadata": {
        "id": "hmLGVAlsllTO"
      }
    },
    {
      "cell_type": "code",
      "source": [
        "def generateVirtualHug():\n",
        "  # generate a virtual hug meme or a tweet"
      ],
      "metadata": {
        "colab": {
          "base_uri": "https://localhost:8080/",
          "height": 134
        },
        "id": "_jiKasFVlkCt",
        "outputId": "462b82cb-2e93-4a37-b76b-e3f2ed821874"
      },
      "execution_count": 5,
      "outputs": [
        {
          "output_type": "error",
          "ename": "SyntaxError",
          "evalue": "ignored",
          "traceback": [
            "\u001b[0;36m  File \u001b[0;32m\"<ipython-input-5-35743a67fe43>\"\u001b[0;36m, line \u001b[0;32m2\u001b[0m\n\u001b[0;31m    # generate a virtual hug meme or a tweet\u001b[0m\n\u001b[0m                                             ^\u001b[0m\n\u001b[0;31mSyntaxError\u001b[0m\u001b[0;31m:\u001b[0m unexpected EOF while parsing\n"
          ]
        }
      ]
    },
    {
      "cell_type": "markdown",
      "source": [
        "## Send Medicine"
      ],
      "metadata": {
        "id": "sLXOIeqQl1Ju"
      }
    },
    {
      "cell_type": "code",
      "source": [
        "def sendMedicine(love):\n",
        "  # reply to tweet with generatedVirtualHug"
      ],
      "metadata": {
        "id": "AQY0iGnWlyPI"
      },
      "execution_count": null,
      "outputs": []
    }
  ]
}