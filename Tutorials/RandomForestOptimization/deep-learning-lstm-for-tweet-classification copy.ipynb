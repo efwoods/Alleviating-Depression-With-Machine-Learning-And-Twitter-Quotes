{
 "cells": [
  {
   "cell_type": "markdown",
   "metadata": {
    "_uuid": "75c5b3782593874a3f85736690396ecb68764c1e"
   },
   "source": [
    "# Basic Imports for a Deep Learning(DL) Project\n",
    "-----\n",
    "\n",
    "Most deep learning projects will use the following set of libraries:\n",
    ".\n",
    "* numpy  - Core numerical processing libarry in python, moslty a python wrapper for optimized C and Fortran.\n",
    "* pandas - Default Data processing libriary, stores a dataset in \"DataFrame\" object that's an in-memory columnar store(by default), builds upon numpy.\n",
    "* sklearn - Default Machine Learning library for python, lot's of useful data processing utils, works well with pandas.\n",
    "* keras - Deep Learning Library that wraps and abstracts tensorflow (or theano), provides a simple intutive high level API for developing deep learning models and is the most popular solution by far for writing Deep Learning Code. The specific layers you import from keras will differ based on the task. Below are some common Layers used in NLP(e.g. Embedding, LSTM, GRU)\n",
    "* tensorflow - Google's DL Library, Keras code runs tensorflow \"graphs\" to handle the computations, which are actually run in C++"
   ]
  },
  {
   "cell_type": "code",
   "execution_count": 1,
   "metadata": {
    "_cell_guid": "79c7e3d0-c299-4dcb-8224-4455121ee9b0",
    "_uuid": "d629ff2d2480ee46fbb7e2d37f6b5fab8052498a"
   },
   "outputs": [],
   "source": [
    "import os\n",
    "import re\n",
    "\n",
    "import numpy as np\n",
    "import tensorflow as tf\n",
    "\n",
    "np.random.seed(1)\n",
    "tf.random.set_seed(2)\n",
    "\n",
    "import pandas as pd\n",
    "import keras\n",
    "# from tqdm import tqdm\n",
    "from tqdm import tqdm_notebook as tqdm\n",
    "from sklearn.model_selection import train_test_split\n",
    "from sklearn.preprocessing import LabelEncoder\n",
    "from sklearn.utils import class_weight\n",
    "from sklearn.metrics import f1_score, classification_report, log_loss\n",
    "\n",
    "from keras.preprocessing.text import Tokenizer\n",
    "from keras_preprocessing.sequence import pad_sequences\n",
    "from keras.utils import to_categorical\n",
    "\n",
    "from keras.models import Sequential\n",
    "from keras.layers import Embedding, LSTM, Dense, SpatialDropout1D, Bidirectional, Flatten\n",
    "from keras.layers import Dropout, Conv1D, GlobalMaxPool1D, GRU, GlobalAvgPool1D\n",
    "from keras.optimizers import Adam\n",
    "from keras.callbacks import ModelCheckpoint, EarlyStopping\n",
    "\n",
    "# print(os.listdir('./trai'))"
   ]
  },
  {
   "cell_type": "code",
   "execution_count": 2,
   "metadata": {
    "_uuid": "52c9ad69d88414d014718978d950eb0573d7ede2"
   },
   "outputs": [],
   "source": [
    "#training constants\n",
    "MAX_SEQ_LEN = 25 #this is based on a quick analysis of the len of sequences train['text'].apply(lambda x : len(x.split(' '))).quantile(0.95)\n",
    "DEFAULT_BATCH_SIZE = 128"
   ]
  },
  {
   "cell_type": "markdown",
   "metadata": {
    "_uuid": "43a345b95009f93ab4587abcaf3908db40fbb316"
   },
   "source": [
    "#  Import Data and Prep For Model \n",
    "----\n",
    "\n",
    "Steps:\n",
    "* Data is loaded into pandas\n",
    "* Data is split into train and test datasets (training is used to train the model and test is used to evaluate the predictions)\n",
    " * In most implementations you also have a validation dataset that you use to tune your model\n",
    "* Text Data is cleaned for common mappings\n",
    "* Data is tokenized into integer keys for lookups to the Embedding Matrix(discussed below)"
   ]
  },
  {
   "cell_type": "markdown",
   "metadata": {
    "_uuid": "28698068355c74f6b54c245107a12433f86bab8d"
   },
   "source": [
    "### Import data into pandas and split into train and test set (usually would also have a 3rd split for validation)"
   ]
  },
  {
   "cell_type": "code",
   "execution_count": 3,
   "metadata": {
    "_uuid": "f5427360c5f59fbba2e27be4c1fd67289f73ac1b"
   },
   "outputs": [],
   "source": [
    "data = pd.read_csv('./training.1600000.processed.noemoticon.csv', encoding='latin-1')\n",
    "# data = data[data['sentiment'] != 'Neutral']\n"
   ]
  },
  {
   "cell_type": "code",
   "execution_count": 4,
   "metadata": {},
   "outputs": [],
   "source": [
    "DATASET_COLUMNS = [\"sentiment\", \"ids\", \"date\", \"flag\", \"user\", \"text\"] # positive is 1\n",
    "data.columns = DATASET_COLUMNS"
   ]
  },
  {
   "cell_type": "code",
   "execution_count": 5,
   "metadata": {},
   "outputs": [
    {
     "name": "stdout",
     "output_type": "stream",
     "text": [
      "(1600, 6)\n",
      "(1600, 6)\n",
      "(3200, 6)\n"
     ]
    },
    {
     "data": {
      "text/html": [
       "<div>\n",
       "<style scoped>\n",
       "    .dataframe tbody tr th:only-of-type {\n",
       "        vertical-align: middle;\n",
       "    }\n",
       "\n",
       "    .dataframe tbody tr th {\n",
       "        vertical-align: top;\n",
       "    }\n",
       "\n",
       "    .dataframe thead th {\n",
       "        text-align: right;\n",
       "    }\n",
       "</style>\n",
       "<table border=\"1\" class=\"dataframe\">\n",
       "  <thead>\n",
       "    <tr style=\"text-align: right;\">\n",
       "      <th></th>\n",
       "      <th>count</th>\n",
       "      <th>mean</th>\n",
       "      <th>std</th>\n",
       "      <th>min</th>\n",
       "      <th>25%</th>\n",
       "      <th>50%</th>\n",
       "      <th>75%</th>\n",
       "      <th>max</th>\n",
       "    </tr>\n",
       "  </thead>\n",
       "  <tbody>\n",
       "    <tr>\n",
       "      <th>sentiment</th>\n",
       "      <td>3200.0</td>\n",
       "      <td>2.000000e+00</td>\n",
       "      <td>2.000313</td>\n",
       "      <td>0.000000e+00</td>\n",
       "      <td>0.000000e+00</td>\n",
       "      <td>2.000000e+00</td>\n",
       "      <td>4.000000e+00</td>\n",
       "      <td>4.000000e+00</td>\n",
       "    </tr>\n",
       "    <tr>\n",
       "      <th>ids</th>\n",
       "      <td>3200.0</td>\n",
       "      <td>1.467986e+09</td>\n",
       "      <td>99867.777386</td>\n",
       "      <td>1.467811e+09</td>\n",
       "      <td>1.467900e+09</td>\n",
       "      <td>1.467987e+09</td>\n",
       "      <td>1.468068e+09</td>\n",
       "      <td>1.468193e+09</td>\n",
       "    </tr>\n",
       "  </tbody>\n",
       "</table>\n",
       "</div>"
      ],
      "text/plain": [
       "            count          mean           std           min           25%  \\\n",
       "sentiment  3200.0  2.000000e+00      2.000313  0.000000e+00  0.000000e+00   \n",
       "ids        3200.0  1.467986e+09  99867.777386  1.467811e+09  1.467900e+09   \n",
       "\n",
       "                    50%           75%           max  \n",
       "sentiment  2.000000e+00  4.000000e+00  4.000000e+00  \n",
       "ids        1.467987e+09  1.468068e+09  1.468193e+09  "
      ]
     },
     "execution_count": 5,
     "metadata": {},
     "output_type": "execute_result"
    }
   ],
   "source": [
    "sample_size = 1600\n",
    "\n",
    "positive_data = data[data.sentiment==4].iloc[:sample_size]\n",
    "print(positive_data.shape)\n",
    "negative_data = data[data.sentiment==0].iloc[:sample_size]\n",
    "print(negative_data.shape)\n",
    "data = pd.concat([positive_data,negative_data],axis = 0)\n",
    "print(data.shape)\n",
    "data.head()\n",
    "\n",
    "data.describe().T"
   ]
  },
  {
   "cell_type": "code",
   "execution_count": 6,
   "metadata": {},
   "outputs": [
    {
     "name": "stdout",
     "output_type": "stream",
     "text": [
      "<class 'pandas.core.frame.DataFrame'>\n",
      "Int64Index: 3200 entries, 799999 to 1599\n",
      "Data columns (total 6 columns):\n",
      " #   Column     Non-Null Count  Dtype \n",
      "---  ------     --------------  ----- \n",
      " 0   sentiment  3200 non-null   int64 \n",
      " 1   ids        3200 non-null   int64 \n",
      " 2   date       3200 non-null   object\n",
      " 3   flag       3200 non-null   object\n",
      " 4   user       3200 non-null   object\n",
      " 5   text       3200 non-null   object\n",
      "dtypes: int64(2), object(4)\n",
      "memory usage: 175.0+ KB\n"
     ]
    }
   ],
   "source": [
    "data.info()"
   ]
  },
  {
   "cell_type": "code",
   "execution_count": 7,
   "metadata": {},
   "outputs": [
    {
     "name": "stdout",
     "output_type": "stream",
     "text": [
      "(2880, 6)\n",
      "(320, 6)\n"
     ]
    }
   ],
   "source": [
    "train, test = train_test_split(data, random_state = 42, test_size=0.1)\n",
    "print(train.shape)\n",
    "print(test.shape)"
   ]
  },
  {
   "cell_type": "code",
   "execution_count": 8,
   "metadata": {
    "_kg_hide-input": true,
    "_uuid": "183519e8e086d3bac0a44e1f200b28746fb2d280"
   },
   "outputs": [],
   "source": [
    "# Mapping of common contractions, could probbaly be done better\n",
    "CONTRACTION_MAPPING = {\"ain't\": \"is not\", \"aren't\": \"are not\",\"can't\": \"cannot\", \"'cause\": \"because\", \"could've\": \"could have\", \"couldn't\": \"could not\", \"didn't\": \"did not\",  \"doesn't\": \"does not\", \"don't\": \"do not\", \"hadn't\": \"had not\", \"hasn't\": \"has not\", \"haven't\": \"have not\", \"he'd\": \"he would\",\"he'll\": \"he will\", \"he's\": \"he is\", \"how'd\": \"how did\", \"how'd'y\": \"how do you\", \"how'll\": \"how will\", \"how's\": \"how is\",  \"I'd\": \"I would\", \"I'd've\": \"I would have\", \"I'll\": \"I will\", \"I'll've\": \"I will have\",\"I'm\": \"I am\", \"I've\": \"I have\", \"i'd\": \"i would\", \"i'd've\": \"i would have\", \"i'll\": \"i will\",  \"i'll've\": \"i will have\",\"i'm\": \"i am\", \"i've\": \"i have\", \"isn't\": \"is not\", \"it'd\": \"it would\", \"it'd've\": \"it would have\", \"it'll\": \"it will\", \"it'll've\": \"it will have\",\"it's\": \"it is\", \"let's\": \"let us\", \"ma'am\": \"madam\", \"mayn't\": \"may not\", \"might've\": \"might have\",\"mightn't\": \"might not\",\"mightn't've\": \"might not have\", \"must've\": \"must have\", \"mustn't\": \"must not\", \"mustn't've\": \"must not have\", \"needn't\": \"need not\", \"needn't've\": \"need not have\",\"o'clock\": \"of the clock\", \"oughtn't\": \"ought not\", \"oughtn't've\": \"ought not have\", \"shan't\": \"shall not\", \"sha'n't\": \"shall not\", \"shan't've\": \"shall not have\", \"she'd\": \"she would\", \"she'd've\": \"she would have\", \"she'll\": \"she will\", \"she'll've\": \"she will have\", \"she's\": \"she is\", \"should've\": \"should have\", \"shouldn't\": \"should not\", \"shouldn't've\": \"should not have\", \"so've\": \"so have\",\"so's\": \"so as\", \"this's\": \"this is\",\"that'd\": \"that would\", \"that'd've\": \"that would have\", \"that's\": \"that is\", \"there'd\": \"there would\", \"there'd've\": \"there would have\", \"there's\": \"there is\", \"here's\": \"here is\",\"they'd\": \"they would\", \"they'd've\": \"they would have\", \"they'll\": \"they will\", \"they'll've\": \"they will have\", \"they're\": \"they are\", \"they've\": \"they have\", \"to've\": \"to have\", \"wasn't\": \"was not\", \"we'd\": \"we would\", \"we'd've\": \"we would have\", \"we'll\": \"we will\", \"we'll've\": \"we will have\", \"we're\": \"we are\", \"we've\": \"we have\", \"weren't\": \"were not\", \"what'll\": \"what will\", \"what'll've\": \"what will have\", \"what're\": \"what are\",  \"what's\": \"what is\", \"what've\": \"what have\", \"when's\": \"when is\", \"when've\": \"when have\", \"where'd\": \"where did\", \"where's\": \"where is\", \"where've\": \"where have\", \"who'll\": \"who will\", \"who'll've\": \"who will have\", \"who's\": \"who is\", \"who've\": \"who have\", \"why's\": \"why is\", \"why've\": \"why have\", \"will've\": \"will have\", \"won't\": \"will not\", \"won't've\": \"will not have\", \"would've\": \"would have\", \"wouldn't\": \"would not\", \"wouldn't've\": \"would not have\", \"y'all\": \"you all\", \"y'all'd\": \"you all would\",\"y'all'd've\": \"you all would have\",\"y'all're\": \"you all are\",\"y'all've\": \"you all have\",\"you'd\": \"you would\", \"you'd've\": \"you would have\", \"you'll\": \"you will\", \"you'll've\": \"you will have\", \"you're\": \"you are\", \"you've\": \"you have\",\n",
    "                       \"It's\": 'It is', \"Can't\": 'Can not',\n",
    "                      }"
   ]
  },
  {
   "cell_type": "code",
   "execution_count": 9,
   "metadata": {
    "_uuid": "f3e377f18e41a2ec9b85a709584795b9778fc866"
   },
   "outputs": [],
   "source": [
    "def clean_text(text, mapping):\n",
    "    replace_white_space = [\"\\n\"]\n",
    "    for s in replace_white_space:\n",
    "        text = text.replace(s, \" \")\n",
    "    replace_punctuation = [\"’\", \"‘\", \"´\", \"`\", \"\\'\", r\"\\'\"]\n",
    "    for s in replace_punctuation:\n",
    "        text = text.replace(s, \"'\")\n",
    "    \n",
    "    # Random note: removing the URL's slightly degraded performance, it's possible the model learned that certain URLs were positive/negative\n",
    "    # And was able to extrapolate that to retweets. Could also explain why re-training the Embeddings improves performance.\n",
    "    # remove twitter url's\n",
    "#     text = re.sub(r\"http[s]?://t.co/[A-Za-z0-9]*\",\"TWITTERURL\",text)\n",
    "    mapped_string = []\n",
    "    for t in text.split(\" \"):\n",
    "        if t in mapping:\n",
    "            mapped_string.append(mapping[t])\n",
    "        elif t.lower() in mapping:\n",
    "            mapped_string.append(mapping[t.lower()])\n",
    "        else:\n",
    "            mapped_string.append(t)\n",
    "    return ' '.join(mapped_string)"
   ]
  },
  {
   "cell_type": "markdown",
   "metadata": {
    "_uuid": "6ad123aaffb7360abcf47df619a3009a3671bcba"
   },
   "source": [
    "### Tokenize Text, which involves converting each sequence into an integer encoded represenation and normalizing the length of the sequences. Please note very little pre-processing is done to the text. More specifically there's no stemming or POS tagging, common in NLP tasks. Additionally, text is left in original case (i.e not cast to lowercase).\n",
    "\n",
    "### This is one of the main selling points of Deep Learning methods, that it's able to produce high quality results with minimal pre-processing or \"expert\" feature engineering. Though in practice adding \"novel\" features can improve the quality of the model (speed to convergence and accuracy of results). "
   ]
  },
  {
   "cell_type": "code",
   "execution_count": 10,
   "metadata": {
    "_uuid": "dbd5d348547dc46e3b4060bb172119d2f0cc12e9"
   },
   "outputs": [
    {
     "name": "stdout",
     "output_type": "stream",
     "text": [
      "Number of Tokens: 8827\n",
      "Max Token Index: 8827 \n",
      "\n",
      "Sample Tweet Before Processing: @dragoneer Yea   I am working tp hack my server to do the 12player thing for folks\n",
      "Sample Tweet After Processing: ['dragoneer Yea I am working tp hack my server to do the 12player thing for folks'] \n",
      "\n",
      "What the model will interpret: [0, 0, 0, 0, 0, 0, 0, 0, 0, 2660, 1610, 1, 14, 237, 2661, 2662, 8, 1611, 2, 24, 3, 2663, 145, 13, 1160]\n"
     ]
    }
   ],
   "source": [
    "# Get tweets from Data frame and convert to list of \"texts\" scrubbing based on clean_text function\n",
    "# CONTRACTION_MAPPING is a map of common contractions(e.g don't => do not)\n",
    "train_text_vec = [clean_text(text, CONTRACTION_MAPPING) for text in train['text'].values]\n",
    "test_text_vec = [clean_text(text, CONTRACTION_MAPPING) for text in test['text'].values]\n",
    "\n",
    "\n",
    "# tokenize the sentences\n",
    "tokenizer = Tokenizer(lower=False)\n",
    "tokenizer.fit_on_texts(train_text_vec)\n",
    "train_text_vec = tokenizer.texts_to_sequences(train_text_vec)\n",
    "test_text_vec = tokenizer.texts_to_sequences(test_text_vec)\n",
    "\n",
    "# pad the sequences\n",
    "train_text_vec = pad_sequences(train_text_vec, maxlen=MAX_SEQ_LEN)\n",
    "test_text_vec = pad_sequences(test_text_vec, maxlen=MAX_SEQ_LEN)\n",
    "\n",
    "print('Number of Tokens:', len(tokenizer.word_index))\n",
    "print(\"Max Token Index:\", train_text_vec.max(), \"\\n\")\n",
    "\n",
    "print('Sample Tweet Before Processing:', train[\"text\"].values[0])\n",
    "print('Sample Tweet After Processing:', tokenizer.sequences_to_texts([train_text_vec[0]]), '\\n')\n",
    "\n",
    "print('What the model will interpret:', train_text_vec[0].tolist())\n"
   ]
  },
  {
   "cell_type": "markdown",
   "metadata": {
    "_uuid": "424d69feeebf664516a59e638e730679773074d8"
   },
   "source": [
    "### Prepping output data. In this case the sentiment is classified as Negative, Neutral or Positive. To make it suitable for a deep learning model each sentiment will be converted to a vector of length 3, where each position corresponds to a sentiment class: Negative = 0, Neutral = 1 and Positive = 2"
   ]
  },
  {
   "cell_type": "code",
   "execution_count": 11,
   "metadata": {
    "_uuid": "c59b951c2a389ec3da8c9973fcd27659af98e3a8"
   },
   "outputs": [],
   "source": [
    "# One Hot Encode Y values:\n",
    "encoder = LabelEncoder()\n",
    "\n",
    "y_train = encoder.fit_transform(train['sentiment'].values)\n",
    "y_train = to_categorical(y_train) \n",
    "\n",
    "y_test = encoder.fit_transform(test['sentiment'].values)\n",
    "y_test = to_categorical(y_test) "
   ]
  },
  {
   "cell_type": "markdown",
   "metadata": {
    "_uuid": "9770723fadd7ce81a4a66c945ca1edbb002b0e58"
   },
   "source": [
    "### This will be used to weight the training, useful when you have large class imbalances, can speed training and improve results. Alternatively you can balance the classes in the input, so there are equal numbers"
   ]
  },
  {
   "cell_type": "code",
   "execution_count": 12,
   "metadata": {
    "_uuid": "b9102bebaace1a77e415a84b4d267670d0722553"
   },
   "outputs": [
    {
     "name": "stdout",
     "output_type": "stream",
     "text": [
      "Distribution of Classes: Counter({0: 1463, 4: 1417})\n",
      "[0.98427888 1.01623147]\n"
     ]
    }
   ],
   "source": [
    "# get an idea of the distribution of the text values\n",
    "from collections import Counter\n",
    "ctr = Counter(train['sentiment'].values)\n",
    "print('Distribution of Classes:', ctr)\n",
    "\n",
    "# get class weights for the training data, this will be used data\n",
    "y_train_int = np.argmax(y_train,axis=1)\n",
    "cws = class_weight.compute_class_weight('balanced', classes=np.unique(y_train_int), y=y_train_int)\n",
    "print(cws)"
   ]
  },
  {
   "cell_type": "markdown",
   "metadata": {
    "_uuid": "ed7acedde53b8441f354a18998cd48510b828416"
   },
   "source": [
    "# Baselines\n",
    "---\n",
    "\n",
    "It's highly recommended to define some baselines for the model for the following reasons:\n",
    "* It allows you to determine if your model beats basic ML approaches. Most Deep Learning models should improve over simple ML Algorithms so if you're not seeing that you might want to either tune your model or debug it for errors\n",
    "* It gives you an idea if the trade-offs are meaningful. Deep Learning usually requires more expensive comupte costs (e.g. GPUs) and depending on your goal, the increase in performance from a DL approach might not offset the added cost / time complexity. Simple Algorithms like Logistic Regression can even be implemented as in line SQL, while pretty much any DL task will require setting up additional infrastructure to deploy your model. \n",
    "\n",
    "Some common Baseline's:\n",
    "* Predict the dominat class: if you just guess the most frequent class what accuracy do you get? This is the simplest (and should be least accurate) model possible. In the case of twitter always assume the tweet is negative...\n",
    "* Other common classification models. In this case I tried NaiveBayes (an oldy but a goody) and RandomForestClassifier (the go to model for ML Tasks before Deep Learning became dominant). \n",
    "* Have an expert (or several) perform the same classification task themselves and use their Accuracy/Error Rate as a Human Level Benchmark.\n",
    "\n",
    "\n",
    "\n",
    "The goal is not to necessarily tune these to extract high performance, but just get a sense of how the perform (and if you're DL model is improving).\n",
    "\n"
   ]
  },
  {
   "cell_type": "code",
   "execution_count": 13,
   "metadata": {
    "_kg_hide-input": true,
    "_uuid": "43219508f7e6cebfa82e3cc4bb4e2203711ec092"
   },
   "outputs": [],
   "source": [
    "import matplotlib.pyplot as plt\n",
    "from sklearn.metrics import confusion_matrix\n",
    "from sklearn.utils.multiclass import unique_labels\n",
    "\n",
    "np.set_printoptions(precision=4)\n",
    "def plot_confusion_matrix(y_true, y_pred, classes,\n",
    "                          normalize=False,\n",
    "                          title=None,\n",
    "                          cmap=plt.cm.Blues):\n",
    "    \"\"\"\n",
    "    This function prints and plots the confusion matrix.\n",
    "    Normalization can be applied by setting `normalize=True`.\n",
    "    \"\"\"\n",
    "\n",
    "    # Compute confusion matrix\n",
    "    classes = classes[unique_labels(y_true, y_pred)]\n",
    "    _cm = confusion_matrix(y_true, y_pred)\n",
    "\n",
    "    print(classification_report(y_true, y_pred, target_names=classes))\n",
    "        \n",
    "    def _build_matrix(fig, ax, cm, normalize = False):\n",
    "        if normalize:\n",
    "            title = 'Normalized confusion matrix'\n",
    "        else:\n",
    "            title = 'Confusion matrix, without normalization'\n",
    "        \n",
    "        if normalize:\n",
    "            cm = cm.astype('float') / cm.sum(axis=1)[:, np.newaxis]\n",
    "\n",
    "        im = ax.imshow(cm, cmap=cmap)\n",
    "#         fig.colorbar(im, ax=ax)\n",
    "        \n",
    "        # We want to show all ticks...\n",
    "        ax.set(xticks=np.arange(cm.shape[1]),\n",
    "               yticks=np.arange(cm.shape[0]),\n",
    "               # ... and label them with the respective list entries\n",
    "               xticklabels=classes, \n",
    "               yticklabels=classes,\n",
    "               title=title,\n",
    "               ylabel='True label',\n",
    "               xlabel='Predicted label')\n",
    "\n",
    "        # Rotate the tick labels and set their alignment.\n",
    "        plt.setp(ax.get_xticklabels(), rotation=45, ha=\"right\", rotation_mode=\"anchor\")\n",
    "\n",
    "        # Loop over data dimensions and create text annotations.\n",
    "        fmt = '.2f' if normalize else 'd'\n",
    "        thresh = cm.max() / 2.\n",
    "        for i in range(cm.shape[0]):\n",
    "            for j in range(cm.shape[1]):\n",
    "                ax.text(j, i, format(cm[i, j], fmt),\n",
    "                        ha=\"center\", va=\"center\",\n",
    "                        color=\"white\" if cm[i, j] > thresh else \"black\")\n",
    "        \n",
    "    fig, [ax1, ax2] = plt.subplots(nrows = 1, ncols = 2, figsize=(8, 4))\n",
    "    _build_matrix(fig, ax1, cm = _cm, normalize=False)\n",
    "    _build_matrix(fig, ax2, cm = _cm, normalize=True)\n",
    "    fig.tight_layout()\n"
   ]
  },
  {
   "cell_type": "code",
   "execution_count": 14,
   "metadata": {
    "_uuid": "b2d5a6dfa583322c5dfd07ffc1d5b0945d07bdd1"
   },
   "outputs": [
    {
     "name": "stdout",
     "output_type": "stream",
     "text": [
      "Dominant Class:  0\n",
      "Baseline Accuracy Dominant Class 0.428125\n",
      "F1 Score: 0.256687636761488\n"
     ]
    }
   ],
   "source": [
    "# \n",
    "print('Dominant Class: ', ctr.most_common(n = 1)[0][0])\n",
    "print('Baseline Accuracy Dominant Class', (ctr.most_common(n = 1)[0][0] == test['sentiment'].values).mean())\n",
    "\n",
    "preds = np.zeros_like(y_test)\n",
    "preds[:, 0] = 1\n",
    "preds[0] = 1 #done to suppress warning from numpy for f1 score\n",
    "print('F1 Score:', f1_score(y_test, preds, average='weighted'))\n"
   ]
  },
  {
   "cell_type": "code",
   "execution_count": 15,
   "metadata": {
    "_uuid": "93f476194109a6dd189ea3b58c044ea4e7b58e97"
   },
   "outputs": [
    {
     "name": "stdout",
     "output_type": "stream",
     "text": [
      "Baseline Accuracy Using Naive Bayes:  0.64375\n",
      "F1 Score: 0.6443345639943742\n"
     ]
    },
    {
     "ename": "TypeError",
     "evalue": "object of type 'numpy.int64' has no len()",
     "output_type": "error",
     "traceback": [
      "\u001b[0;31m---------------------------------------------------------------------------\u001b[0m",
      "\u001b[0;31mTypeError\u001b[0m                                 Traceback (most recent call last)",
      "Cell \u001b[0;32mIn [15], line 17\u001b[0m\n\u001b[1;32m     14\u001b[0m \u001b[39mprint\u001b[39m(\u001b[39m'\u001b[39m\u001b[39mBaseline Accuracy Using Naive Bayes: \u001b[39m\u001b[39m'\u001b[39m, (predictions \u001b[39m==\u001b[39m y_test\u001b[39m.\u001b[39margmax(axis \u001b[39m=\u001b[39m \u001b[39m1\u001b[39m))\u001b[39m.\u001b[39mmean())\n\u001b[1;32m     15\u001b[0m \u001b[39mprint\u001b[39m(\u001b[39m'\u001b[39m\u001b[39mF1 Score:\u001b[39m\u001b[39m'\u001b[39m, f1_score(y_test\u001b[39m.\u001b[39margmax(axis \u001b[39m=\u001b[39m \u001b[39m1\u001b[39m), predictions, average\u001b[39m=\u001b[39m\u001b[39m'\u001b[39m\u001b[39mweighted\u001b[39m\u001b[39m'\u001b[39m))\n\u001b[0;32m---> 17\u001b[0m _ \u001b[39m=\u001b[39m plot_confusion_matrix(y_test\u001b[39m.\u001b[39;49margmax(axis \u001b[39m=\u001b[39;49m \u001b[39m1\u001b[39;49m), predictions, classes\u001b[39m=\u001b[39;49mencoder\u001b[39m.\u001b[39;49mclasses_, title\u001b[39m=\u001b[39;49m\u001b[39m'\u001b[39;49m\u001b[39mConfusion matrix, without normalization\u001b[39;49m\u001b[39m'\u001b[39;49m)\n",
      "Cell \u001b[0;32mIn [13], line 19\u001b[0m, in \u001b[0;36mplot_confusion_matrix\u001b[0;34m(y_true, y_pred, classes, normalize, title, cmap)\u001b[0m\n\u001b[1;32m     16\u001b[0m classes \u001b[39m=\u001b[39m classes[unique_labels(y_true, y_pred)]\n\u001b[1;32m     17\u001b[0m _cm \u001b[39m=\u001b[39m confusion_matrix(y_true, y_pred)\n\u001b[0;32m---> 19\u001b[0m \u001b[39mprint\u001b[39m(classification_report(y_true, y_pred, target_names\u001b[39m=\u001b[39;49mclasses))\n\u001b[1;32m     21\u001b[0m \u001b[39mdef\u001b[39;00m \u001b[39m_build_matrix\u001b[39m(fig, ax, cm, normalize \u001b[39m=\u001b[39m \u001b[39mFalse\u001b[39;00m):\n\u001b[1;32m     22\u001b[0m     \u001b[39mif\u001b[39;00m normalize:\n",
      "File \u001b[0;32m/opt/homebrew/lib/python3.10/site-packages/sklearn/metrics/_classification.py:2185\u001b[0m, in \u001b[0;36mclassification_report\u001b[0;34m(y_true, y_pred, labels, target_names, sample_weight, digits, output_dict, zero_division)\u001b[0m\n\u001b[1;32m   2183\u001b[0m \u001b[39melse\u001b[39;00m:\n\u001b[1;32m   2184\u001b[0m     longest_last_line_heading \u001b[39m=\u001b[39m \u001b[39m\"\u001b[39m\u001b[39mweighted avg\u001b[39m\u001b[39m\"\u001b[39m\n\u001b[0;32m-> 2185\u001b[0m     name_width \u001b[39m=\u001b[39m \u001b[39mmax\u001b[39;49m(\u001b[39mlen\u001b[39;49m(cn) \u001b[39mfor\u001b[39;49;00m cn \u001b[39min\u001b[39;49;00m target_names)\n\u001b[1;32m   2186\u001b[0m     width \u001b[39m=\u001b[39m \u001b[39mmax\u001b[39m(name_width, \u001b[39mlen\u001b[39m(longest_last_line_heading), digits)\n\u001b[1;32m   2187\u001b[0m     head_fmt \u001b[39m=\u001b[39m \u001b[39m\"\u001b[39m\u001b[39m{\u001b[39m\u001b[39m:>\u001b[39m\u001b[39m{width}\u001b[39;00m\u001b[39ms} \u001b[39m\u001b[39m\"\u001b[39m \u001b[39m+\u001b[39m \u001b[39m\"\u001b[39m\u001b[39m \u001b[39m\u001b[39m{:>9}\u001b[39;00m\u001b[39m\"\u001b[39m \u001b[39m*\u001b[39m \u001b[39mlen\u001b[39m(headers)\n",
      "File \u001b[0;32m/opt/homebrew/lib/python3.10/site-packages/sklearn/metrics/_classification.py:2185\u001b[0m, in \u001b[0;36m<genexpr>\u001b[0;34m(.0)\u001b[0m\n\u001b[1;32m   2183\u001b[0m \u001b[39melse\u001b[39;00m:\n\u001b[1;32m   2184\u001b[0m     longest_last_line_heading \u001b[39m=\u001b[39m \u001b[39m\"\u001b[39m\u001b[39mweighted avg\u001b[39m\u001b[39m\"\u001b[39m\n\u001b[0;32m-> 2185\u001b[0m     name_width \u001b[39m=\u001b[39m \u001b[39mmax\u001b[39m(\u001b[39mlen\u001b[39;49m(cn) \u001b[39mfor\u001b[39;00m cn \u001b[39min\u001b[39;00m target_names)\n\u001b[1;32m   2186\u001b[0m     width \u001b[39m=\u001b[39m \u001b[39mmax\u001b[39m(name_width, \u001b[39mlen\u001b[39m(longest_last_line_heading), digits)\n\u001b[1;32m   2187\u001b[0m     head_fmt \u001b[39m=\u001b[39m \u001b[39m\"\u001b[39m\u001b[39m{\u001b[39m\u001b[39m:>\u001b[39m\u001b[39m{width}\u001b[39;00m\u001b[39ms} \u001b[39m\u001b[39m\"\u001b[39m \u001b[39m+\u001b[39m \u001b[39m\"\u001b[39m\u001b[39m \u001b[39m\u001b[39m{:>9}\u001b[39;00m\u001b[39m\"\u001b[39m \u001b[39m*\u001b[39m \u001b[39mlen\u001b[39m(headers)\n",
      "\u001b[0;31mTypeError\u001b[0m: object of type 'numpy.int64' has no len()"
     ]
    }
   ],
   "source": [
    "# Naive Bayse Baseline\n",
    "from sklearn.feature_extraction.text import CountVectorizer\n",
    "from sklearn.feature_extraction.text import TfidfTransformer\n",
    "from sklearn.naive_bayes import MultinomialNB\n",
    "from sklearn.pipeline import Pipeline\n",
    "\n",
    "text_clf = Pipeline([\n",
    "    ('vect', CountVectorizer()),\n",
    "    ('tfidf', TfidfTransformer()),\n",
    "    ('clf', MultinomialNB()),\n",
    "])\n",
    "text_clf.fit(tokenizer.sequences_to_texts_generator(train_text_vec), y_train.argmax(axis=1))\n",
    "predictions = text_clf.predict(tokenizer.sequences_to_texts_generator(test_text_vec)) \n",
    "print('Baseline Accuracy Using Naive Bayes: ', (predictions == y_test.argmax(axis = 1)).mean())\n",
    "print('F1 Score:', f1_score(y_test.argmax(axis = 1), predictions, average='weighted'))\n",
    "\n",
    "# _ = plot_confusion_matrix(y_test.argmax(axis = 1), predictions, classes=encoder.classes_, title='Confusion matrix, without normalization')"
   ]
  },
  {
   "cell_type": "markdown",
   "metadata": {
    "_uuid": "5483db0a96cfb0a98af04b8dbbe24e556b05434e"
   },
   "source": [
    "### Naive Bayes is a good baseline, but is not robust to imblanced  datasets, common with classification of \"real-world\" data. See [here](https://stats.stackexchange.com/questions/99667/naive-bayes-with-unbalanced-classes) for some methods for overcoming class imbalance. In this case rebalancing the data would require throwing away a lot of negative examples or significantly oversampling the positive an neutral cases. \n",
    "\n",
    "### Another good baseline is a RandomForestClassifier, which for years prior to the Deep Learning explosion reigned as the model of choice for classifcation tasks, below is a simple implementation, with some recommended parameters (one specifically to handle classs imbalance, the other increases the \"complexity\" of the model to the new standard default)."
   ]
  },
  {
   "cell_type": "code",
   "execution_count": 16,
   "metadata": {
    "_uuid": "1c1106ab8fb456511f1fbbc594f922504bd4a985"
   },
   "outputs": [
    {
     "name": "stdout",
     "output_type": "stream",
     "text": [
      "Baseline Accuracy Using RFC:  0.659375\n",
      "F1 Score: 0.6610936869903906\n"
     ]
    },
    {
     "ename": "TypeError",
     "evalue": "object of type 'numpy.int64' has no len()",
     "output_type": "error",
     "traceback": [
      "\u001b[0;31m---------------------------------------------------------------------------\u001b[0m",
      "\u001b[0;31mTypeError\u001b[0m                                 Traceback (most recent call last)",
      "Cell \u001b[0;32mIn [16], line 18\u001b[0m\n\u001b[1;32m     15\u001b[0m \u001b[39mprint\u001b[39m(\u001b[39m'\u001b[39m\u001b[39mBaseline Accuracy Using RFC: \u001b[39m\u001b[39m'\u001b[39m, (predictions \u001b[39m==\u001b[39m y_test\u001b[39m.\u001b[39margmax(axis \u001b[39m=\u001b[39m \u001b[39m1\u001b[39m))\u001b[39m.\u001b[39mmean())\n\u001b[1;32m     16\u001b[0m \u001b[39mprint\u001b[39m(\u001b[39m'\u001b[39m\u001b[39mF1 Score:\u001b[39m\u001b[39m'\u001b[39m, f1_score(y_test\u001b[39m.\u001b[39margmax(axis \u001b[39m=\u001b[39m \u001b[39m1\u001b[39m), predictions, average\u001b[39m=\u001b[39m\u001b[39m'\u001b[39m\u001b[39mweighted\u001b[39m\u001b[39m'\u001b[39m))\n\u001b[0;32m---> 18\u001b[0m _ \u001b[39m=\u001b[39m plot_confusion_matrix(y_test\u001b[39m.\u001b[39;49margmax(axis \u001b[39m=\u001b[39;49m \u001b[39m1\u001b[39;49m), predictions, classes\u001b[39m=\u001b[39;49mencoder\u001b[39m.\u001b[39;49mclasses_)\n",
      "Cell \u001b[0;32mIn [13], line 19\u001b[0m, in \u001b[0;36mplot_confusion_matrix\u001b[0;34m(y_true, y_pred, classes, normalize, title, cmap)\u001b[0m\n\u001b[1;32m     16\u001b[0m classes \u001b[39m=\u001b[39m classes[unique_labels(y_true, y_pred)]\n\u001b[1;32m     17\u001b[0m _cm \u001b[39m=\u001b[39m confusion_matrix(y_true, y_pred)\n\u001b[0;32m---> 19\u001b[0m \u001b[39mprint\u001b[39m(classification_report(y_true, y_pred, target_names\u001b[39m=\u001b[39;49mclasses))\n\u001b[1;32m     21\u001b[0m \u001b[39mdef\u001b[39;00m \u001b[39m_build_matrix\u001b[39m(fig, ax, cm, normalize \u001b[39m=\u001b[39m \u001b[39mFalse\u001b[39;00m):\n\u001b[1;32m     22\u001b[0m     \u001b[39mif\u001b[39;00m normalize:\n",
      "File \u001b[0;32m/opt/homebrew/lib/python3.10/site-packages/sklearn/metrics/_classification.py:2185\u001b[0m, in \u001b[0;36mclassification_report\u001b[0;34m(y_true, y_pred, labels, target_names, sample_weight, digits, output_dict, zero_division)\u001b[0m\n\u001b[1;32m   2183\u001b[0m \u001b[39melse\u001b[39;00m:\n\u001b[1;32m   2184\u001b[0m     longest_last_line_heading \u001b[39m=\u001b[39m \u001b[39m\"\u001b[39m\u001b[39mweighted avg\u001b[39m\u001b[39m\"\u001b[39m\n\u001b[0;32m-> 2185\u001b[0m     name_width \u001b[39m=\u001b[39m \u001b[39mmax\u001b[39;49m(\u001b[39mlen\u001b[39;49m(cn) \u001b[39mfor\u001b[39;49;00m cn \u001b[39min\u001b[39;49;00m target_names)\n\u001b[1;32m   2186\u001b[0m     width \u001b[39m=\u001b[39m \u001b[39mmax\u001b[39m(name_width, \u001b[39mlen\u001b[39m(longest_last_line_heading), digits)\n\u001b[1;32m   2187\u001b[0m     head_fmt \u001b[39m=\u001b[39m \u001b[39m\"\u001b[39m\u001b[39m{\u001b[39m\u001b[39m:>\u001b[39m\u001b[39m{width}\u001b[39;00m\u001b[39ms} \u001b[39m\u001b[39m\"\u001b[39m \u001b[39m+\u001b[39m \u001b[39m\"\u001b[39m\u001b[39m \u001b[39m\u001b[39m{:>9}\u001b[39;00m\u001b[39m\"\u001b[39m \u001b[39m*\u001b[39m \u001b[39mlen\u001b[39m(headers)\n",
      "File \u001b[0;32m/opt/homebrew/lib/python3.10/site-packages/sklearn/metrics/_classification.py:2185\u001b[0m, in \u001b[0;36m<genexpr>\u001b[0;34m(.0)\u001b[0m\n\u001b[1;32m   2183\u001b[0m \u001b[39melse\u001b[39;00m:\n\u001b[1;32m   2184\u001b[0m     longest_last_line_heading \u001b[39m=\u001b[39m \u001b[39m\"\u001b[39m\u001b[39mweighted avg\u001b[39m\u001b[39m\"\u001b[39m\n\u001b[0;32m-> 2185\u001b[0m     name_width \u001b[39m=\u001b[39m \u001b[39mmax\u001b[39m(\u001b[39mlen\u001b[39;49m(cn) \u001b[39mfor\u001b[39;00m cn \u001b[39min\u001b[39;00m target_names)\n\u001b[1;32m   2186\u001b[0m     width \u001b[39m=\u001b[39m \u001b[39mmax\u001b[39m(name_width, \u001b[39mlen\u001b[39m(longest_last_line_heading), digits)\n\u001b[1;32m   2187\u001b[0m     head_fmt \u001b[39m=\u001b[39m \u001b[39m\"\u001b[39m\u001b[39m{\u001b[39m\u001b[39m:>\u001b[39m\u001b[39m{width}\u001b[39;00m\u001b[39ms} \u001b[39m\u001b[39m\"\u001b[39m \u001b[39m+\u001b[39m \u001b[39m\"\u001b[39m\u001b[39m \u001b[39m\u001b[39m{:>9}\u001b[39;00m\u001b[39m\"\u001b[39m \u001b[39m*\u001b[39m \u001b[39mlen\u001b[39m(headers)\n",
      "\u001b[0;31mTypeError\u001b[0m: object of type 'numpy.int64' has no len()"
     ]
    }
   ],
   "source": [
    "# Random Forest Baseline\n",
    "from sklearn.feature_extraction.text import CountVectorizer\n",
    "from sklearn.feature_extraction.text import TfidfTransformer\n",
    "from sklearn.naive_bayes import MultinomialNB\n",
    "from sklearn.ensemble import RandomForestClassifier\n",
    "from sklearn.pipeline import Pipeline\n",
    "\n",
    "text_clf = Pipeline([\n",
    "    ('vect', CountVectorizer()),\n",
    "    ('tfidf', TfidfTransformer()),\n",
    "    ('clf', RandomForestClassifier(class_weight='balanced', n_estimators=100)), #100 estimators will be the new default in version 0.22\n",
    "])\n",
    "text_clf.fit(tokenizer.sequences_to_texts_generator(train_text_vec), y_train.argmax(axis=1))\n",
    "predictions = text_clf.predict(tokenizer.sequences_to_texts_generator(test_text_vec)) \n",
    "print('Baseline Accuracy Using RFC: ', (predictions == y_test.argmax(axis = 1)).mean())\n",
    "print('F1 Score:', f1_score(y_test.argmax(axis = 1), predictions, average='weighted'))\n",
    "\n",
    "# _ = plot_confusion_matrix(y_test.argmax(axis = 1), predictions, classes=encoder.classes_)"
   ]
  },
  {
   "cell_type": "markdown",
   "metadata": {
    "_uuid": "b04f6afa2194f018545f8596d25a1b0767e8dc10"
   },
   "source": [
    "## Reviewing our Baselines\n",
    "\n",
    "The metric we'll be interested are Accuracy, which is self-explanatory and [F1 Score](https://en.wikipedia.org/wiki/F1_score), which blends the precision and recall scores for each class. F1 Score is generally a better measure of the performance of a model, especially when classes are imbalanced.\n",
    "\n",
    "Between our Baselines the Random Forest Classifier performs the best by a large margin (mostly because it's robust to class imbalance). \n",
    "\n",
    "***Our goal is to see if we can produce a model that has a F1 Score > ~0.65***\n",
    "\n",
    "Specifically, you'll see the model become better at distinguishing the Neutral and Positive Tweets from the Negative one's"
   ]
  },
  {
   "cell_type": "markdown",
   "metadata": {
    "_uuid": "747605c09c1582a9b645385e3db50974f2e751e9"
   },
   "source": [
    "\n",
    "# Building(and Evolving) Neural Networks\n",
    "----\n",
    "\n",
    "###  So now that we've done all of the prep work it's time to do some actual Neural Network-ing\n",
    "### Neural Nets are like legos! And part of the fun (and frustration) comes from experimenting with different configurations to see which architecture produces the best results. One nice aspect of Neural Nets is that unlike other ML Approaches you can \"stack\" modules onto a Neural Net to improve there performance as we'll see below the first Neural Net will surpass the performance of the Random Forest, and by the end we should have one that has an F1 Score > ***0.7***, ~ 8% improvement (before any tuning). \n",
    "\n",
    "### To get there we'll train around 7 different architectures each one building on the prior.\n",
    "\n",
    "----\n"
   ]
  },
  {
   "cell_type": "markdown",
   "metadata": {
    "_uuid": "bb824a63703c6aeaef919a6bae1a6bb3895508b0"
   },
   "source": [
    "### All of the neural nets we'll be using are based on Recurrent Neural Network(RNN) Architecture. \n",
    "#### An RNN is a specific type of Deep Learning Architecture that's specially adapted to handle time dependent information such as human language (e.g. Text, Audio), signal outputs from an IoT Device, or any other Time Series based data(stock prices, though not recommeneded). An LSTM is a specific type of RNN and is used in a lot of commercial applications(Siri), also consider GRU's, which can occasionally outperform LSTMs on certain tasks and ther are more advanced models as well (like Attention, BERT, 1D Convolutions, Capsules, etc).\n",
    "\n",
    "### Below is an illustration of an RNN Style Architecture\n",
    "#### For each timestep you have some data that's input `x` and an activation `A`, which outputs a new state `h`, the important thing about RNN and LSTM's is that the state information from prior states is used as input to the next state, which means that the model builds a state vector overtime that incporporates prior information. This improves upon the bag-of-words models that are used in classical ML, which are word/token based and don't normally incorporate the context that words are used in (e.g. \"the leaves are orange in fall\" vs \"he often leaves from work at noon\"). This was addressed through n-gram based models, but the exponential increase in input data makes such models intractable in most applications.\n",
    "\n",
    "![LSTM Drawing](http://colah.github.io/posts/2015-08-Understanding-LSTMs/img/RNN-unrolled.png)\n",
    "\n"
   ]
  },
  {
   "cell_type": "markdown",
   "metadata": {
    "_uuid": "1e65d1f444285f3b502c376e589763598834fe06"
   },
   "source": [
    "## Below is a quick method used to train the models"
   ]
  },
  {
   "cell_type": "code",
   "execution_count": 22,
   "metadata": {
    "_uuid": "437586a63cf712839aeb370764a83c4f5cc0e7e7"
   },
   "outputs": [],
   "source": [
    "\n",
    "def threshold_search(y_true, y_proba, average = None):\n",
    "    best_threshold = 0\n",
    "    best_score = 0\n",
    "    for threshold in [i * 0.01 for i in range(100)]:\n",
    "        score = f1_score(y_true=y_true, y_pred=y_proba > threshold, average=average)\n",
    "        if score > best_score:\n",
    "            best_threshold = threshold\n",
    "            best_score = score\n",
    "    search_result = {'threshold': best_threshold, 'f1': best_score}\n",
    "    return search_result\n",
    "\n",
    "\n",
    "def train(model, \n",
    "          X_train, y_train, X_test, y_test, \n",
    "          checkpoint_path='model.hdf5', \n",
    "          epcohs = 25, \n",
    "          batch_size = DEFAULT_BATCH_SIZE, \n",
    "          class_weights = None, \n",
    "          fit_verbose=2,\n",
    "          print_summary = True\n",
    "         ):\n",
    "    m = model()\n",
    "    if print_summary:\n",
    "        print(m.summary())\n",
    "    m.fit(\n",
    "        X_train, \n",
    "        y_train, \n",
    "        #this is bad practice using test data for validation, in a real case would use a seperate validation set\n",
    "        validation_data=(X_test, y_test),  \n",
    "        epochs=epcohs, \n",
    "        batch_size=batch_size,\n",
    "        class_weight=class_weights,\n",
    "         #saves the most accurate model, usually you would save the one with the lowest loss\n",
    "        callbacks= [\n",
    "            ModelCheckpoint(checkpoint_path, monitor='val_acc', verbose=1, save_best_only=True),\n",
    "            EarlyStopping(patience = 2)\n",
    "        ],\n",
    "        verbose=fit_verbose\n",
    "    ) \n",
    "    print(\"\\n\\n****************************\\n\\n\")\n",
    "    print('Loading Best Model...')\n",
    "    m.load_weights(checkpoint_path)\n",
    "    predictions = m.predict(X_test, verbose=1)\n",
    "    print('Validation Loss:', log_loss(y_test, predictions))\n",
    "    print('Test Accuracy', (predictions.argmax(axis = 1) == y_test.argmax(axis = 1)).mean())\n",
    "    print('F1 Score:', f1_score(y_test.argmax(axis = 1), predictions.argmax(axis = 1), average='weighted'))\n",
    "    plot_confusion_matrix(y_test.argmax(axis = 1), predictions.argmax(axis = 1), classes=encoder.classes_)\n",
    "    plt.show()    \n",
    "    return m #returns best performing model"
   ]
  },
  {
   "cell_type": "markdown",
   "metadata": {
    "_uuid": "76f3ab74fae28e6bbe3f2ebed6aaca0fc7eeed8c"
   },
   "source": [
    "# Important Note, when Evaluating Models - Look at Loss not Accuracy....\n",
    "\n",
    "### For each model we'll produces several stats, including the Accuracy and F1, and Loss on the Validation Set. In most cases you want to minimize the Loss. But you might also find it helpful to maximize the Accuracy or F1-Score (or other performance metric). For more complicated metrics it might not be possible to directy optimize your model for that metric and you might want to consider alternative techniques (e.g. In this case I use Model CheckPointing and EarlyStopping based on Accuracy to ensure that I pick the \"best\" model. For Example, F1-Score is not differentiable, so there's no straighforward way (currently) to train your model to  optimize for it. Though Accuracy can be a good proxy to start.\n",
    "\n",
    "### In some cases below I'll make \"improvements\" that substantially decrease the Loss, but may have a nominal effect on the Accuracy(or even lower accuracy), building on those lower Loss solutions though will generally produce a better model.\n"
   ]
  },
  {
   "cell_type": "markdown",
   "metadata": {
    "_uuid": "b7d894afa9dec983cd5e71834af1ab4c65b35358"
   },
   "source": [
    "## First Neural network is a simple implementation of an LSTM. The layers are as follows:\n",
    "* Embedding - Matrix of Word Vectors, where each vector store the \"meaning\" of the word. These can be trained on the fly or you can leverage existing pre-trained vector.\n",
    "* LSTM - Recurrent Neural Network that allows for the \"building\" of state over time\n",
    "* Dense(64) - Feed Forward Neural Net used to interpret the LSTM Output\n",
    "* Dense(3) - This it the output of the model, 3 nodes corresponding to each class. The softmax output will ensure that the sum of values = 1.0 for each output.\n",
    "\n",
    "### Even this basic architecture of just 3 Layers already beats the Random Forest Classifer in terms of Accuracy and F1 Score (resutls may depend on run)\n"
   ]
  },
  {
   "cell_type": "code",
   "execution_count": 25,
   "metadata": {
    "_uuid": "310999935fd8c39bd988bbba939a782c4f9c823c",
    "scrolled": true
   },
   "outputs": [
    {
     "name": "stdout",
     "output_type": "stream",
     "text": [
      "Model: \"sequential_2\"\n",
      "_________________________________________________________________\n",
      " Layer (type)                Output Shape              Param #   \n",
      "=================================================================\n",
      " embedding_2 (Embedding)     (None, 25, 128)           2751744   \n",
      "                                                                 \n",
      " lstm_2 (LSTM)               (None, 128)               131584    \n",
      "                                                                 \n",
      " dense_4 (Dense)             (None, 64)                8256      \n",
      "                                                                 \n",
      " dense_5 (Dense)             (None, 3)                 195       \n",
      "                                                                 \n",
      "=================================================================\n",
      "Total params: 2,891,779\n",
      "Trainable params: 2,891,779\n",
      "Non-trainable params: 0\n",
      "_________________________________________________________________\n",
      "None\n"
     ]
    },
    {
     "ename": "ValueError",
     "evalue": "The truth value of an array with more than one element is ambiguous. Use a.any() or a.all()",
     "output_type": "error",
     "traceback": [
      "\u001b[0;31m---------------------------------------------------------------------------\u001b[0m",
      "\u001b[0;31mValueError\u001b[0m                                Traceback (most recent call last)",
      "Cell \u001b[0;32mIn [25], line 10\u001b[0m\n\u001b[1;32m      7\u001b[0m     model\u001b[39m.\u001b[39mcompile(loss\u001b[39m=\u001b[39m\u001b[39m'\u001b[39m\u001b[39mcategorical_crossentropy\u001b[39m\u001b[39m'\u001b[39m, optimizer\u001b[39m=\u001b[39m\u001b[39m'\u001b[39m\u001b[39madam\u001b[39m\u001b[39m'\u001b[39m, metrics\u001b[39m=\u001b[39m[\u001b[39m'\u001b[39m\u001b[39maccuracy\u001b[39m\u001b[39m'\u001b[39m])\n\u001b[1;32m      8\u001b[0m     \u001b[39mreturn\u001b[39;00m model\n\u001b[0;32m---> 10\u001b[0m m1 \u001b[39m=\u001b[39m train(model_1, \n\u001b[1;32m     11\u001b[0m            train_text_vec,\n\u001b[1;32m     12\u001b[0m            y_train,\n\u001b[1;32m     13\u001b[0m            test_text_vec,\n\u001b[1;32m     14\u001b[0m            y_test,\n\u001b[1;32m     15\u001b[0m            checkpoint_path\u001b[39m=\u001b[39;49m\u001b[39m'\u001b[39;49m\u001b[39mmodel_1.h5\u001b[39;49m\u001b[39m'\u001b[39;49m,\n\u001b[1;32m     16\u001b[0m            class_weights\u001b[39m=\u001b[39;49mcws\n\u001b[1;32m     17\u001b[0m           )\n",
      "Cell \u001b[0;32mIn [22], line 25\u001b[0m, in \u001b[0;36mtrain\u001b[0;34m(model, X_train, y_train, X_test, y_test, checkpoint_path, epcohs, batch_size, class_weights, fit_verbose, print_summary)\u001b[0m\n\u001b[1;32m     23\u001b[0m \u001b[39mif\u001b[39;00m print_summary:\n\u001b[1;32m     24\u001b[0m     \u001b[39mprint\u001b[39m(m\u001b[39m.\u001b[39msummary())\n\u001b[0;32m---> 25\u001b[0m m\u001b[39m.\u001b[39;49mfit(\n\u001b[1;32m     26\u001b[0m     X_train, \n\u001b[1;32m     27\u001b[0m     y_train, \n\u001b[1;32m     28\u001b[0m     \u001b[39m#this is bad practice using test data for validation, in a real case would use a seperate validation set\u001b[39;49;00m\n\u001b[1;32m     29\u001b[0m     validation_data\u001b[39m=\u001b[39;49m(X_test, y_test),  \n\u001b[1;32m     30\u001b[0m     epochs\u001b[39m=\u001b[39;49mepcohs, \n\u001b[1;32m     31\u001b[0m     batch_size\u001b[39m=\u001b[39;49mbatch_size,\n\u001b[1;32m     32\u001b[0m     class_weight\u001b[39m=\u001b[39;49mclass_weights,\n\u001b[1;32m     33\u001b[0m      \u001b[39m#saves the most accurate model, usually you would save the one with the lowest loss\u001b[39;49;00m\n\u001b[1;32m     34\u001b[0m     callbacks\u001b[39m=\u001b[39;49m [\n\u001b[1;32m     35\u001b[0m         ModelCheckpoint(checkpoint_path, monitor\u001b[39m=\u001b[39;49m\u001b[39m'\u001b[39;49m\u001b[39mval_acc\u001b[39;49m\u001b[39m'\u001b[39;49m, verbose\u001b[39m=\u001b[39;49m\u001b[39m1\u001b[39;49m, save_best_only\u001b[39m=\u001b[39;49m\u001b[39mTrue\u001b[39;49;00m),\n\u001b[1;32m     36\u001b[0m         EarlyStopping(patience \u001b[39m=\u001b[39;49m \u001b[39m2\u001b[39;49m)\n\u001b[1;32m     37\u001b[0m     ],\n\u001b[1;32m     38\u001b[0m     verbose\u001b[39m=\u001b[39;49mfit_verbose\n\u001b[1;32m     39\u001b[0m ) \n\u001b[1;32m     40\u001b[0m \u001b[39mprint\u001b[39m(\u001b[39m\"\u001b[39m\u001b[39m\\n\u001b[39;00m\u001b[39m\\n\u001b[39;00m\u001b[39m****************************\u001b[39m\u001b[39m\\n\u001b[39;00m\u001b[39m\\n\u001b[39;00m\u001b[39m\"\u001b[39m)\n\u001b[1;32m     41\u001b[0m \u001b[39mprint\u001b[39m(\u001b[39m'\u001b[39m\u001b[39mLoading Best Model...\u001b[39m\u001b[39m'\u001b[39m)\n",
      "File \u001b[0;32m/opt/homebrew/lib/python3.10/site-packages/keras/utils/traceback_utils.py:67\u001b[0m, in \u001b[0;36mfilter_traceback.<locals>.error_handler\u001b[0;34m(*args, **kwargs)\u001b[0m\n\u001b[1;32m     65\u001b[0m \u001b[39mexcept\u001b[39;00m \u001b[39mException\u001b[39;00m \u001b[39mas\u001b[39;00m e:  \u001b[39m# pylint: disable=broad-except\u001b[39;00m\n\u001b[1;32m     66\u001b[0m   filtered_tb \u001b[39m=\u001b[39m _process_traceback_frames(e\u001b[39m.\u001b[39m__traceback__)\n\u001b[0;32m---> 67\u001b[0m   \u001b[39mraise\u001b[39;00m e\u001b[39m.\u001b[39mwith_traceback(filtered_tb) \u001b[39mfrom\u001b[39;00m \u001b[39mNone\u001b[39m\n\u001b[1;32m     68\u001b[0m \u001b[39mfinally\u001b[39;00m:\n\u001b[1;32m     69\u001b[0m   \u001b[39mdel\u001b[39;00m filtered_tb\n",
      "File \u001b[0;32m/opt/homebrew/lib/python3.10/site-packages/keras/engine/data_adapter.py:1179\u001b[0m, in \u001b[0;36mDataHandler._configure_dataset_and_inferred_steps\u001b[0;34m(***failed resolving arguments***)\u001b[0m\n\u001b[1;32m   1177\u001b[0m \u001b[39mdel\u001b[39;00m x\n\u001b[1;32m   1178\u001b[0m dataset \u001b[39m=\u001b[39m \u001b[39mself\u001b[39m\u001b[39m.\u001b[39m_adapter\u001b[39m.\u001b[39mget_dataset()\n\u001b[0;32m-> 1179\u001b[0m \u001b[39mif\u001b[39;00m class_weight:\n\u001b[1;32m   1180\u001b[0m   dataset \u001b[39m=\u001b[39m dataset\u001b[39m.\u001b[39mmap(_make_class_weight_map_fn(class_weight))\n\u001b[1;32m   1181\u001b[0m \u001b[39mself\u001b[39m\u001b[39m.\u001b[39m_inferred_steps \u001b[39m=\u001b[39m \u001b[39mself\u001b[39m\u001b[39m.\u001b[39m_infer_steps(steps_per_epoch, dataset)\n",
      "\u001b[0;31mValueError\u001b[0m: The truth value of an array with more than one element is ambiguous. Use a.any() or a.all()"
     ]
    }
   ],
   "source": [
    "def model_1():\n",
    "    model = Sequential()\n",
    "    model.add(Embedding(input_dim = (len(tokenizer.word_counts) + 1), output_dim = 128, input_length = MAX_SEQ_LEN))\n",
    "    model.add(LSTM(128))\n",
    "    model.add(Dense(64, activation='relu'))\n",
    "    model.add(Dense(3, activation='softmax'))\n",
    "    model.compile(loss='categorical_crossentropy', optimizer='adam', metrics=['accuracy'])\n",
    "    return model\n",
    "\n",
    "m1 = train(model_1, \n",
    "           train_text_vec,\n",
    "           y_train,\n",
    "           test_text_vec,\n",
    "           y_test,\n",
    "           checkpoint_path='model_1.h5',\n",
    "           class_weights=cws\n",
    "          )\n"
   ]
  },
  {
   "cell_type": "markdown",
   "metadata": {
    "_uuid": "26dc20732d74c5917233ee4279e8e3699cefa87f"
   },
   "source": []
  },
  {
   "cell_type": "markdown",
   "metadata": {
    "_uuid": "31fb9ef0cdf19d99c0284214f229ea2c1a032e71"
   },
   "source": [
    "## Now that we have a good baseline Neural Network Architecture we'll begin building on it. By adding more layers and increasing the complexity.\n",
    "#### The first improvement is to use a Bi-Derectional LSTM. As the name suggest this Layer \"reads\" text both forwards and backwards and allows the model to get information from past and future states simultaneously. It also usually provides a nice boost in performance over the single pass LSTM. \n",
    "\n",
    "#### Dropout is also added to reduce overfitting, as the number of paramters in the model increases. A Dropout Layer, drops data from the input, but only during training, which encourages the model to be more \"robust\" and not become overly dependent on specific signals from the training data to make predictions. Since we have a relatively small data-set compared to our model size, drop-out is critical to ensure the model doesnt just quickly overfit the training set. "
   ]
  },
  {
   "cell_type": "code",
   "execution_count": 24,
   "metadata": {
    "_uuid": "3c46be74247c883fba59f36b7ad8b314061470cc"
   },
   "outputs": [
    {
     "name": "stdout",
     "output_type": "stream",
     "text": [
      "Model: \"sequential_1\"\n",
      "_________________________________________________________________\n",
      " Layer (type)                Output Shape              Param #   \n",
      "=================================================================\n",
      " embedding_1 (Embedding)     (None, 25, 128)           2751744   \n",
      "                                                                 \n",
      " spatial_dropout1d (SpatialD  (None, 25, 128)          0         \n",
      " ropout1D)                                                       \n",
      "                                                                 \n",
      " bidirectional (Bidirectiona  (None, 256)              263168    \n",
      " l)                                                              \n",
      "                                                                 \n",
      " dense_2 (Dense)             (None, 64)                16448     \n",
      "                                                                 \n",
      " dense_3 (Dense)             (None, 3)                 195       \n",
      "                                                                 \n",
      "=================================================================\n",
      "Total params: 3,031,555\n",
      "Trainable params: 3,031,555\n",
      "Non-trainable params: 0\n",
      "_________________________________________________________________\n",
      "None\n"
     ]
    },
    {
     "ename": "ValueError",
     "evalue": "The truth value of an array with more than one element is ambiguous. Use a.any() or a.all()",
     "output_type": "error",
     "traceback": [
      "\u001b[0;31m---------------------------------------------------------------------------\u001b[0m",
      "\u001b[0;31mValueError\u001b[0m                                Traceback (most recent call last)",
      "Cell \u001b[0;32mIn [24], line 15\u001b[0m\n\u001b[1;32m     12\u001b[0m     model\u001b[39m.\u001b[39mcompile(loss\u001b[39m=\u001b[39m\u001b[39m'\u001b[39m\u001b[39mcategorical_crossentropy\u001b[39m\u001b[39m'\u001b[39m, optimizer\u001b[39m=\u001b[39m\u001b[39m'\u001b[39m\u001b[39madam\u001b[39m\u001b[39m'\u001b[39m, metrics\u001b[39m=\u001b[39m[\u001b[39m'\u001b[39m\u001b[39maccuracy\u001b[39m\u001b[39m'\u001b[39m])\n\u001b[1;32m     13\u001b[0m     \u001b[39mreturn\u001b[39;00m model\n\u001b[0;32m---> 15\u001b[0m _ \u001b[39m=\u001b[39m train(model_1b, \n\u001b[1;32m     16\u001b[0m            train_text_vec,\n\u001b[1;32m     17\u001b[0m            y_train,\n\u001b[1;32m     18\u001b[0m            test_text_vec,\n\u001b[1;32m     19\u001b[0m            y_test,\n\u001b[1;32m     20\u001b[0m            checkpoint_path\u001b[39m=\u001b[39;49m\u001b[39m'\u001b[39;49m\u001b[39mmodel_1b.h5\u001b[39;49m\u001b[39m'\u001b[39;49m,\n\u001b[1;32m     21\u001b[0m            class_weights\u001b[39m=\u001b[39;49mcws,\n\u001b[1;32m     22\u001b[0m            print_summary \u001b[39m=\u001b[39;49m \u001b[39mTrue\u001b[39;49;00m\n\u001b[1;32m     23\u001b[0m           )\n",
      "Cell \u001b[0;32mIn [22], line 25\u001b[0m, in \u001b[0;36mtrain\u001b[0;34m(model, X_train, y_train, X_test, y_test, checkpoint_path, epcohs, batch_size, class_weights, fit_verbose, print_summary)\u001b[0m\n\u001b[1;32m     23\u001b[0m \u001b[39mif\u001b[39;00m print_summary:\n\u001b[1;32m     24\u001b[0m     \u001b[39mprint\u001b[39m(m\u001b[39m.\u001b[39msummary())\n\u001b[0;32m---> 25\u001b[0m m\u001b[39m.\u001b[39;49mfit(\n\u001b[1;32m     26\u001b[0m     X_train, \n\u001b[1;32m     27\u001b[0m     y_train, \n\u001b[1;32m     28\u001b[0m     \u001b[39m#this is bad practice using test data for validation, in a real case would use a seperate validation set\u001b[39;49;00m\n\u001b[1;32m     29\u001b[0m     validation_data\u001b[39m=\u001b[39;49m(X_test, y_test),  \n\u001b[1;32m     30\u001b[0m     epochs\u001b[39m=\u001b[39;49mepcohs, \n\u001b[1;32m     31\u001b[0m     batch_size\u001b[39m=\u001b[39;49mbatch_size,\n\u001b[1;32m     32\u001b[0m     class_weight\u001b[39m=\u001b[39;49mclass_weights,\n\u001b[1;32m     33\u001b[0m      \u001b[39m#saves the most accurate model, usually you would save the one with the lowest loss\u001b[39;49;00m\n\u001b[1;32m     34\u001b[0m     callbacks\u001b[39m=\u001b[39;49m [\n\u001b[1;32m     35\u001b[0m         ModelCheckpoint(checkpoint_path, monitor\u001b[39m=\u001b[39;49m\u001b[39m'\u001b[39;49m\u001b[39mval_acc\u001b[39;49m\u001b[39m'\u001b[39;49m, verbose\u001b[39m=\u001b[39;49m\u001b[39m1\u001b[39;49m, save_best_only\u001b[39m=\u001b[39;49m\u001b[39mTrue\u001b[39;49;00m),\n\u001b[1;32m     36\u001b[0m         EarlyStopping(patience \u001b[39m=\u001b[39;49m \u001b[39m2\u001b[39;49m)\n\u001b[1;32m     37\u001b[0m     ],\n\u001b[1;32m     38\u001b[0m     verbose\u001b[39m=\u001b[39;49mfit_verbose\n\u001b[1;32m     39\u001b[0m ) \n\u001b[1;32m     40\u001b[0m \u001b[39mprint\u001b[39m(\u001b[39m\"\u001b[39m\u001b[39m\\n\u001b[39;00m\u001b[39m\\n\u001b[39;00m\u001b[39m****************************\u001b[39m\u001b[39m\\n\u001b[39;00m\u001b[39m\\n\u001b[39;00m\u001b[39m\"\u001b[39m)\n\u001b[1;32m     41\u001b[0m \u001b[39mprint\u001b[39m(\u001b[39m'\u001b[39m\u001b[39mLoading Best Model...\u001b[39m\u001b[39m'\u001b[39m)\n",
      "File \u001b[0;32m/opt/homebrew/lib/python3.10/site-packages/keras/utils/traceback_utils.py:67\u001b[0m, in \u001b[0;36mfilter_traceback.<locals>.error_handler\u001b[0;34m(*args, **kwargs)\u001b[0m\n\u001b[1;32m     65\u001b[0m \u001b[39mexcept\u001b[39;00m \u001b[39mException\u001b[39;00m \u001b[39mas\u001b[39;00m e:  \u001b[39m# pylint: disable=broad-except\u001b[39;00m\n\u001b[1;32m     66\u001b[0m   filtered_tb \u001b[39m=\u001b[39m _process_traceback_frames(e\u001b[39m.\u001b[39m__traceback__)\n\u001b[0;32m---> 67\u001b[0m   \u001b[39mraise\u001b[39;00m e\u001b[39m.\u001b[39mwith_traceback(filtered_tb) \u001b[39mfrom\u001b[39;00m \u001b[39mNone\u001b[39m\n\u001b[1;32m     68\u001b[0m \u001b[39mfinally\u001b[39;00m:\n\u001b[1;32m     69\u001b[0m   \u001b[39mdel\u001b[39;00m filtered_tb\n",
      "File \u001b[0;32m/opt/homebrew/lib/python3.10/site-packages/keras/engine/data_adapter.py:1179\u001b[0m, in \u001b[0;36mDataHandler._configure_dataset_and_inferred_steps\u001b[0;34m(***failed resolving arguments***)\u001b[0m\n\u001b[1;32m   1177\u001b[0m \u001b[39mdel\u001b[39;00m x\n\u001b[1;32m   1178\u001b[0m dataset \u001b[39m=\u001b[39m \u001b[39mself\u001b[39m\u001b[39m.\u001b[39m_adapter\u001b[39m.\u001b[39mget_dataset()\n\u001b[0;32m-> 1179\u001b[0m \u001b[39mif\u001b[39;00m class_weight:\n\u001b[1;32m   1180\u001b[0m   dataset \u001b[39m=\u001b[39m dataset\u001b[39m.\u001b[39mmap(_make_class_weight_map_fn(class_weight))\n\u001b[1;32m   1181\u001b[0m \u001b[39mself\u001b[39m\u001b[39m.\u001b[39m_inferred_steps \u001b[39m=\u001b[39m \u001b[39mself\u001b[39m\u001b[39m.\u001b[39m_infer_steps(steps_per_epoch, dataset)\n",
      "\u001b[0;31mValueError\u001b[0m: The truth value of an array with more than one element is ambiguous. Use a.any() or a.all()"
     ]
    }
   ],
   "source": [
    "def model_1b():\n",
    "    \"\"\"\n",
    "    Using a Bidiretional LSTM. \n",
    "    \"\"\"\n",
    "    model = Sequential()\n",
    "    model.add(Embedding(input_dim = (len(tokenizer.word_counts) + 1), output_dim = 128, input_length = MAX_SEQ_LEN))\n",
    "    model.add(SpatialDropout1D(0.3))\n",
    "    model.add(Bidirectional(LSTM(128, dropout=0.25, recurrent_dropout=0.25)))\n",
    "    model.add(Dense(64, activation='relu'))\n",
    "#     model.add(Dropout(0.3))\n",
    "    model.add(Dense(3, activation='softmax'))\n",
    "    model.compile(loss='categorical_crossentropy', optimizer='adam', metrics=['accuracy'])\n",
    "    return model\n",
    "\n",
    "_ = train(model_1b, \n",
    "           train_text_vec,\n",
    "           y_train,\n",
    "           test_text_vec,\n",
    "           y_test,\n",
    "           checkpoint_path='model_1b.h5',\n",
    "           class_weights=cws,\n",
    "           print_summary = True\n",
    "          )\n"
   ]
  },
  {
   "cell_type": "markdown",
   "metadata": {
    "_uuid": "89f368c8a4fa58c88cabea55318c917c081c47b8"
   },
   "source": [
    "### A modern architecture for Text Classification usually includes the addition of Convolutions stacked on top of each state vector in the LSTM(as opposed to just predicting based on the last state). This technique is borrowed from Image Classification and assumes that related information is locally \"grouped\" together (a kernel). It's common to either take the Average and/or Max of the Convolutional Layer.\n",
    "\n",
    "###  It's definitely not a sure-fire choice, but can sometime perform better on certain tasks. Depending on the run this will perform as well or worse than the vanilla Bi-Directional LSTM, though we'll test it out later as well"
   ]
  },
  {
   "cell_type": "code",
   "execution_count": null,
   "metadata": {
    "_uuid": "5417300989f4e7d92d9f77f98fb554a121add0f1"
   },
   "outputs": [
    {
     "name": "stdout",
     "output_type": "stream",
     "text": [
      "_________________________________________________________________\n",
      "Layer (type)                 Output Shape              Param #   \n",
      "=================================================================\n",
      "embedding_3 (Embedding)      (None, 25, 128)           2751744   \n",
      "_________________________________________________________________\n",
      "spatial_dropout1d_2 (Spatial (None, 25, 128)           0         \n",
      "_________________________________________________________________\n",
      "bidirectional_2 (Bidirection (None, 25, 256)           263168    \n",
      "_________________________________________________________________\n",
      "conv1d_1 (Conv1D)            (None, 22, 64)            65600     \n",
      "_________________________________________________________________\n",
      "global_max_pooling1d_1 (Glob (None, 64)                0         \n",
      "_________________________________________________________________\n",
      "dense_5 (Dense)              (None, 64)                4160      \n",
      "_________________________________________________________________\n",
      "dense_6 (Dense)              (None, 3)                 195       \n",
      "=================================================================\n",
      "Total params: 3,084,867\n",
      "Trainable params: 3,084,867\n",
      "Non-trainable params: 0\n",
      "_________________________________________________________________\n",
      "None\n",
      "WARNING:tensorflow:From /opt/conda/lib/python3.6/site-packages/tensorflow/python/ops/math_grad.py:102: div (from tensorflow.python.ops.math_ops) is deprecated and will be removed in a future version.\n",
      "Instructions for updating:\n",
      "Deprecated in favor of operator or tf.math.divide.\n",
      "Train on 12483 samples, validate on 1388 samples\n",
      "Epoch 1/25\n",
      " - 16s - loss: 0.8545 - acc: 0.6309 - val_loss: 0.7661 - val_acc: 0.6744\n",
      "\n",
      "Epoch 00001: val_acc improved from -inf to 0.67435, saving model to model_1c.h5\n",
      "Epoch 2/25\n",
      " - 12s - loss: 0.6314 - acc: 0.7382 - val_loss: 0.7389 - val_acc: 0.6816\n",
      "\n",
      "Epoch 00002: val_acc improved from 0.67435 to 0.68156, saving model to model_1c.h5\n",
      "Epoch 3/25\n",
      " - 12s - loss: 0.4598 - acc: 0.8264 - val_loss: 0.7969 - val_acc: 0.6880\n",
      "\n",
      "Epoch 00003: val_acc improved from 0.68156 to 0.68804, saving model to model_1c.h5\n",
      "Epoch 4/25\n",
      " - 12s - loss: 0.3371 - acc: 0.8765 - val_loss: 0.9385 - val_acc: 0.6621\n",
      "\n",
      "Epoch 00004: val_acc did not improve from 0.68804\n",
      "\n",
      "\n",
      "****************************\n",
      "\n",
      "\n",
      "Loading Best Model...\n",
      "1388/1388 [==============================] - 2s 2ms/step\n",
      "Validation Loss: 0.7968764725722969\n",
      "Test Accuracy 0.6880403458213257\n",
      "F1 Score: 0.6767271510945877\n",
      "              precision    recall  f1-score   support\n",
      "\n",
      "    Negative       0.76      0.84      0.80       846\n",
      "     Neutral       0.49      0.38      0.42       308\n",
      "    Positive       0.61      0.55      0.58       234\n",
      "\n",
      "   micro avg       0.69      0.69      0.69      1388\n",
      "   macro avg       0.62      0.59      0.60      1388\n",
      "weighted avg       0.67      0.69      0.68      1388\n",
      "\n"
     ]
    },
    {
     "data": {
      "image/png": "[encoded data removed]",
      "text/plain": [
       "<Figure size 576x288 with 2 Axes>"
      ]
     },
     "metadata": {},
     "output_type": "display_data"
    }
   ],
   "source": [
    "def model_1c():\n",
    "    \"\"\"\n",
    "    Adding dropout to reduce overfitting using a bidiretional LSTM\n",
    "    \"\"\"\n",
    "    model = Sequential()\n",
    "    model.add(Embedding(input_dim = (len(tokenizer.word_counts) + 1), output_dim = 128, input_length = MAX_SEQ_LEN))\n",
    "    model.add(SpatialDropout1D(0.3))\n",
    "    model.add(Bidirectional(LSTM(128, dropout=0.25, recurrent_dropout=0.25, return_sequences=True)))\n",
    "    model.add(Conv1D(64, 4))\n",
    "#     model.add(Flatten())\n",
    "    model.add(GlobalMaxPool1D())\n",
    "    model.add(Dense(64, activation='relu'))\n",
    "    model.add(Dense(3, activation='softmax'))\n",
    "    model.compile(loss='categorical_crossentropy', optimizer='adam', metrics=['accuracy'])\n",
    "#     print(model.summary())\n",
    "    return model\n",
    "\n",
    "\n",
    "_ = train(model_1c, \n",
    "           train_text_vec,\n",
    "           y_train,\n",
    "           test_text_vec,\n",
    "           y_test,\n",
    "           checkpoint_path='model_1c.h5',\n",
    "           class_weights=cws,\n",
    "           print_summary = True\n",
    "          )\n"
   ]
  },
  {
   "cell_type": "code",
   "execution_count": null,
   "metadata": {
    "_uuid": "8b616221442589e52dc5e3c0f918b3f76b9011cc"
   },
   "outputs": [
    {
     "name": "stdout",
     "output_type": "stream",
     "text": [
      "_________________________________________________________________\n",
      "Layer (type)                 Output Shape              Param #   \n",
      "=================================================================\n",
      "embedding_4 (Embedding)      (None, 25, 128)           2751744   \n",
      "_________________________________________________________________\n",
      "spatial_dropout1d_3 (Spatial (None, 25, 128)           0         \n",
      "_________________________________________________________________\n",
      "conv1d_2 (Conv1D)            (None, 21, 64)            41024     \n",
      "_________________________________________________________________\n",
      "conv1d_3 (Conv1D)            (None, 19, 64)            12352     \n",
      "_________________________________________________________________\n",
      "conv1d_4 (Conv1D)            (None, 18, 64)            8256      \n",
      "_________________________________________________________________\n",
      "global_max_pooling1d_2 (Glob (None, 64)                0         \n",
      "_________________________________________________________________\n",
      "dense_7 (Dense)              (None, 64)                4160      \n",
      "_________________________________________________________________\n",
      "dense_8 (Dense)              (None, 3)                 195       \n",
      "=================================================================\n",
      "Total params: 2,817,731\n",
      "Trainable params: 2,817,731\n",
      "Non-trainable params: 0\n",
      "_________________________________________________________________\n",
      "None\n",
      "Train on 12483 samples, validate on 1388 samples\n",
      "Epoch 1/25\n",
      " - 2s - loss: 0.8776 - acc: 0.6114 - val_loss: 0.7800 - val_acc: 0.6607\n",
      "\n",
      "Epoch 00001: val_acc improved from -inf to 0.66066, saving model to model_1d.h5\n",
      "Epoch 2/25\n",
      " - 1s - loss: 0.6530 - acc: 0.7303 - val_loss: 0.7331 - val_acc: 0.6931\n",
      "\n",
      "Epoch 00002: val_acc improved from 0.66066 to 0.69308, saving model to model_1d.h5\n",
      "Epoch 3/25\n",
      " - 1s - loss: 0.4572 - acc: 0.8237 - val_loss: 0.8242 - val_acc: 0.6671\n",
      "\n",
      "Epoch 00003: val_acc did not improve from 0.69308\n",
      "Epoch 4/25\n",
      " - 1s - loss: 0.3201 - acc: 0.8846 - val_loss: 0.9179 - val_acc: 0.6628\n",
      "\n",
      "Epoch 00004: val_acc did not improve from 0.69308\n",
      "\n",
      "\n",
      "****************************\n",
      "\n",
      "\n",
      "Loading Best Model...\n",
      "1388/1388 [==============================] - 0s 353us/step\n",
      "Validation Loss: 0.7330960066252997\n",
      "Test Accuracy 0.6930835734870316\n",
      "F1 Score: 0.6717288602168452\n",
      "              precision    recall  f1-score   support\n",
      "\n",
      "    Negative       0.73      0.88      0.80       846\n",
      "     Neutral       0.53      0.33      0.41       308\n",
      "    Positive       0.66      0.48      0.56       234\n",
      "\n",
      "   micro avg       0.69      0.69      0.69      1388\n",
      "   macro avg       0.64      0.57      0.59      1388\n",
      "weighted avg       0.67      0.69      0.67      1388\n",
      "\n"
     ]
    },
    {
     "data": {
      "image/png": "[encoded data removed]",
      "text/plain": [
       "<Figure size 576x288 with 2 Axes>"
      ]
     },
     "metadata": {},
     "output_type": "display_data"
    }
   ],
   "source": [
    "def model_1d():\n",
    "    \"\"\"\n",
    "    Just for fun below is a model only using covolutions. This is pretty good and also trains very quickly(and predictions would also likely be fast) compared to the LSTM...\n",
    "    It's equivalent to using an n-gram based approach.\n",
    "    Usually in practice you would use a more complex architecture with multiple parallel convolutions that are combined before pooling(and usually both max and avg).\n",
    "    Pure Convolutional NLP is definitely a solution worth exploring further.\n",
    "    \"\"\"\n",
    "    model = Sequential()\n",
    "    model.add(Embedding(input_dim = (len(tokenizer.word_counts) + 1), output_dim = 128, input_length = MAX_SEQ_LEN))\n",
    "    model.add(SpatialDropout1D(0.3))\n",
    "    model.add(Conv1D(64, 5))\n",
    "    model.add(Conv1D(64, 3))\n",
    "    model.add(Conv1D(64, 2))\n",
    "    model.add(GlobalMaxPool1D())\n",
    "    model.add(Dense(64, activation='relu'))\n",
    "    model.add(Dense(3, activation='softmax'))\n",
    "    model.compile(loss='categorical_crossentropy', optimizer='adam', metrics=['accuracy'])\n",
    "    return model\n",
    "\n",
    "\n",
    "_ = train(model_1d, \n",
    "           train_text_vec,\n",
    "           y_train,\n",
    "           test_text_vec,\n",
    "           y_test,\n",
    "           checkpoint_path='model_1d.h5',\n",
    "           class_weights=cws,\n",
    "           print_summary = True\n",
    "          )"
   ]
  },
  {
   "cell_type": "markdown",
   "metadata": {
    "_uuid": "5af8e647a5b3ffc37232a3cf8d23c00b06a3de5c"
   },
   "source": [
    "# Using Transfer Learning\n",
    "---\n",
    "### Already we have a pretty decent model that makes a sizable improvement upon our initial baselines, but we can do better. Currently we're training our word vectors from scratch and with such a small sample size it's unlikely that the model has sufficiently learned to distinguish the meaning or intent of all 21K tokens. \n",
    "\n",
    "### Fortunately, you can access pre-trained word vectors, trained against billions of documents. These are generally recommended for NLP tasks as they provide a substantial increase in performance over embeddings trained on the fly.\n",
    "\n",
    "### This is a form of Transfer Leanring where existing model weights are re-purposed for a new task (this much more prevalent amongst Image Classification tasks).\n",
    "\n",
    "### We'll use the GloVe Embeddings, which ar trained on several sources including Twitter(which is particularly relavent)."
   ]
  },
  {
   "cell_type": "code",
   "execution_count": null,
   "metadata": {
    "_kg_hide-input": false,
    "_uuid": "5b5fbce18793e66588060640033ff4f17ef05978"
   },
   "outputs": [],
   "source": [
    "def get_coefs(word,*arr): \n",
    "    return word, np.asarray(arr, dtype='float32')\n",
    "\n",
    "def get_embdedings_matrix(embeddings_index, word_index, nb_words = None):\n",
    "    all_embs = np.stack(embeddings_index.values())\n",
    "    print('Shape of Full Embeddding Matrix', all_embs.shape)\n",
    "    embed_dims = all_embs.shape[1]\n",
    "    emb_mean,emb_std = all_embs.mean(), all_embs.std()\n",
    "\n",
    "    #best to free up memory, given the size, which is usually ~3-4GB in memory\n",
    "    del all_embs\n",
    "    if nb_words is None:\n",
    "        nb_words = len(word_index)\n",
    "    else:\n",
    "        nb_words = min(nb_words, len(word_index))\n",
    "    \n",
    "    embedding_matrix = np.random.normal(emb_mean, emb_std, (nb_words, embed_dims))\n",
    "    found_vectors = 0\n",
    "    words_not_found = []\n",
    "    for word, i in tqdm(word_index.items()):\n",
    "        if i >= nb_words: \n",
    "            continue\n",
    "        embedding_vector = None\n",
    "        if word in embeddings_index:\n",
    "            embedding_vector = embeddings_index.get(word)\n",
    "        elif word.lower() in embeddings_index:\n",
    "            embedding_vector = embeddings_index.get(word.lower())\n",
    "        # for twitter check if the key is a hashtag\n",
    "        elif '#'+word.lower() in embeddings_index:\n",
    "            embedding_vector = embeddings_index.get('#'+word.lower())\n",
    "            \n",
    "        if embedding_vector is not None: \n",
    "            found_vectors += 1\n",
    "            embedding_matrix[i] = embedding_vector\n",
    "        else:\n",
    "            words_not_found.append((word, i))\n",
    "\n",
    "    print(\"% of Vectors found in Corpus\", found_vectors / nb_words)\n",
    "    return embedding_matrix, words_not_found"
   ]
  },
  {
   "cell_type": "code",
   "execution_count": null,
   "metadata": {
    "_uuid": "722ed69d886e2a6d35a60902986a706df5561a3c"
   },
   "outputs": [],
   "source": [
    "def load_glove(word_index):\n",
    "#     print('Loading Glove')\n",
    "    embed_file_path = '../input/glove840b300dtxt/glove.840B.300d.txt'\n",
    "    embeddings_index = dict(get_coefs(*o.split(\" \")) for o in tqdm(open(embed_file_path)))\n",
    "    print(\"Built Embedding Index:\", len(embeddings_index))\n",
    "    return get_embdedings_matrix(embeddings_index, word_index)\n",
    "\n",
    "def load_twitter(word_index):\n",
    "#     print('Loading Twitter')\n",
    "    embed_file_path = '../input/glove-twitter-27b-200d-txt/glove.twitter.27B.200d.txt'\n",
    "    embeddings_index = dict(get_coefs(*o.split(\" \")) for o in tqdm(open(embed_file_path)))\n",
    "    print(\"Built Embedding Index:\", len(embeddings_index))\n",
    "    return get_embdedings_matrix(embeddings_index, word_index)\n"
   ]
  },
  {
   "cell_type": "code",
   "execution_count": null,
   "metadata": {
    "_kg_hide-output": false,
    "_uuid": "a5b337a36fd2beb2359603fd0bdaead6f4afe4de"
   },
   "outputs": [
    {
     "name": "stdout",
     "output_type": "stream",
     "text": [
      "Loading Glove Model...\n"
     ]
    },
    {
     "data": {
      "application/vnd.jupyter.widget-view+json": {
       "model_id": "e2c131134a5d4803ab560e5fc7ef6ccc",
       "version_major": 2,
       "version_minor": 0
      },
      "text/plain": [
       "HBox(children=(IntProgress(value=1, bar_style='info', max=1), HTML(value='')))"
      ]
     },
     "metadata": {},
     "output_type": "display_data"
    },
    {
     "name": "stdout",
     "output_type": "stream",
     "text": [
      "\n",
      "Built Embedding Index: 2196017\n"
     ]
    },
    {
     "name": "stderr",
     "output_type": "stream",
     "text": [
      "/opt/conda/lib/python3.6/site-packages/ipykernel_launcher.py:5: FutureWarning: arrays to stack must be passed as a \"sequence\" type such as list or tuple. Support for non-sequence iterables such as generators is deprecated as of NumPy 1.16 and will raise an error in the future.\n",
      "  \"\"\"\n"
     ]
    },
    {
     "name": "stdout",
     "output_type": "stream",
     "text": [
      "Shape of Full Embeddding Matrix (2196017, 300)\n"
     ]
    },
    {
     "data": {
      "application/vnd.jupyter.widget-view+json": {
       "model_id": "2ff5b4fadeda4b7899a0918df4efdbd3",
       "version_major": 2,
       "version_minor": 0
      },
      "text/plain": [
       "HBox(children=(IntProgress(value=0, max=21497), HTML(value='')))"
      ]
     },
     "metadata": {},
     "output_type": "display_data"
    },
    {
     "name": "stdout",
     "output_type": "stream",
     "text": [
      "\n",
      "% of Vectors found in Corpus 0.6084569939991626\n"
     ]
    }
   ],
   "source": [
    "print('Loading Glove Model...')\n",
    "glove_embed_matrix, words_not_found =  load_glove(tokenizer.word_index)"
   ]
  },
  {
   "cell_type": "code",
   "execution_count": null,
   "metadata": {
    "_uuid": "04ea1a489e7997cedebb7d7539aeefb139a9b2f8"
   },
   "outputs": [
    {
     "name": "stdout",
     "output_type": "stream",
     "text": [
      "Loading Twitter Model...\n"
     ]
    },
    {
     "data": {
      "application/vnd.jupyter.widget-view+json": {
       "model_id": "4891eb66bb834468969a1ba3801d577f",
       "version_major": 2,
       "version_minor": 0
      },
      "text/plain": [
       "HBox(children=(IntProgress(value=1, bar_style='info', max=1), HTML(value='')))"
      ]
     },
     "metadata": {},
     "output_type": "display_data"
    },
    {
     "name": "stdout",
     "output_type": "stream",
     "text": [
      "\n",
      "Built Embedding Index: 1193514\n"
     ]
    },
    {
     "name": "stderr",
     "output_type": "stream",
     "text": [
      "/opt/conda/lib/python3.6/site-packages/ipykernel_launcher.py:5: FutureWarning: arrays to stack must be passed as a \"sequence\" type such as list or tuple. Support for non-sequence iterables such as generators is deprecated as of NumPy 1.16 and will raise an error in the future.\n",
      "  \"\"\"\n"
     ]
    },
    {
     "name": "stdout",
     "output_type": "stream",
     "text": [
      "Shape of Full Embeddding Matrix (1193514, 200)\n"
     ]
    },
    {
     "data": {
      "application/vnd.jupyter.widget-view+json": {
       "model_id": "42aa2959d54449d6b95ffeca01e4cc12",
       "version_major": 2,
       "version_minor": 0
      },
      "text/plain": [
       "HBox(children=(IntProgress(value=0, max=21497), HTML(value='')))"
      ]
     },
     "metadata": {},
     "output_type": "display_data"
    },
    {
     "name": "stdout",
     "output_type": "stream",
     "text": [
      "\n",
      "% of Vectors found in Corpus 0.5912918081592781\n"
     ]
    }
   ],
   "source": [
    "print('Loading Twitter Model...')\n",
    "twitter_embed_matrix, words_not_found =  load_twitter(tokenizer.word_index)"
   ]
  },
  {
   "cell_type": "markdown",
   "metadata": {
    "_uuid": "a8a400f07ac2a72048b3643f4ecb426eb0ca32cc"
   },
   "source": [
    "## Model 2: Takes the original Model model_1, and uses a pre-trained GloVe embedding. This should improve the loss slightly and depending on the case a small improvement in accuracy."
   ]
  },
  {
   "cell_type": "code",
   "execution_count": null,
   "metadata": {
    "_uuid": "349c37f76bf2c93340151a4b00254a3507dbe53e"
   },
   "outputs": [
    {
     "name": "stdout",
     "output_type": "stream",
     "text": [
      "Train on 12483 samples, validate on 1388 samples\n",
      "Epoch 1/25\n",
      " - 7s - loss: 0.8475 - acc: 0.6287 - val_loss: 0.8498 - val_acc: 0.6376\n",
      "\n",
      "Epoch 00001: val_acc improved from -inf to 0.63761, saving model to model_2.h5\n",
      "Epoch 2/25\n",
      " - 5s - loss: 0.7266 - acc: 0.6909 - val_loss: 0.7889 - val_acc: 0.6369\n",
      "\n",
      "Epoch 00002: val_acc did not improve from 0.63761\n",
      "Epoch 3/25\n",
      " - 5s - loss: 0.6681 - acc: 0.7190 - val_loss: 0.7528 - val_acc: 0.6816\n",
      "\n",
      "Epoch 00003: val_acc improved from 0.63761 to 0.68156, saving model to model_2.h5\n",
      "Epoch 4/25\n",
      " - 5s - loss: 0.6212 - acc: 0.7425 - val_loss: 0.7313 - val_acc: 0.6837\n",
      "\n",
      "Epoch 00004: val_acc improved from 0.68156 to 0.68372, saving model to model_2.h5\n",
      "Epoch 5/25\n",
      " - 5s - loss: 0.5696 - acc: 0.7651 - val_loss: 0.7673 - val_acc: 0.6924\n",
      "\n",
      "Epoch 00005: val_acc improved from 0.68372 to 0.69236, saving model to model_2.h5\n",
      "Epoch 6/25\n",
      " - 5s - loss: 0.5139 - acc: 0.7924 - val_loss: 0.7824 - val_acc: 0.6830\n",
      "\n",
      "Epoch 00006: val_acc did not improve from 0.69236\n",
      "\n",
      "\n",
      "****************************\n",
      "\n",
      "\n",
      "Loading Best Model...\n",
      "1388/1388 [==============================] - 1s 1ms/step\n",
      "Validation Loss: 0.7672712391521513\n",
      "Test Accuracy 0.6923631123919308\n",
      "F1 Score: 0.673661075936216\n",
      "              precision    recall  f1-score   support\n",
      "\n",
      "    Negative       0.74      0.88      0.80       846\n",
      "     Neutral       0.52      0.37      0.43       308\n",
      "    Positive       0.66      0.46      0.54       234\n",
      "\n",
      "   micro avg       0.69      0.69      0.69      1388\n",
      "   macro avg       0.64      0.57      0.59      1388\n",
      "weighted avg       0.67      0.69      0.67      1388\n",
      "\n"
     ]
    },
    {
     "data": {
      "image/png": "[encoded data removed]",
      "text/plain": [
       "<Figure size 576x288 with 2 Axes>"
      ]
     },
     "metadata": {},
     "output_type": "display_data"
    }
   ],
   "source": [
    "def model_2(embed_matrix):\n",
    "    \"\"\"\n",
    "    Extends model_1 with a glove embedding\n",
    "    \"\"\"\n",
    "    model = Sequential()\n",
    "    model.add(Embedding(input_dim = embed_matrix.shape[0], output_dim = embed_matrix.shape[1], input_length = MAX_SEQ_LEN,  weights=[embed_matrix], trainable=False))\n",
    "    model.add(LSTM(128))\n",
    "    model.add(Dense(64, activation='relu'))\n",
    "    model.add(Dense(3, activation='softmax'))\n",
    "    model.compile(loss='categorical_crossentropy', optimizer='adam', metrics=['accuracy'])\n",
    "    return model\n",
    "\n",
    "\n",
    "m2 = train(lambda : model_2(glove_embed_matrix), \n",
    "           train_text_vec,\n",
    "           y_train,\n",
    "           test_text_vec,\n",
    "           y_test,\n",
    "           checkpoint_path='model_2.h5',\n",
    "           class_weights=cws,\n",
    "           fit_verbose = 2,\n",
    "           print_summary = False\n",
    "          )"
   ]
  },
  {
   "cell_type": "markdown",
   "metadata": {
    "_uuid": "c5ba5365350198db77f5e161edcb8c2f988afa5d"
   },
   "source": [
    "# But the question remains what will work better, the Standard GloVe Embedding the Twitter Embedding or Both?\n",
    "## In order to test that out we'll run an experiment taking the architecture from model_1c and running it with each variation of the embedding. This experiment should provide us with good data to make a choice on which embedding to use going forward."
   ]
  },
  {
   "cell_type": "code",
   "execution_count": null,
   "metadata": {
    "_uuid": "7f2a62eedf2294665bb7780bcb1672a57ea56c05"
   },
   "outputs": [],
   "source": [
    "def model_3(embed_matrix):\n",
    "    \"\"\"\n",
    "    Extends model 1c, will be trained with multiple embeddings\n",
    "    \"\"\"\n",
    "    model = Sequential()\n",
    "    model.add(Embedding(input_dim = embed_matrix.shape[0], output_dim = embed_matrix.shape[1], input_length = MAX_SEQ_LEN,  weights=[embed_matrix], trainable=False))\n",
    "    model.add(SpatialDropout1D(0.3))\n",
    "    model.add(Bidirectional(LSTM(128, dropout=0.25, recurrent_dropout=0.25, return_sequences=True)))\n",
    "    model.add(Conv1D(64, 4))\n",
    "    model.add(GlobalMaxPool1D())\n",
    "    model.add(Dense(64, activation='relu'))\n",
    "    model.add(Dense(3, activation='softmax'))\n",
    "    model.compile(loss='categorical_crossentropy', optimizer='adam', metrics=['accuracy'])\n",
    "    return model"
   ]
  },
  {
   "cell_type": "markdown",
   "metadata": {
    "_uuid": "9d73c3235b09581f5a5b79738370edc07b2e4476"
   },
   "source": [
    "## model_3 with glove, twitter and stacked embeddings\n"
   ]
  },
  {
   "cell_type": "code",
   "execution_count": null,
   "metadata": {
    "_uuid": "6e1379331ba177e702463069f8c04e7196de781a",
    "scrolled": true
   },
   "outputs": [
    {
     "name": "stdout",
     "output_type": "stream",
     "text": [
      "Model 3 w/ Glove Embedding\n",
      "\n",
      "Epoch 00001: val_acc improved from -inf to 0.66282, saving model to model.hdf5\n",
      "\n",
      "Epoch 00002: val_acc improved from 0.66282 to 0.67075, saving model to model.hdf5\n",
      "\n",
      "Epoch 00003: val_acc improved from 0.67075 to 0.67939, saving model to model.hdf5\n",
      "\n",
      "Epoch 00004: val_acc improved from 0.67939 to 0.68372, saving model to model.hdf5\n",
      "\n",
      "Epoch 00005: val_acc did not improve from 0.68372\n",
      "\n",
      "Epoch 00006: val_acc did not improve from 0.68372\n",
      "\n",
      "\n",
      "****************************\n",
      "\n",
      "\n",
      "Loading Best Model...\n",
      "1388/1388 [==============================] - 3s 2ms/step\n",
      "Validation Loss: 0.7248423317581837\n",
      "Test Accuracy 0.6837175792507204\n",
      "F1 Score: 0.6588905343941033\n",
      "              precision    recall  f1-score   support\n",
      "\n",
      "    Negative       0.72      0.89      0.80       846\n",
      "     Neutral       0.53      0.35      0.43       308\n",
      "    Positive       0.62      0.38      0.47       234\n",
      "\n",
      "   micro avg       0.68      0.68      0.68      1388\n",
      "   macro avg       0.63      0.54      0.56      1388\n",
      "weighted avg       0.66      0.68      0.66      1388\n",
      "\n"
     ]
    },
    {
     "data": {
      "image/png": "[encoded data removed]",
      "text/plain": [
       "<Figure size 576x288 with 2 Axes>"
      ]
     },
     "metadata": {},
     "output_type": "display_data"
    },
    {
     "name": "stdout",
     "output_type": "stream",
     "text": [
      "\n",
      "++++++++++++++++++++++++++++++++++++++++++\n",
      "\n",
      "Model 3 w/ Twitter Embedding\n",
      "\n",
      "Epoch 00001: val_acc improved from -inf to 0.65274, saving model to model.hdf5\n",
      "\n",
      "Epoch 00002: val_acc did not improve from 0.65274\n",
      "\n",
      "Epoch 00003: val_acc improved from 0.65274 to 0.66427, saving model to model.hdf5\n",
      "\n",
      "Epoch 00004: val_acc improved from 0.66427 to 0.68300, saving model to model.hdf5\n",
      "\n",
      "Epoch 00005: val_acc improved from 0.68300 to 0.68804, saving model to model.hdf5\n",
      "\n",
      "Epoch 00006: val_acc improved from 0.68804 to 0.69020, saving model to model.hdf5\n",
      "\n",
      "Epoch 00007: val_acc improved from 0.69020 to 0.69741, saving model to model.hdf5\n",
      "\n",
      "Epoch 00008: val_acc improved from 0.69741 to 0.70965, saving model to model.hdf5\n",
      "\n",
      "Epoch 00009: val_acc did not improve from 0.70965\n",
      "\n",
      "Epoch 00010: val_acc did not improve from 0.70965\n",
      "\n",
      "\n",
      "****************************\n",
      "\n",
      "\n",
      "Loading Best Model...\n",
      "1388/1388 [==============================] - 3s 2ms/step\n",
      "Validation Loss: 0.702858628921871\n",
      "Test Accuracy 0.7096541786743515\n",
      "F1 Score: 0.6903845870565384\n",
      "              precision    recall  f1-score   support\n",
      "\n",
      "    Negative       0.74      0.89      0.81       846\n",
      "     Neutral       0.56      0.38      0.46       308\n",
      "    Positive       0.70      0.47      0.57       234\n",
      "\n",
      "   micro avg       0.71      0.71      0.71      1388\n",
      "   macro avg       0.67      0.58      0.61      1388\n",
      "weighted avg       0.70      0.71      0.69      1388\n",
      "\n"
     ]
    },
    {
     "data": {
      "image/png": "[encoded data removed]",
      "text/plain": [
       "<Figure size 576x288 with 2 Axes>"
      ]
     },
     "metadata": {},
     "output_type": "display_data"
    },
    {
     "name": "stdout",
     "output_type": "stream",
     "text": [
      "\n",
      "++++++++++++++++++++++++++++++++++++++++++\n",
      "\n",
      "Model 3 w/ Stacked Embedding\n",
      "\n",
      "Epoch 00001: val_acc improved from -inf to 0.65706, saving model to model.hdf5\n",
      "\n",
      "Epoch 00002: val_acc improved from 0.65706 to 0.69308, saving model to model.hdf5\n",
      "\n",
      "Epoch 00003: val_acc did not improve from 0.69308\n",
      "\n",
      "Epoch 00004: val_acc improved from 0.69308 to 0.71470, saving model to model.hdf5\n",
      "\n",
      "Epoch 00005: val_acc did not improve from 0.71470\n",
      "\n",
      "Epoch 00006: val_acc did not improve from 0.71470\n",
      "\n",
      "\n",
      "****************************\n",
      "\n",
      "\n",
      "Loading Best Model...\n",
      "1388/1388 [==============================] - 3s 2ms/step\n",
      "Validation Loss: 0.7045267231818436\n",
      "Test Accuracy 0.7146974063400576\n",
      "F1 Score: 0.7058688557452977\n",
      "              precision    recall  f1-score   support\n",
      "\n",
      "    Negative       0.77      0.85      0.81       846\n",
      "     Neutral       0.59      0.46      0.52       308\n",
      "    Positive       0.61      0.55      0.58       234\n",
      "\n",
      "   micro avg       0.71      0.71      0.71      1388\n",
      "   macro avg       0.66      0.62      0.63      1388\n",
      "weighted avg       0.70      0.71      0.71      1388\n",
      "\n"
     ]
    },
    {
     "data": {
      "image/png": "[encoded data removed]",
      "text/plain": [
       "<Figure size 576x288 with 2 Axes>"
      ]
     },
     "metadata": {},
     "output_type": "display_data"
    }
   ],
   "source": [
    "print(\"Model 3 w/ Glove Embedding\")\n",
    "_ = train(lambda : model_3(glove_embed_matrix), \n",
    "           train_text_vec,\n",
    "           y_train,\n",
    "           test_text_vec,\n",
    "           y_test,\n",
    "           class_weights=cws,\n",
    "           fit_verbose=0,\n",
    "           print_summary = False\n",
    "\n",
    "          )\n",
    "\n",
    "print(\"\\n++++++++++++++++++++++++++++++++++++++++++\\n\")\n",
    "\n",
    "print(\"Model 3 w/ Twitter Embedding\")\n",
    "_ = train(lambda : model_3(twitter_embed_matrix), \n",
    "           train_text_vec,\n",
    "           y_train,\n",
    "           test_text_vec,\n",
    "           y_test,\n",
    "           class_weights=cws,\n",
    "           fit_verbose=0,\n",
    "           print_summary = False\n",
    "\n",
    "          )\n",
    "\n",
    "print(\"\\n++++++++++++++++++++++++++++++++++++++++++\\n\")\n",
    "\n",
    "print(\"Model 3 w/ Stacked Embedding\")\n",
    "_ = train(lambda : model_3(np.hstack((twitter_embed_matrix, glove_embed_matrix))), \n",
    "           train_text_vec,\n",
    "           y_train,\n",
    "           test_text_vec,\n",
    "           y_test,\n",
    "           class_weights=cws,\n",
    "           fit_verbose=0,\n",
    "           print_summary = False\n",
    "\n",
    "          )\n",
    "\n"
   ]
  },
  {
   "cell_type": "markdown",
   "metadata": {
    "_uuid": "f1b43d714951dbfcd94f2e46c3823da899e11777"
   },
   "source": [
    "## By blending the embeddings we should have a model that's a signicant improvement over the baselines (~5-7% increase in F1 Score).\n",
    "## Can we improve on the architecture further to increase our performance? Let's test a few hypotheses:"
   ]
  },
  {
   "cell_type": "markdown",
   "metadata": {
    "_uuid": "b8caa32405b3bad707bf9f677ef1e1dc3a2d4b0a"
   },
   "source": [
    "## Hypothesis 1: What if we extend the depth of the convolution (common in image classification)?\n",
    "## Result: Negligible"
   ]
  },
  {
   "cell_type": "code",
   "execution_count": null,
   "metadata": {
    "_uuid": "c565ebb3f74835618d604e6e1c59de68d6fcc440"
   },
   "outputs": [
    {
     "name": "stdout",
     "output_type": "stream",
     "text": [
      "_________________________________________________________________\n",
      "Layer (type)                 Output Shape              Param #   \n",
      "=================================================================\n",
      "embedding_9 (Embedding)      (None, 25, 500)           10748500  \n",
      "_________________________________________________________________\n",
      "spatial_dropout1d_7 (Spatial (None, 25, 500)           0         \n",
      "_________________________________________________________________\n",
      "bidirectional_6 (Bidirection (None, 25, 256)           644096    \n",
      "_________________________________________________________________\n",
      "conv1d_8 (Conv1D)            (None, 22, 64)            65600     \n",
      "_________________________________________________________________\n",
      "conv1d_9 (Conv1D)            (None, 19, 32)            8224      \n",
      "_________________________________________________________________\n",
      "conv1d_10 (Conv1D)           (None, 16, 16)            2064      \n",
      "_________________________________________________________________\n",
      "global_max_pooling1d_6 (Glob (None, 16)                0         \n",
      "_________________________________________________________________\n",
      "dense_17 (Dense)             (None, 64)                1088      \n",
      "_________________________________________________________________\n",
      "dense_18 (Dense)             (None, 3)                 195       \n",
      "=================================================================\n",
      "Total params: 11,469,767\n",
      "Trainable params: 721,267\n",
      "Non-trainable params: 10,748,500\n",
      "_________________________________________________________________\n",
      "None\n",
      "Train on 12483 samples, validate on 1388 samples\n",
      "Epoch 1/25\n",
      " - 16s - loss: 0.8494 - acc: 0.6346 - val_loss: 0.7579 - val_acc: 0.6578\n",
      "\n",
      "Epoch 00001: val_acc improved from -inf to 0.65778, saving model to model.hdf5\n",
      "Epoch 2/25\n",
      " - 11s - loss: 0.7555 - acc: 0.6737 - val_loss: 0.7444 - val_acc: 0.6765\n",
      "\n",
      "Epoch 00002: val_acc improved from 0.65778 to 0.67651, saving model to model.hdf5\n",
      "Epoch 3/25\n",
      " - 11s - loss: 0.7139 - acc: 0.6932 - val_loss: 0.7441 - val_acc: 0.6837\n",
      "\n",
      "Epoch 00003: val_acc improved from 0.67651 to 0.68372, saving model to model.hdf5\n",
      "Epoch 4/25\n",
      " - 11s - loss: 0.6830 - acc: 0.7054 - val_loss: 0.7343 - val_acc: 0.6924\n",
      "\n",
      "Epoch 00004: val_acc improved from 0.68372 to 0.69236, saving model to model.hdf5\n",
      "Epoch 5/25\n",
      " - 11s - loss: 0.6585 - acc: 0.7217 - val_loss: 0.7215 - val_acc: 0.6988\n",
      "\n",
      "Epoch 00005: val_acc improved from 0.69236 to 0.69885, saving model to model.hdf5\n",
      "Epoch 6/25\n",
      " - 11s - loss: 0.6268 - acc: 0.7352 - val_loss: 0.7411 - val_acc: 0.6967\n",
      "\n",
      "Epoch 00006: val_acc did not improve from 0.69885\n",
      "Epoch 7/25\n",
      " - 11s - loss: 0.6003 - acc: 0.7485 - val_loss: 0.7369 - val_acc: 0.6945\n",
      "\n",
      "Epoch 00007: val_acc did not improve from 0.69885\n",
      "\n",
      "\n",
      "****************************\n",
      "\n",
      "\n",
      "Loading Best Model...\n",
      "1388/1388 [==============================] - 4s 3ms/step\n",
      "Validation Loss: 0.7214961848560565\n",
      "Test Accuracy 0.6988472622478387\n",
      "F1 Score: 0.687151002296689\n",
      "              precision    recall  f1-score   support\n",
      "\n",
      "    Negative       0.76      0.86      0.80       846\n",
      "     Neutral       0.51      0.46      0.49       308\n",
      "    Positive       0.67      0.43      0.52       234\n",
      "\n",
      "   micro avg       0.70      0.70      0.70      1388\n",
      "   macro avg       0.65      0.58      0.61      1388\n",
      "weighted avg       0.69      0.70      0.69      1388\n",
      "\n"
     ]
    },
    {
     "data": {
      "image/png": "[encoded data removed]",
      "text/plain": [
       "<Figure size 576x288 with 2 Axes>"
      ]
     },
     "metadata": {},
     "output_type": "display_data"
    }
   ],
   "source": [
    "def model_4(embed_matrix):\n",
    "\n",
    "    model = Sequential()\n",
    "    model.add(Embedding(input_dim = embed_matrix.shape[0], output_dim = embed_matrix.shape[1], input_length = MAX_SEQ_LEN,  weights=[embed_matrix], trainable=False))\n",
    "    model.add(SpatialDropout1D(0.25))\n",
    "    model.add(Bidirectional(LSTM(128, dropout=0.25, recurrent_dropout=0.25, return_sequences=True)))\n",
    "    model.add(Conv1D(64, 4))\n",
    "    model.add(Conv1D(32, 4))\n",
    "    model.add(Conv1D(16, 4))\n",
    "    model.add(GlobalMaxPool1D())\n",
    "    model.add(Dense(64, activation='relu'))\n",
    "    model.add(Dense(3, activation='softmax'))\n",
    "    model.compile(loss='categorical_crossentropy', optimizer='adam', metrics=['accuracy'])\n",
    "    return model\n",
    "\n",
    "\n",
    "_ = train(lambda : model_4(np.hstack((twitter_embed_matrix, glove_embed_matrix))), \n",
    "           train_text_vec,\n",
    "           y_train,\n",
    "           test_text_vec,\n",
    "           y_test,\n",
    "           class_weights=cws,\n",
    "           fit_verbose=2,\n",
    "           print_summary = True\n",
    "          )\n",
    "\n"
   ]
  },
  {
   "cell_type": "markdown",
   "metadata": {
    "_uuid": "461ab453eb9b07511c66062380f9345f9d4ccf45"
   },
   "source": [
    "## Hypothesis 2: What if we make the Embedding layer trainable, so that it's weights are updated, by the training data? This should help with addressing Out of Vocabulary Tokens.\n",
    "\n",
    "## Results: Provides another small boost in accuracy. Retraining the vectors is not alway recommended as you might \"lose\" useful information from the pre-trained embeddings, but in this context it proves helpful."
   ]
  },
  {
   "cell_type": "code",
   "execution_count": null,
   "metadata": {
    "_uuid": "e3482117cff8b246e99f7a061a2f628acbef0bc9"
   },
   "outputs": [
    {
     "name": "stdout",
     "output_type": "stream",
     "text": [
      "_________________________________________________________________\n",
      "Layer (type)                 Output Shape              Param #   \n",
      "=================================================================\n",
      "embedding_10 (Embedding)     (None, 25, 500)           10748500  \n",
      "_________________________________________________________________\n",
      "spatial_dropout1d_8 (Spatial (None, 25, 500)           0         \n",
      "_________________________________________________________________\n",
      "bidirectional_7 (Bidirection (None, 25, 256)           644096    \n",
      "_________________________________________________________________\n",
      "conv1d_11 (Conv1D)           (None, 22, 64)            65600     \n",
      "_________________________________________________________________\n",
      "global_max_pooling1d_7 (Glob (None, 64)                0         \n",
      "_________________________________________________________________\n",
      "dense_19 (Dense)             (None, 64)                4160      \n",
      "_________________________________________________________________\n",
      "dense_20 (Dense)             (None, 3)                 195       \n",
      "=================================================================\n",
      "Total params: 11,462,551\n",
      "Trainable params: 11,462,551\n",
      "Non-trainable params: 0\n",
      "_________________________________________________________________\n",
      "None\n",
      "Train on 12483 samples, validate on 1388 samples\n",
      "Epoch 1/25\n",
      " - 19s - loss: 0.8442 - acc: 0.6364 - val_loss: 0.7650 - val_acc: 0.6693\n",
      "\n",
      "Epoch 00001: val_acc improved from -inf to 0.66931, saving model to model.hdf5\n",
      "Epoch 2/25\n",
      " - 13s - loss: 0.7069 - acc: 0.6992 - val_loss: 0.7142 - val_acc: 0.6938\n",
      "\n",
      "Epoch 00002: val_acc improved from 0.66931 to 0.69380, saving model to model.hdf5\n",
      "Epoch 3/25\n",
      " - 13s - loss: 0.6242 - acc: 0.7396 - val_loss: 0.7013 - val_acc: 0.7039\n",
      "\n",
      "Epoch 00003: val_acc improved from 0.69380 to 0.70389, saving model to model.hdf5\n",
      "Epoch 4/25\n",
      " - 12s - loss: 0.5452 - acc: 0.7787 - val_loss: 0.7578 - val_acc: 0.7089\n",
      "\n",
      "Epoch 00004: val_acc improved from 0.70389 to 0.70893, saving model to model.hdf5\n",
      "Epoch 5/25\n",
      " - 13s - loss: 0.4616 - acc: 0.8182 - val_loss: 0.7994 - val_acc: 0.6837\n",
      "\n",
      "Epoch 00005: val_acc did not improve from 0.70893\n",
      "\n",
      "\n",
      "****************************\n",
      "\n",
      "\n",
      "Loading Best Model...\n",
      "1388/1388 [==============================] - 4s 3ms/step\n",
      "Validation Loss: 0.7578240799661746\n",
      "Test Accuracy 0.7089337175792507\n",
      "F1 Score: 0.7109549052279439\n",
      "              precision    recall  f1-score   support\n",
      "\n",
      "    Negative       0.82      0.79      0.81       846\n",
      "     Neutral       0.53      0.54      0.53       308\n",
      "    Positive       0.58      0.62      0.60       234\n",
      "\n",
      "   micro avg       0.71      0.71      0.71      1388\n",
      "   macro avg       0.64      0.65      0.65      1388\n",
      "weighted avg       0.71      0.71      0.71      1388\n",
      "\n"
     ]
    },
    {
     "data": {
      "image/png": "[encoded data removed]",
      "text/plain": [
       "<Figure size 576x288 with 2 Axes>"
      ]
     },
     "metadata": {},
     "output_type": "display_data"
    }
   ],
   "source": [
    "def model_5(embed_matrix):\n",
    "    \"\"\"\n",
    "    Extends Model 3, but makes the embedding trainable\n",
    "    \"\"\"\n",
    "    model = Sequential()\n",
    "    model.add(Embedding(input_dim = embed_matrix.shape[0], output_dim = embed_matrix.shape[1], input_length = MAX_SEQ_LEN,  weights=[embed_matrix], trainable=True))\n",
    "    model.add(SpatialDropout1D(0.3))\n",
    "    model.add(Bidirectional(LSTM(128, dropout=0.25, recurrent_dropout=0.25, return_sequences=True)))\n",
    "    model.add(Conv1D(64, 4))\n",
    "    model.add(GlobalMaxPool1D())\n",
    "    model.add(Dense(64, activation='relu'))\n",
    "    model.add(Dense(3, activation='softmax'))\n",
    "    model.compile(loss='categorical_crossentropy', optimizer='adam', metrics=['accuracy'])\n",
    "    return model\n",
    "\n",
    "\n",
    "m5 = train(lambda : model_5(np.hstack((twitter_embed_matrix, glove_embed_matrix))), \n",
    "           train_text_vec,\n",
    "           y_train,\n",
    "           test_text_vec,\n",
    "           y_test,\n",
    "           class_weights=cws,\n",
    "           fit_verbose=2,\n",
    "           print_summary = True\n",
    "          )"
   ]
  },
  {
   "cell_type": "markdown",
   "metadata": {
    "_uuid": "b6b1c4359a9bc2f9a0d5bfa0d1c3cab117126aff"
   },
   "source": [
    "## Hypothesis 3: Let's try stacking the LSTM Layers.\n",
    "## At this point we should see minimal change from our prior model"
   ]
  },
  {
   "cell_type": "code",
   "execution_count": null,
   "metadata": {
    "_uuid": "7540c72cb15017f257cb7490edc3d09e559abac3"
   },
   "outputs": [
    {
     "name": "stdout",
     "output_type": "stream",
     "text": [
      "Train on 12483 samples, validate on 1388 samples\n",
      "Epoch 1/25\n",
      " - 32s - loss: 0.8557 - acc: 0.6323 - val_loss: 0.7779 - val_acc: 0.6650\n",
      "\n",
      "Epoch 00001: val_acc improved from -inf to 0.66499, saving model to model.hdf5\n",
      "Epoch 2/25\n",
      " - 23s - loss: 0.7129 - acc: 0.6973 - val_loss: 0.7090 - val_acc: 0.6996\n",
      "\n",
      "Epoch 00002: val_acc improved from 0.66499 to 0.69957, saving model to model.hdf5\n",
      "Epoch 3/25\n",
      " - 23s - loss: 0.6302 - acc: 0.7406 - val_loss: 0.7043 - val_acc: 0.7111\n",
      "\n",
      "Epoch 00003: val_acc improved from 0.69957 to 0.71110, saving model to model.hdf5\n",
      "Epoch 4/25\n",
      " - 23s - loss: 0.5445 - acc: 0.7795 - val_loss: 0.7779 - val_acc: 0.7097\n",
      "\n",
      "Epoch 00004: val_acc did not improve from 0.71110\n",
      "Epoch 5/25\n",
      " - 23s - loss: 0.4751 - acc: 0.8115 - val_loss: 0.8229 - val_acc: 0.7003\n",
      "\n",
      "Epoch 00005: val_acc did not improve from 0.71110\n",
      "\n",
      "\n",
      "****************************\n",
      "\n",
      "\n",
      "Loading Best Model...\n",
      "1388/1388 [==============================] - 6s 5ms/step\n",
      "Validation Loss: 0.704347924051554\n",
      "Test Accuracy 0.7110951008645533\n",
      "F1 Score: 0.7013768120961226\n",
      "              precision    recall  f1-score   support\n",
      "\n",
      "    Negative       0.77      0.86      0.81       846\n",
      "     Neutral       0.55      0.44      0.49       308\n",
      "    Positive       0.63      0.54      0.58       234\n",
      "\n",
      "   micro avg       0.71      0.71      0.71      1388\n",
      "   macro avg       0.65      0.61      0.63      1388\n",
      "weighted avg       0.70      0.71      0.70      1388\n",
      "\n"
     ]
    },
    {
     "data": {
      "image/png": "[encoded data removed]",
      "text/plain": [
       "<Figure size 576x288 with 2 Axes>"
      ]
     },
     "metadata": {},
     "output_type": "display_data"
    }
   ],
   "source": [
    "def model_6(embed_matrix):\n",
    "    \"\"\"\n",
    "    Extends Model 5 and adds another Bidirectional LSTM layer\n",
    "    \"\"\"\n",
    "    model = Sequential()\n",
    "    model.add(Embedding(input_dim = embed_matrix.shape[0], output_dim = embed_matrix.shape[1], input_length = MAX_SEQ_LEN,  weights=[embed_matrix], trainable=True))\n",
    "    model.add(SpatialDropout1D(0.3))\n",
    "    model.add(Bidirectional(LSTM(128, dropout=0.25, recurrent_dropout=0.25, return_sequences=True)))\n",
    "    model.add(Bidirectional(LSTM(128, dropout=0.25, recurrent_dropout=0.25, return_sequences=True)))\n",
    "    model.add(Conv1D(64, 4))\n",
    "    model.add(GlobalMaxPool1D())\n",
    "    model.add(Dense(64, activation='relu'))\n",
    "    model.add(Dense(3, activation='sigmoid'))\n",
    "    model.compile(loss='categorical_crossentropy', optimizer='adam', metrics=['accuracy'])\n",
    "    return model\n",
    "\n",
    "\n",
    "m6 = train(lambda : model_6(np.hstack((twitter_embed_matrix, glove_embed_matrix))), \n",
    "           train_text_vec,\n",
    "           y_train,\n",
    "           test_text_vec,\n",
    "           y_test,\n",
    "           class_weights=cws,\n",
    "           fit_verbose=2,\n",
    "           print_summary = False\n",
    "          )\n",
    "\n"
   ]
  },
  {
   "cell_type": "code",
   "execution_count": null,
   "metadata": {
    "_uuid": "730d0a79df25537ad5d37607f491368defd1e551"
   },
   "outputs": [
    {
     "name": "stdout",
     "output_type": "stream",
     "text": [
      "Prediction, based on highest class: 0.7110951008645533\n",
      "Threshold Search: {'threshold': 0.35000000000000003, 'f1': 0.7134657235923297}\n"
     ]
    },
    {
     "name": "stderr",
     "output_type": "stream",
     "text": [
      "/opt/conda/lib/python3.6/site-packages/sklearn/metrics/classification.py:1143: UndefinedMetricWarning: F-score is ill-defined and being set to 0.0 in labels with no predicted samples.\n",
      "  'precision', 'predicted', average, warn_for)\n"
     ]
    }
   ],
   "source": [
    "preds = m6.predict(test_text_vec)\n",
    "print('Prediction, based on highest class:', (preds.argmax(axis = 1) == y_test.argmax(axis = 1)).mean())\n",
    "#print('Prediction, based on class > 0.5:', ((y_test * preds).max(axis = 1) > 0.5).mean())\n",
    "\n",
    "# Also consider searching the threshold, though this requires re-thinking the results, since you're now outputting up to 2 options for a class\n",
    "# But should help with calling out ambiguous cases\n",
    "threshold = threshold_search(y_test, preds, average='weighted')\n",
    "print('Threshold Search:', threshold)\n",
    "# print('Prediction, after Threshold Search:', (preds.argmax > threshold == y_test.argmax(axis = 1)).mean())"
   ]
  },
  {
   "cell_type": "markdown",
   "metadata": {
    "_uuid": "8b14a956afc1e5744b3ae12d5b0128fcac8f00eb"
   },
   "source": [
    "### So why is the model plateua-ing?\n",
    "1. We havent done much hyper-parameter tuning, which might help further improve the model's accuracy (e.g. changing batch size, kernel size, LSTM capacity)?\n",
    "2. We have a small dataset and there's limited information we can extract from it.\n",
    "3. Human sentiment is a messy thing to measure, See below to look at some of the misclassifications. Would you have correclty classified them?"
   ]
  },
  {
   "cell_type": "code",
   "execution_count": null,
   "metadata": {
    "_uuid": "e9f5350240302da9c0d3bc05495e9a8cb6b6639f"
   },
   "outputs": [
    {
     "name": "stdout",
     "output_type": "stream",
     "text": [
      "Residuals Analysis:\n",
      "[[724  77  45]\n",
      " [141 137  30]\n",
      " [ 75  33 126]]\n",
      "idx: 0\n",
      "True Label: Positive\n",
      "Predicted Label: Negative\n",
      "Probability Prediction [0.5881 0.4471 0.358 ]\n",
      "Positive :: To me, the real winner of last night #GOPDebate was @megynkelly. #MegynKelly \n",
      "\n",
      "idx: 12\n",
      "True Label: Positive\n",
      "Predicted Label: Neutral\n",
      "Probability Prediction [0.116  0.8772 0.0368]\n",
      "Positive :: Wondering how the day after the #GOPDebate is going? I've ordered Dominos and read through my watch party swag: http://t.co/NQqXm33AEr \n",
      "\n",
      "idx: 13\n",
      "True Label: Neutral\n",
      "Predicted Label: Negative\n",
      "Probability Prediction [0.6952 0.5837 0.0161]\n",
      "Neutral :: RT @kristenjobarton: me @ #GOPDebate talking about Planned Parenthood http://t.co/OYIZmqZoWj \n",
      "\n",
      "idx: 18\n",
      "True Label: Neutral\n",
      "Predicted Label: Negative\n",
      "Probability Prediction [0.5891 0.5698 0.0462]\n",
      "Neutral :: RT @JimSterling: Phew! Tuned into the #GOPDebate just in time! http://t.co/BIVfRZKaF4 \n",
      "\n",
      "idx: 21\n",
      "True Label: Neutral\n",
      "Predicted Label: Positive\n",
      "Probability Prediction [0.295  0.1737 0.8532]\n",
      "Neutral :: RT @RWSurferGirl: You would never know @realDonaldTrump  is the frontrunner from watching this debate. 🇺🇸 #GOPDebate  #GOPDebates \n",
      "\n",
      "idx: 22\n",
      "True Label: Neutral\n",
      "Predicted Label: Negative\n",
      "Probability Prediction [0.7943 0.3143 0.235 ]\n",
      "Neutral :: I'm voting for Rand Paul's sassy eye rolling for president. #GOPDebates \n",
      "\n",
      "idx: 29\n",
      "True Label: Neutral\n",
      "Predicted Label: Negative\n",
      "Probability Prediction [0.9492 0.0813 0.027 ]\n",
      "Neutral :: RT @76TomPaine: @seculardotorg “It is of the utmost danger to society to make religion a party in political disputes.” #GOPDebate \n",
      "\n",
      "idx: 31\n",
      "True Label: Neutral\n",
      "Predicted Label: Negative\n",
      "Probability Prediction [0.9935 0.0161 0.0078]\n",
      "Neutral :: RT @ZeitgeistGhost: What i or any other sane person thinks of the of 1st #GOPDebate doesn't matter. It's the soulless pittiful assholes who… \n",
      "\n",
      "idx: 33\n",
      "True Label: Negative\n",
      "Predicted Label: Neutral\n",
      "Probability Prediction [0.3959 0.7921 0.0689]\n",
      "Negative :: The perfect remedy for a #GOPDebate hangover is to #FF @s_cosgrove @rascality @DCdebbie @Satur9 @joanwalsh @RockyMntnMike @alikat747 \n",
      "\n",
      "idx: 37\n",
      "True Label: Negative\n",
      "Predicted Label: Neutral\n",
      "Probability Prediction [0.2385 0.8097 0.0627]\n",
      "Negative :: In summary #GOPDebate #RSG15 http://t.co/FzNsfGkgOo \n",
      "\n",
      "idx: 44\n",
      "True Label: Neutral\n",
      "Predicted Label: Negative\n",
      "Probability Prediction [0.874  0.1915 0.1273]\n",
      "Neutral :: RT @danholler: Cruz hit unconstitutional executive actions, #PlannedParenthood, religious liberty and Iran deal in final answer. #GOPDebate \n",
      "\n",
      "idx: 46\n",
      "True Label: Neutral\n",
      "Predicted Label: Negative\n",
      "Probability Prediction [0.9173 0.1749 0.0209]\n",
      "Neutral :: RT @monaeltahawy: Has any candidate received a word from God?! Presidential hopefuls?! This is America?! Christian Brotherhood of America #… \n",
      "\n",
      "idx: 51\n",
      "True Label: Neutral\n",
      "Predicted Label: Negative\n",
      "Probability Prediction [0.9608 0.0699 0.0403]\n",
      "Neutral :: RT @JimmyJames38: Dayum! Carson just kicked that question in its throat. #GOPDebates \n",
      "\n",
      "idx: 54\n",
      "True Label: Negative\n",
      "Predicted Label: Neutral\n",
      "Probability Prediction [0.5481 0.6103 0.1305]\n",
      "Negative :: RT @PARISDENNARD: 3 hours of #GOPDebates is enough for one night and I love politics… \n",
      "\n",
      "idx: 58\n",
      "True Label: Neutral\n",
      "Predicted Label: Negative\n",
      "Probability Prediction [0.6224 0.5893 0.1789]\n",
      "Neutral :: You are now promising free pizza every Friday and no homework ever again! #GOPDebates \n",
      "\n",
      "idx: 60\n",
      "True Label: Negative\n",
      "Predicted Label: Positive\n",
      "Probability Prediction [0.1228 0.1725 0.8673]\n",
      "Negative :: @KHOU @JebBush #GOPDebates he looks down on the base \n",
      "\n",
      "idx: 66\n",
      "True Label: Neutral\n",
      "Predicted Label: Negative\n",
      "Probability Prediction [0.694  0.5512 0.0522]\n",
      "Neutral :: @Livestream #GOPDebate as an  Independent voter I wanted 2 C why should I even consider voting Republican \n",
      "\n",
      "idx: 68\n",
      "True Label: Positive\n",
      "Predicted Label: Negative\n",
      "Probability Prediction [0.8825 0.1088 0.3032]\n",
      "Positive :: best part of #GOPDebate -@realDonaldTrump telling @megynkelly \"we aint cool for real &amp; i dont have to be nice to yo ass\" \n",
      "\n",
      "idx: 73\n",
      "True Label: Positive\n",
      "Predicted Label: Neutral\n",
      "Probability Prediction [0.5496 0.7    0.0083]\n",
      "Positive :: RT @EusebiaAq: @sternnschool Who's the real illegal alien #GOPDebate - Farrakhan on Immigration &amp; the Mexican Bor... https://t.co/lkLfFN2LF… \n",
      "\n",
      "idx: 79\n",
      "True Label: Neutral\n",
      "Predicted Label: Positive\n",
      "Probability Prediction [0.295  0.1737 0.8532]\n",
      "Neutral :: RT @RWSurferGirl: You would never know @realDonaldTrump  is the frontrunner from watching this debate. 🇺🇸 #GOPDebate  #GOPDebates \n",
      "\n",
      "idx: 83\n",
      "True Label: Negative\n",
      "Predicted Label: Neutral\n",
      "Probability Prediction [0.2504 0.7279 0.1794]\n",
      "Negative :: @jeremypiven after watching last night's #GOPDebate I've decided Ari Gold really had the best domestic policy... http://t.co/k6XA5rlo70 \n",
      "\n"
     ]
    }
   ],
   "source": [
    "from sklearn.metrics import confusion_matrix\n",
    "print('Residuals Analysis:', )\n",
    "print(confusion_matrix(y_test.argmax(axis = 1),preds.argmax(axis = 1)))\n",
    "\n",
    "\n",
    "ctr = 0\n",
    "for i in range(y_test.shape[0]):\n",
    "    true_label = y_test[i].argmax()\n",
    "    pred_label = preds[i].argmax()\n",
    "    if true_label != pred_label:\n",
    "        print('idx:', i)\n",
    "        print('True Label:', encoder.classes_[true_label])\n",
    "        print('Predicted Label:', encoder.classes_[pred_label])\n",
    "        print('Probability Prediction', preds[i])\n",
    "        print(test['sentiment'].values[i], '::',  test['text'].values[i], '\\n')\n",
    "        ctr += 1\n",
    "    \n",
    "    if ctr > 20:\n",
    "        break\n",
    "        \n"
   ]
  },
  {
   "cell_type": "markdown",
   "metadata": {
    "_uuid": "fbd29c3eb565e0deaf1e9fffbaae14011d28f70c"
   },
   "source": [
    "### Also, there are plenty of words that arent found in the corpus, that might help improve the interpretation of the text..."
   ]
  },
  {
   "cell_type": "code",
   "execution_count": null,
   "metadata": {
    "_uuid": "5c9566d84a4323167f103b92ee1c563ecc47ed67"
   },
   "outputs": [
    {
     "data": {
      "text/plain": [
       "[('GOPDebate', 1),\n",
       " ('GOPDebates', 5),\n",
       " ('RWSurferGirl', 15),\n",
       " ('🇺🇸', 17),\n",
       " ('realDonaldTrump', 29),\n",
       " ('megynkelly', 60),\n",
       " ('GOPdebate', 80),\n",
       " ('GOPdebates', 97),\n",
       " (\"night's\", 136),\n",
       " ('gopdebate', 156),\n",
       " ('2', 158),\n",
       " ('CarlyFiorina', 159),\n",
       " ('monaeltahawy', 160),\n",
       " ('GopDebates', 165),\n",
       " ('G…', 170),\n",
       " ('SupermanHotMale', 177),\n",
       " ('TedCruz', 193),\n",
       " ('GOPDebat…', 200),\n",
       " ('1', 244),\n",
       " ('HillaryClinton', 245)]"
      ]
     },
     "execution_count": 30,
     "metadata": {},
     "output_type": "execute_result"
    }
   ],
   "source": [
    "words_not_found[:20]"
   ]
  },
  {
   "cell_type": "markdown",
   "metadata": {
    "_uuid": "cceb3df564d091cc66297de44cf9fdf9e6808c64"
   },
   "source": [
    "# Where to go from here? Next Steps\n",
    "----\n",
    "\n",
    "### The final model approaches an Accuracy/F1 of 70 - 71%(almost 10% improvement in F1 from our baseline) and it seems like there might be a bit of plateau caused in-part by the amiguity of the data. So now that learning has plateau'd there are still some areas to explore to further improve on our model.\n",
    "1. Hyperparameter Tuning - Batch Size, DropOut Rate, LSTM Size, etc.\n",
    "2. Try to generate/collect new data to help with performance (translation augmentation is one technique). \n",
    "3. Perform Threshold Search to see if that can improve the accuracy of the model, by changing the decision threshold for classifcation (default is 0.5). Usually good for a small \"free\" boost.\n",
    "4. Consider adding meta-data(likes, retweets, num followers) or additional statistical feature e.g. Count of Punctuation, Count all CAPS words, etc.\n",
    "5. Use cross validation to analyze architecture. In this example I mostly just did one pass on a give model, to see what choices would make the greatest impact, but when fine-tuning a model it's often helpful to use 10-Fold Cross Validation to confirm if the architectural change produces a statistically significant imrpovement, especiially when considering using the models in a commercial setting where cost would be a factor.\n",
    "6. Start Exploring more complex architectures to get an additional edge, sinc deep learning is an evolving field it's always good to keep reading and learning new techniques, which seem to get better every 2-3 months."
   ]
  },
  {
   "cell_type": "markdown",
   "metadata": {
    "_uuid": "984543c487e63e75dc894eed03bb037f81db8f71"
   },
   "source": [
    "# [Winning architecture for Quora Challenge](https://www.kaggle.com/c/quora-insincere-questions-classification/discussion/80568)\n",
    "![Imaget](https://i.imgur.com/zUY9tVN.png)"
   ]
  },
  {
   "cell_type": "markdown",
   "metadata": {
    "_uuid": "d1682458f8b8d0b44140fd30bba4f7ab226ae3b5"
   },
   "source": [
    "# [KD Nuggets Benchmarking RNNs to Machine Learning Based Approaches](https://www.kdnuggets.com/2018/07/overview-benchmark-deep-learning-models-text-classification.html)\n",
    "\n",
    "![Image From KD Nuggets](https://ahmedbesbes.com/images/article_5/rnn_cnn_model.png)"
   ]
  },
  {
   "cell_type": "code",
   "execution_count": null,
   "metadata": {
    "_uuid": "6640b9c7ecdc3bafa89322da0067d114d170848e"
   },
   "outputs": [],
   "source": []
  }
 ],
 "metadata": {
  "kernelspec": {
   "display_name": "Python 3",
   "language": "python",
   "name": "python3"
  },
  "language_info": {
   "codemirror_mode": {
    "name": "ipython",
    "version": 3
   },
   "file_extension": ".py",
   "mimetype": "text/x-python",
   "name": "python",
   "nbconvert_exporter": "python",
   "pygments_lexer": "ipython3",
   "version": "3.10.8"
  },
  "vscode": {
   "interpreter": {
    "hash": "b0fa6594d8f4cbf19f97940f81e996739fb7646882a419484c72d19e05852a7e"
   }
  }
 },
 "nbformat": 4,
 "nbformat_minor": 1
}
