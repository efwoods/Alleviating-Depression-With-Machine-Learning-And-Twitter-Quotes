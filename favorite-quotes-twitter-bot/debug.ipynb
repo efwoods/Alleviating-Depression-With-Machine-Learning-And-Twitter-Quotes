{
 "cells": [
  {
   "cell_type": "code",
   "execution_count": 7,
   "metadata": {},
   "outputs": [
    {
     "name": "stdout",
     "output_type": "stream",
     "text": [
      "Collecting redis\n",
      "  Using cached redis-4.3.5-py3-none-any.whl (248 kB)\n",
      "Requirement already satisfied: packaging>=20.4 in /opt/homebrew/lib/python3.10/site-packages (from redis) (21.3)\n",
      "Collecting async-timeout>=4.0.2\n",
      "  Using cached async_timeout-4.0.2-py3-none-any.whl (5.8 kB)\n",
      "Requirement already satisfied: pyparsing!=3.0.5,>=2.0.2 in /opt/homebrew/lib/python3.10/site-packages (from packaging>=20.4->redis) (3.0.9)\n",
      "Installing collected packages: async-timeout, redis\n",
      "Successfully installed async-timeout-4.0.2 redis-4.3.5\n",
      "Note: you may need to restart the kernel to use updated packages.\n"
     ]
    }
   ],
   "source": [
    "%pip install redis"
   ]
  },
  {
   "cell_type": "code",
   "execution_count": 50,
   "metadata": {},
   "outputs": [],
   "source": [
    "\n",
    "import main\n",
    "import redis\n",
    "import json\n",
    "import os\n",
    "from dotenv import dotenv_values\n",
    "\n",
    "config = dotenv_values(\".env\")  # config = {\"USER\": \"foo\", \"EMAIL\": \"foo@example.org\"}\n"
   ]
  },
  {
   "cell_type": "code",
   "execution_count": 51,
   "metadata": {},
   "outputs": [
    {
     "data": {
      "text/plain": [
       "'VG1iak5nSS1HeXAwUDk5TjhCX2c6MTpjaQ'"
      ]
     },
     "execution_count": 51,
     "metadata": {},
     "output_type": "execute_result"
    }
   ],
   "source": [
    "config['CLIENT_ID']"
   ]
  },
  {
   "cell_type": "code",
   "execution_count": 52,
   "metadata": {},
   "outputs": [],
   "source": [
    "\n",
    "# You can now set a variable called twitter, which calls the make_token function to create a new access token. You will also need to obtain the environment variables for client ID and client secret. \n",
    "twitter = main.make_token()\n",
    "client_id = config['CLIENT_ID']\n",
    "client_secret = config['CLIENT_SECRET']\n",
    "token_url = \"https://api.twitter.com/2/oauth2/token\"\n"
   ]
  },
  {
   "cell_type": "code",
   "execution_count": 53,
   "metadata": {},
   "outputs": [
    {
     "name": "stdout",
     "output_type": "stream",
     "text": [
      "b\"{'token_type': 'bearer', 'expires_in': 7200, 'access_token': 'OHNULUhTU0s5X1B6SmhNVHhpOFFMTXpZdjlFWklBRzRJMmRKTnoyUHRTbmpfOjE2NjkzMjQ0NzE1NDM6MTowOmF0OjE', 'scope': ['tweet.write', 'users.read', 'tweet.read', 'offline.access'], 'refresh_token': 'eHdRSVo1Z3phcFR4bDZtcTVxU0llTHRHSW1yRDFBUEV2Mm53TXF6VEJLSDZnOjE2NjkzMjQ0NzE1NDM6MToxOnJ0OjE', 'expires_at': 1669331671.536252}\"\n"
     ]
    }
   ],
   "source": [
    "\n",
    "# Now, you can obtain the access token from Redis, which is saved corresponding with the value of token. You will also need to decode the token and replace the quotes. You can save it into a JSON object and work with it later.\n",
    "t = main.r.get(\"token\")\n",
    "print(t)"
   ]
  },
  {
   "cell_type": "code",
   "execution_count": 54,
   "metadata": {},
   "outputs": [
    {
     "name": "stdout",
     "output_type": "stream",
     "text": [
      "{\"token_type\": \"bearer\", \"expires_in\": 7200, \"access_token\": \"OHNULUhTU0s5X1B6SmhNVHhpOFFMTXpZdjlFWklBRzRJMmRKTnoyUHRTbmpfOjE2NjkzMjQ0NzE1NDM6MTowOmF0OjE\", \"scope\": [\"tweet.write\", \"users.read\", \"tweet.read\", \"offline.access\"], \"refresh_token\": \"eHdRSVo1Z3phcFR4bDZtcTVxU0llTHRHSW1yRDFBUEV2Mm53TXF6VEJLSDZnOjE2NjkzMjQ0NzE1NDM6MToxOnJ0OjE\", \"expires_at\": 1669331671.536252}\n"
     ]
    }
   ],
   "source": [
    "bb_t = t.decode(\"utf8\").replace(\"'\", '\"')\n",
    "print(bb_t)"
   ]
  },
  {
   "cell_type": "code",
   "execution_count": 55,
   "metadata": {},
   "outputs": [
    {
     "name": "stdout",
     "output_type": "stream",
     "text": [
      "{'token_type': 'bearer', 'expires_in': 7200, 'access_token': 'OHNULUhTU0s5X1B6SmhNVHhpOFFMTXpZdjlFWklBRzRJMmRKTnoyUHRTbmpfOjE2NjkzMjQ0NzE1NDM6MTowOmF0OjE', 'scope': ['tweet.write', 'users.read', 'tweet.read', 'offline.access'], 'refresh_token': 'eHdRSVo1Z3phcFR4bDZtcTVxU0llTHRHSW1yRDFBUEV2Mm53TXF6VEJLSDZnOjE2NjkzMjQ0NzE1NDM6MToxOnJ0OjE', 'expires_at': 1669331671.536252}\n"
     ]
    }
   ],
   "source": [
    "data = json.loads(bb_t)\n",
    "print(data)"
   ]
  },
  {
   "cell_type": "code",
   "execution_count": 56,
   "metadata": {},
   "outputs": [
    {
     "ename": "UnauthorizedClientError",
     "evalue": "(unauthorized_client) Missing valid authorization header",
     "output_type": "error",
     "traceback": [
      "\u001b[0;31m---------------------------------------------------------------------------\u001b[0m",
      "\u001b[0;31mUnauthorizedClientError\u001b[0m                   Traceback (most recent call last)",
      "Cell \u001b[0;32mIn [56], line 2\u001b[0m\n\u001b[1;32m      1\u001b[0m \u001b[39m# Since access tokens in OAuth 2.0 only stay valid for two hours, you will need to refresh your token. Refresh tokens typically stay valid for about six months.\u001b[39;00m\n\u001b[0;32m----> 2\u001b[0m refreshed_token \u001b[39m=\u001b[39m twitter\u001b[39m.\u001b[39;49mrefresh_token(\n\u001b[1;32m      3\u001b[0m     client_id\u001b[39m=\u001b[39;49mclient_id,\n\u001b[1;32m      4\u001b[0m     client_secret\u001b[39m=\u001b[39;49mclient_secret,\n\u001b[1;32m      5\u001b[0m     token_url\u001b[39m=\u001b[39;49mtoken_url,\n\u001b[1;32m      6\u001b[0m     refresh_token\u001b[39m=\u001b[39;49mdata[\u001b[39m\"\u001b[39;49m\u001b[39mrefresh_token\u001b[39;49m\u001b[39m\"\u001b[39;49m],\n\u001b[1;32m      7\u001b[0m )\n",
      "File \u001b[0;32m/opt/homebrew/lib/python3.10/site-packages/requests_oauthlib/oauth2_session.py:452\u001b[0m, in \u001b[0;36mOAuth2Session.refresh_token\u001b[0;34m(self, token_url, refresh_token, body, auth, timeout, headers, verify, proxies, **kwargs)\u001b[0m\n\u001b[1;32m    449\u001b[0m     log\u001b[39m.\u001b[39mdebug(\u001b[39m\"\u001b[39m\u001b[39mInvoking hook \u001b[39m\u001b[39m%s\u001b[39;00m\u001b[39m.\u001b[39m\u001b[39m\"\u001b[39m, hook)\n\u001b[1;32m    450\u001b[0m     r \u001b[39m=\u001b[39m hook(r)\n\u001b[0;32m--> 452\u001b[0m \u001b[39mself\u001b[39m\u001b[39m.\u001b[39mtoken \u001b[39m=\u001b[39m \u001b[39mself\u001b[39;49m\u001b[39m.\u001b[39;49m_client\u001b[39m.\u001b[39;49mparse_request_body_response(r\u001b[39m.\u001b[39;49mtext, scope\u001b[39m=\u001b[39;49m\u001b[39mself\u001b[39;49m\u001b[39m.\u001b[39;49mscope)\n\u001b[1;32m    453\u001b[0m \u001b[39mif\u001b[39;00m \u001b[39mnot\u001b[39;00m \u001b[39m\"\u001b[39m\u001b[39mrefresh_token\u001b[39m\u001b[39m\"\u001b[39m \u001b[39min\u001b[39;00m \u001b[39mself\u001b[39m\u001b[39m.\u001b[39mtoken:\n\u001b[1;32m    454\u001b[0m     log\u001b[39m.\u001b[39mdebug(\u001b[39m\"\u001b[39m\u001b[39mNo new refresh token given. Re-using old.\u001b[39m\u001b[39m\"\u001b[39m)\n",
      "File \u001b[0;32m/opt/homebrew/lib/python3.10/site-packages/oauthlib/oauth2/rfc6749/clients/base.py:427\u001b[0m, in \u001b[0;36mClient.parse_request_body_response\u001b[0;34m(self, body, scope, **kwargs)\u001b[0m\n\u001b[1;32m    379\u001b[0m \u001b[39m\"\"\"Parse the JSON response body.\u001b[39;00m\n\u001b[1;32m    380\u001b[0m \n\u001b[1;32m    381\u001b[0m \u001b[39mIf the access token request is valid and authorized, the\u001b[39;00m\n\u001b[0;32m   (...)\u001b[0m\n\u001b[1;32m    424\u001b[0m \u001b[39m.. _`Section 7.1`: https://tools.ietf.org/html/rfc6749#section-7.1\u001b[39;00m\n\u001b[1;32m    425\u001b[0m \u001b[39m\"\"\"\u001b[39;00m\n\u001b[1;32m    426\u001b[0m scope \u001b[39m=\u001b[39m \u001b[39mself\u001b[39m\u001b[39m.\u001b[39mscope \u001b[39mif\u001b[39;00m scope \u001b[39mis\u001b[39;00m \u001b[39mNone\u001b[39;00m \u001b[39melse\u001b[39;00m scope\n\u001b[0;32m--> 427\u001b[0m \u001b[39mself\u001b[39m\u001b[39m.\u001b[39mtoken \u001b[39m=\u001b[39m parse_token_response(body, scope\u001b[39m=\u001b[39;49mscope)\n\u001b[1;32m    428\u001b[0m \u001b[39mself\u001b[39m\u001b[39m.\u001b[39mpopulate_token_attributes(\u001b[39mself\u001b[39m\u001b[39m.\u001b[39mtoken)\n\u001b[1;32m    429\u001b[0m \u001b[39mreturn\u001b[39;00m \u001b[39mself\u001b[39m\u001b[39m.\u001b[39mtoken\n",
      "File \u001b[0;32m/opt/homebrew/lib/python3.10/site-packages/oauthlib/oauth2/rfc6749/parameters.py:441\u001b[0m, in \u001b[0;36mparse_token_response\u001b[0;34m(body, scope)\u001b[0m\n\u001b[1;32m    438\u001b[0m         params[\u001b[39m'\u001b[39m\u001b[39mexpires_at\u001b[39m\u001b[39m'\u001b[39m] \u001b[39m=\u001b[39m time\u001b[39m.\u001b[39mtime() \u001b[39m+\u001b[39m \u001b[39mint\u001b[39m(params[\u001b[39m'\u001b[39m\u001b[39mexpires_in\u001b[39m\u001b[39m'\u001b[39m])\n\u001b[1;32m    440\u001b[0m params \u001b[39m=\u001b[39m OAuth2Token(params, old_scope\u001b[39m=\u001b[39mscope)\n\u001b[0;32m--> 441\u001b[0m validate_token_parameters(params)\n\u001b[1;32m    442\u001b[0m \u001b[39mreturn\u001b[39;00m params\n",
      "File \u001b[0;32m/opt/homebrew/lib/python3.10/site-packages/oauthlib/oauth2/rfc6749/parameters.py:448\u001b[0m, in \u001b[0;36mvalidate_token_parameters\u001b[0;34m(params)\u001b[0m\n\u001b[1;32m    446\u001b[0m \u001b[39m\"\"\"Ensures token presence, token type, expiration and scope in params.\"\"\"\u001b[39;00m\n\u001b[1;32m    447\u001b[0m \u001b[39mif\u001b[39;00m \u001b[39m'\u001b[39m\u001b[39merror\u001b[39m\u001b[39m'\u001b[39m \u001b[39min\u001b[39;00m params:\n\u001b[0;32m--> 448\u001b[0m     raise_from_error(params\u001b[39m.\u001b[39;49mget(\u001b[39m'\u001b[39;49m\u001b[39merror\u001b[39;49m\u001b[39m'\u001b[39;49m), params)\n\u001b[1;32m    450\u001b[0m \u001b[39mif\u001b[39;00m \u001b[39mnot\u001b[39;00m \u001b[39m'\u001b[39m\u001b[39maccess_token\u001b[39m\u001b[39m'\u001b[39m \u001b[39min\u001b[39;00m params:\n\u001b[1;32m    451\u001b[0m     \u001b[39mraise\u001b[39;00m MissingTokenError(description\u001b[39m=\u001b[39m\u001b[39m\"\u001b[39m\u001b[39mMissing access token parameter.\u001b[39m\u001b[39m\"\u001b[39m)\n",
      "File \u001b[0;32m/opt/homebrew/lib/python3.10/site-packages/oauthlib/oauth2/rfc6749/errors.py:399\u001b[0m, in \u001b[0;36mraise_from_error\u001b[0;34m(error, params)\u001b[0m\n\u001b[1;32m    397\u001b[0m \u001b[39mfor\u001b[39;00m _, \u001b[39mcls\u001b[39m \u001b[39min\u001b[39;00m inspect\u001b[39m.\u001b[39mgetmembers(sys\u001b[39m.\u001b[39mmodules[\u001b[39m__name__\u001b[39m], inspect\u001b[39m.\u001b[39misclass):\n\u001b[1;32m    398\u001b[0m     \u001b[39mif\u001b[39;00m \u001b[39mcls\u001b[39m\u001b[39m.\u001b[39merror \u001b[39m==\u001b[39m error:\n\u001b[0;32m--> 399\u001b[0m         \u001b[39mraise\u001b[39;00m \u001b[39mcls\u001b[39m(\u001b[39m*\u001b[39m\u001b[39m*\u001b[39mkwargs)\n\u001b[1;32m    400\u001b[0m \u001b[39mraise\u001b[39;00m CustomOAuth2Error(error\u001b[39m=\u001b[39merror, \u001b[39m*\u001b[39m\u001b[39m*\u001b[39mkwargs)\n",
      "\u001b[0;31mUnauthorizedClientError\u001b[0m: (unauthorized_client) Missing valid authorization header"
     ]
    }
   ],
   "source": [
    "\n",
    "# Since access tokens in OAuth 2.0 only stay valid for two hours, you will need to refresh your token. Refresh tokens typically stay valid for about six months.\n",
    "refreshed_token = twitter.refresh_token(\n",
    "    client_id=client_id,\n",
    "    client_secret=client_secret,\n",
    "    token_url=token_url,\n",
    "    refresh_token=data[\"refresh_token\"],\n",
    ")\n"
   ]
  },
  {
   "cell_type": "code",
   "execution_count": null,
   "metadata": {},
   "outputs": [],
   "source": [
    "\n",
    "# To save the token, you will need to ensure it has the proper quotations around it and load into a JSON object before you can save it back into Redis with the value of token.\n",
    "\n",
    "st_refreshed_token = '\"{}\"'.format(refreshed_token)\n",
    "j_refreshed_token = json.loads(st_refreshed_token)\n",
    "main.r.set(\"token\", j_refreshed_token)\n"
   ]
  },
  {
   "cell_type": "code",
   "execution_count": null,
   "metadata": {},
   "outputs": [],
   "source": [
    "\n",
    "# After saving the newly refreshed token back into Redis, now you can obtain a new cat fact from the cat fact API, pass that into a JSON payload, and Tweet.\n",
    "\n",
    "caty_fact = main.parse_cat_fact()\n",
    "payload = {\"text\": \"{}\".format(caty_fact)}\n",
    "main.post_tweet(payload, refreshed_token)"
   ]
  }
 ],
 "metadata": {
  "kernelspec": {
   "display_name": "Python 3.10.8 64-bit",
   "language": "python",
   "name": "python3"
  },
  "language_info": {
   "codemirror_mode": {
    "name": "ipython",
    "version": 3
   },
   "file_extension": ".py",
   "mimetype": "text/x-python",
   "name": "python",
   "nbconvert_exporter": "python",
   "pygments_lexer": "ipython3",
   "version": "3.10.8"
  },
  "orig_nbformat": 4,
  "vscode": {
   "interpreter": {
    "hash": "b0fa6594d8f4cbf19f97940f81e996739fb7646882a419484c72d19e05852a7e"
   }
  }
 },
 "nbformat": 4,
 "nbformat_minor": 2
}
